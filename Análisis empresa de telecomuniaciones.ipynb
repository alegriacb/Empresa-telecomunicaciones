{
 "cells": [
  {
   "cell_type": "markdown",
   "metadata": {
    "id": "3rYiDeEH0q0f"
   },
   "source": [
    "# ¿Cuál es la mejor tarifa?\n",
    "\n",
    "Trabajas como analista para el operador de telecomunicaciones Megaline. La empresa ofrece a sus clientes dos tarifas de prepago, Surf y Ultimate. El departamento comercial quiere saber cuál de las tarifas genera más ingresos para poder ajustar el presupuesto de publicidad.\n",
    "\n",
    "Vas a realizar un análisis preliminar de las tarifas basado en una selección de clientes relativamente pequeña. Tendrás los datos de 500 clientes de Megaline: quiénes son los clientes, de dónde son, qué tarifa usan, así como la cantidad de llamadas que hicieron y los mensajes de texto que enviaron en 2018. Tu trabajo es analizar el comportamiento de los clientes y determinar qué tarifa de prepago genera más ingresos."
   ]
  },
  {
   "cell_type": "markdown",
   "metadata": {
    "id": "MQi4IPy70q0y"
   },
   "source": [
    "## Inicialización"
   ]
  },
  {
   "cell_type": "markdown",
   "metadata": {
    "id": "VNddPNRQ0q0w"
   },
   "source": [
    "En este proyecto se va a relalizar un análisis de una muestra de datos para dos tipos de planes diferentes de la empresa Megaline. El propósito de este análisis es identificar que plan proporciona mayor cantidad de ingresos para la empresa. Para esto primero se va a realizar un limpieza de datos para contar con los datos correctos paa todo el análisis. Porteriormente se crearán tablas agreguapas donde de junten los datos necesarios para poder trabajar y objeter estadísticas necesarias. A partir de estas tablas se hará un análisis estadístico con gráficos para identificar la distribución de los datos y un resumen estadístico de la media, varianza y desviacióne estandar como otra perspectiva para comprender el comportamiento de los usuarios. Finalmente se realizará una prueba de hipótesis donde se responderá a la pregunta sobre si las tarifas por plan son iguales o no y si las tarifas para la ciudad de NY-NJ difiere del resto de ciudades. "
   ]
  },
  {
   "cell_type": "code",
   "execution_count": 1,
   "metadata": {
    "id": "MtYIuBxu0q0z"
   },
   "outputs": [],
   "source": [
    "# Cargar todas las librerías que puedan ser necesarias \n",
    "import pandas as pd\n",
    "import numpy as np \n",
    "from scipy import stats as st \n",
    "import math as mt\n",
    "from math import factorial \n",
    "import seaborn as sns \n",
    "from matplotlib import pyplot as plt\n"
   ]
  },
  {
   "cell_type": "markdown",
   "metadata": {
    "id": "4ysWWC5i0q00"
   },
   "source": [
    "## Cargar datos"
   ]
  },
  {
   "cell_type": "code",
   "execution_count": 2,
   "metadata": {
    "id": "CCqPW7rS0q01"
   },
   "outputs": [],
   "source": [
    "# Carga los archivos de datos en diferentes DataFrames\n",
    "tarifas = pd.read_csv ('/datasets/megaline_plans.csv')\n",
    "usuarios = pd.read_csv ('/datasets/megaline_users.csv')\n",
    "llamadas = pd.read_csv ('/datasets/megaline_calls.csv')\n",
    "mensajes = pd.read_csv ('/datasets/megaline_messages.csv')\n",
    "internet = pd.read_csv ('/datasets/megaline_internet.csv')\n"
   ]
  },
  {
   "cell_type": "markdown",
   "metadata": {
    "id": "69qqoJ3r0q01"
   },
   "source": [
    "## Preparar los datos"
   ]
  },
  {
   "cell_type": "markdown",
   "metadata": {
    "id": "ohBhimvH0q01"
   },
   "source": [
    "## Tarifas"
   ]
  },
  {
   "cell_type": "code",
   "execution_count": 3,
   "metadata": {
    "id": "GptqP3Q40q02"
   },
   "outputs": [
    {
     "name": "stdout",
     "output_type": "stream",
     "text": [
      "<class 'pandas.core.frame.DataFrame'>\n",
      "RangeIndex: 2 entries, 0 to 1\n",
      "Data columns (total 8 columns):\n",
      " #   Column                 Non-Null Count  Dtype  \n",
      "---  ------                 --------------  -----  \n",
      " 0   messages_included      2 non-null      int64  \n",
      " 1   mb_per_month_included  2 non-null      int64  \n",
      " 2   minutes_included       2 non-null      int64  \n",
      " 3   usd_monthly_pay        2 non-null      int64  \n",
      " 4   usd_per_gb             2 non-null      int64  \n",
      " 5   usd_per_message        2 non-null      float64\n",
      " 6   usd_per_minute         2 non-null      float64\n",
      " 7   plan_name              2 non-null      object \n",
      "dtypes: float64(2), int64(5), object(1)\n",
      "memory usage: 256.0+ bytes\n"
     ]
    }
   ],
   "source": [
    "# Imprime la información general/resumida sobre el DataFrame de las tarifas\n",
    "tarifas.info()\n"
   ]
  },
  {
   "cell_type": "code",
   "execution_count": 4,
   "metadata": {
    "id": "64xzjwL70q02"
   },
   "outputs": [
    {
     "data": {
      "text/html": [
       "<div>\n",
       "<style scoped>\n",
       "    .dataframe tbody tr th:only-of-type {\n",
       "        vertical-align: middle;\n",
       "    }\n",
       "\n",
       "    .dataframe tbody tr th {\n",
       "        vertical-align: top;\n",
       "    }\n",
       "\n",
       "    .dataframe thead th {\n",
       "        text-align: right;\n",
       "    }\n",
       "</style>\n",
       "<table border=\"1\" class=\"dataframe\">\n",
       "  <thead>\n",
       "    <tr style=\"text-align: right;\">\n",
       "      <th></th>\n",
       "      <th>messages_included</th>\n",
       "      <th>mb_per_month_included</th>\n",
       "      <th>minutes_included</th>\n",
       "      <th>usd_monthly_pay</th>\n",
       "      <th>usd_per_gb</th>\n",
       "      <th>usd_per_message</th>\n",
       "      <th>usd_per_minute</th>\n",
       "      <th>plan_name</th>\n",
       "    </tr>\n",
       "  </thead>\n",
       "  <tbody>\n",
       "    <tr>\n",
       "      <th>0</th>\n",
       "      <td>50</td>\n",
       "      <td>15360</td>\n",
       "      <td>500</td>\n",
       "      <td>20</td>\n",
       "      <td>10</td>\n",
       "      <td>0.03</td>\n",
       "      <td>0.03</td>\n",
       "      <td>surf</td>\n",
       "    </tr>\n",
       "    <tr>\n",
       "      <th>1</th>\n",
       "      <td>1000</td>\n",
       "      <td>30720</td>\n",
       "      <td>3000</td>\n",
       "      <td>70</td>\n",
       "      <td>7</td>\n",
       "      <td>0.01</td>\n",
       "      <td>0.01</td>\n",
       "      <td>ultimate</td>\n",
       "    </tr>\n",
       "  </tbody>\n",
       "</table>\n",
       "</div>"
      ],
      "text/plain": [
       "   messages_included  mb_per_month_included  minutes_included  \\\n",
       "0                 50                  15360               500   \n",
       "1               1000                  30720              3000   \n",
       "\n",
       "   usd_monthly_pay  usd_per_gb  usd_per_message  usd_per_minute plan_name  \n",
       "0               20          10             0.03            0.03      surf  \n",
       "1               70           7             0.01            0.01  ultimate  "
      ]
     },
     "execution_count": 4,
     "metadata": {},
     "output_type": "execute_result"
    }
   ],
   "source": [
    "# Imprime una muestra de los datos para las tarifas\n",
    "tarifas.head()\n"
   ]
  },
  {
   "cell_type": "markdown",
   "metadata": {
    "id": "mEc_3_hs0q02"
   },
   "source": [
    "Se puede ver que no se presentan datos nulos en ninguna columna. Los tipos de datos para cada una son corrctos por lo que no se necsita modificación. Respecto a cambios, se puede trasnformar la columna mb pero month included a gb ya que esa es la unidad de medición con la que se va a trabajar para el análisis. "
   ]
  },
  {
   "cell_type": "markdown",
   "metadata": {
    "id": "R3C05i1l0q03"
   },
   "source": [
    "## Corregir datos"
   ]
  },
  {
   "cell_type": "code",
   "execution_count": 5,
   "metadata": {
    "id": "bIi8StZI0q03"
   },
   "outputs": [
    {
     "data": {
      "text/html": [
       "<div>\n",
       "<style scoped>\n",
       "    .dataframe tbody tr th:only-of-type {\n",
       "        vertical-align: middle;\n",
       "    }\n",
       "\n",
       "    .dataframe tbody tr th {\n",
       "        vertical-align: top;\n",
       "    }\n",
       "\n",
       "    .dataframe thead th {\n",
       "        text-align: right;\n",
       "    }\n",
       "</style>\n",
       "<table border=\"1\" class=\"dataframe\">\n",
       "  <thead>\n",
       "    <tr style=\"text-align: right;\">\n",
       "      <th></th>\n",
       "      <th>messages_included</th>\n",
       "      <th>mb_per_month_included</th>\n",
       "      <th>minutes_included</th>\n",
       "      <th>usd_monthly_pay</th>\n",
       "      <th>usd_per_gb</th>\n",
       "      <th>usd_per_message</th>\n",
       "      <th>usd_per_minute</th>\n",
       "      <th>plan_name</th>\n",
       "      <th>gb_included</th>\n",
       "    </tr>\n",
       "  </thead>\n",
       "  <tbody>\n",
       "    <tr>\n",
       "      <th>0</th>\n",
       "      <td>50</td>\n",
       "      <td>15360</td>\n",
       "      <td>500</td>\n",
       "      <td>20</td>\n",
       "      <td>10</td>\n",
       "      <td>0.03</td>\n",
       "      <td>0.03</td>\n",
       "      <td>surf</td>\n",
       "      <td>15.0</td>\n",
       "    </tr>\n",
       "    <tr>\n",
       "      <th>1</th>\n",
       "      <td>1000</td>\n",
       "      <td>30720</td>\n",
       "      <td>3000</td>\n",
       "      <td>70</td>\n",
       "      <td>7</td>\n",
       "      <td>0.01</td>\n",
       "      <td>0.01</td>\n",
       "      <td>ultimate</td>\n",
       "      <td>30.0</td>\n",
       "    </tr>\n",
       "  </tbody>\n",
       "</table>\n",
       "</div>"
      ],
      "text/plain": [
       "   messages_included  mb_per_month_included  minutes_included  \\\n",
       "0                 50                  15360               500   \n",
       "1               1000                  30720              3000   \n",
       "\n",
       "   usd_monthly_pay  usd_per_gb  usd_per_message  usd_per_minute plan_name  \\\n",
       "0               20          10             0.03            0.03      surf   \n",
       "1               70           7             0.01            0.01  ultimate   \n",
       "\n",
       "   gb_included  \n",
       "0         15.0  \n",
       "1         30.0  "
      ]
     },
     "execution_count": 5,
     "metadata": {},
     "output_type": "execute_result"
    }
   ],
   "source": [
    "#tranformar a gb incluidas los mb incluidos al mes. \n",
    "tarifas ['gb_included'] = tarifas ['mb_per_month_included']/1024\n",
    "tarifas.head()"
   ]
  },
  {
   "cell_type": "code",
   "execution_count": 6,
   "metadata": {},
   "outputs": [
    {
     "data": {
      "text/html": [
       "<div>\n",
       "<style scoped>\n",
       "    .dataframe tbody tr th:only-of-type {\n",
       "        vertical-align: middle;\n",
       "    }\n",
       "\n",
       "    .dataframe tbody tr th {\n",
       "        vertical-align: top;\n",
       "    }\n",
       "\n",
       "    .dataframe thead th {\n",
       "        text-align: right;\n",
       "    }\n",
       "</style>\n",
       "<table border=\"1\" class=\"dataframe\">\n",
       "  <thead>\n",
       "    <tr style=\"text-align: right;\">\n",
       "      <th></th>\n",
       "      <th>messages_included</th>\n",
       "      <th>minutes_included</th>\n",
       "      <th>usd_monthly_pay</th>\n",
       "      <th>usd_per_gb</th>\n",
       "      <th>usd_per_message</th>\n",
       "      <th>usd_per_minute</th>\n",
       "      <th>plan_name</th>\n",
       "      <th>gb_included</th>\n",
       "    </tr>\n",
       "  </thead>\n",
       "  <tbody>\n",
       "    <tr>\n",
       "      <th>0</th>\n",
       "      <td>50</td>\n",
       "      <td>500</td>\n",
       "      <td>20</td>\n",
       "      <td>10</td>\n",
       "      <td>0.03</td>\n",
       "      <td>0.03</td>\n",
       "      <td>surf</td>\n",
       "      <td>15.0</td>\n",
       "    </tr>\n",
       "    <tr>\n",
       "      <th>1</th>\n",
       "      <td>1000</td>\n",
       "      <td>3000</td>\n",
       "      <td>70</td>\n",
       "      <td>7</td>\n",
       "      <td>0.01</td>\n",
       "      <td>0.01</td>\n",
       "      <td>ultimate</td>\n",
       "      <td>30.0</td>\n",
       "    </tr>\n",
       "  </tbody>\n",
       "</table>\n",
       "</div>"
      ],
      "text/plain": [
       "   messages_included  minutes_included  usd_monthly_pay  usd_per_gb  \\\n",
       "0                 50               500               20          10   \n",
       "1               1000              3000               70           7   \n",
       "\n",
       "   usd_per_message  usd_per_minute plan_name  gb_included  \n",
       "0             0.03            0.03      surf         15.0  \n",
       "1             0.01            0.01  ultimate         30.0  "
      ]
     },
     "execution_count": 6,
     "metadata": {},
     "output_type": "execute_result"
    }
   ],
   "source": [
    " #eliminar la columna de mb que ya no sirve para futuros calculos\n",
    "tarifas.drop(columns = ['mb_per_month_included'], inplace = True)\n",
    "tarifas.head()"
   ]
  },
  {
   "cell_type": "markdown",
   "metadata": {
    "id": "LJir7bml0q03"
   },
   "source": [
    "## Enriquecer los datos"
   ]
  },
  {
   "cell_type": "code",
   "execution_count": 7,
   "metadata": {
    "id": "eqADpCfg0q04"
   },
   "outputs": [
    {
     "data": {
      "text/html": [
       "<div>\n",
       "<style scoped>\n",
       "    .dataframe tbody tr th:only-of-type {\n",
       "        vertical-align: middle;\n",
       "    }\n",
       "\n",
       "    .dataframe tbody tr th {\n",
       "        vertical-align: top;\n",
       "    }\n",
       "\n",
       "    .dataframe thead th {\n",
       "        text-align: right;\n",
       "    }\n",
       "</style>\n",
       "<table border=\"1\" class=\"dataframe\">\n",
       "  <thead>\n",
       "    <tr style=\"text-align: right;\">\n",
       "      <th></th>\n",
       "      <th>messages_included</th>\n",
       "      <th>minutes_included</th>\n",
       "      <th>usd_monthly_pay</th>\n",
       "      <th>usd_per_gb</th>\n",
       "      <th>usd_per_message</th>\n",
       "      <th>usd_per_minute</th>\n",
       "      <th>plan</th>\n",
       "      <th>gb_included</th>\n",
       "    </tr>\n",
       "  </thead>\n",
       "  <tbody>\n",
       "    <tr>\n",
       "      <th>0</th>\n",
       "      <td>50</td>\n",
       "      <td>500</td>\n",
       "      <td>20</td>\n",
       "      <td>10</td>\n",
       "      <td>0.03</td>\n",
       "      <td>0.03</td>\n",
       "      <td>surf</td>\n",
       "      <td>15.0</td>\n",
       "    </tr>\n",
       "    <tr>\n",
       "      <th>1</th>\n",
       "      <td>1000</td>\n",
       "      <td>3000</td>\n",
       "      <td>70</td>\n",
       "      <td>7</td>\n",
       "      <td>0.01</td>\n",
       "      <td>0.01</td>\n",
       "      <td>ultimate</td>\n",
       "      <td>30.0</td>\n",
       "    </tr>\n",
       "  </tbody>\n",
       "</table>\n",
       "</div>"
      ],
      "text/plain": [
       "   messages_included  minutes_included  usd_monthly_pay  usd_per_gb  \\\n",
       "0                 50               500               20          10   \n",
       "1               1000              3000               70           7   \n",
       "\n",
       "   usd_per_message  usd_per_minute      plan  gb_included  \n",
       "0             0.03            0.03      surf         15.0  \n",
       "1             0.01            0.01  ultimate         30.0  "
      ]
     },
     "execution_count": 7,
     "metadata": {},
     "output_type": "execute_result"
    }
   ],
   "source": [
    "#cambiar el nombre plan_name a name para poder cruzar con las otras tablas\n",
    "tarifas.rename(columns = {'plan_name': 'plan'}, inplace = True) \n",
    "tarifas.head()"
   ]
  },
  {
   "cell_type": "markdown",
   "metadata": {
    "id": "1n2X6WXf0q04"
   },
   "source": [
    "## Usuarios/as"
   ]
  },
  {
   "cell_type": "code",
   "execution_count": 8,
   "metadata": {
    "id": "2NgjWFqx0q05"
   },
   "outputs": [
    {
     "name": "stdout",
     "output_type": "stream",
     "text": [
      "<class 'pandas.core.frame.DataFrame'>\n",
      "RangeIndex: 500 entries, 0 to 499\n",
      "Data columns (total 8 columns):\n",
      " #   Column      Non-Null Count  Dtype \n",
      "---  ------      --------------  ----- \n",
      " 0   user_id     500 non-null    int64 \n",
      " 1   first_name  500 non-null    object\n",
      " 2   last_name   500 non-null    object\n",
      " 3   age         500 non-null    int64 \n",
      " 4   city        500 non-null    object\n",
      " 5   reg_date    500 non-null    object\n",
      " 6   plan        500 non-null    object\n",
      " 7   churn_date  34 non-null     object\n",
      "dtypes: int64(2), object(6)\n",
      "memory usage: 31.4+ KB\n"
     ]
    }
   ],
   "source": [
    "# Imprime la información general/resumida sobre el DataFrame de usuarios\n",
    "usuarios.info()\n"
   ]
  },
  {
   "cell_type": "code",
   "execution_count": 9,
   "metadata": {
    "id": "1IN1L9uh0q05"
   },
   "outputs": [
    {
     "data": {
      "text/html": [
       "<div>\n",
       "<style scoped>\n",
       "    .dataframe tbody tr th:only-of-type {\n",
       "        vertical-align: middle;\n",
       "    }\n",
       "\n",
       "    .dataframe tbody tr th {\n",
       "        vertical-align: top;\n",
       "    }\n",
       "\n",
       "    .dataframe thead th {\n",
       "        text-align: right;\n",
       "    }\n",
       "</style>\n",
       "<table border=\"1\" class=\"dataframe\">\n",
       "  <thead>\n",
       "    <tr style=\"text-align: right;\">\n",
       "      <th></th>\n",
       "      <th>user_id</th>\n",
       "      <th>first_name</th>\n",
       "      <th>last_name</th>\n",
       "      <th>age</th>\n",
       "      <th>city</th>\n",
       "      <th>reg_date</th>\n",
       "      <th>plan</th>\n",
       "      <th>churn_date</th>\n",
       "    </tr>\n",
       "  </thead>\n",
       "  <tbody>\n",
       "    <tr>\n",
       "      <th>0</th>\n",
       "      <td>1000</td>\n",
       "      <td>Anamaria</td>\n",
       "      <td>Bauer</td>\n",
       "      <td>45</td>\n",
       "      <td>Atlanta-Sandy Springs-Roswell, GA MSA</td>\n",
       "      <td>2018-12-24</td>\n",
       "      <td>ultimate</td>\n",
       "      <td>NaN</td>\n",
       "    </tr>\n",
       "    <tr>\n",
       "      <th>1</th>\n",
       "      <td>1001</td>\n",
       "      <td>Mickey</td>\n",
       "      <td>Wilkerson</td>\n",
       "      <td>28</td>\n",
       "      <td>Seattle-Tacoma-Bellevue, WA MSA</td>\n",
       "      <td>2018-08-13</td>\n",
       "      <td>surf</td>\n",
       "      <td>NaN</td>\n",
       "    </tr>\n",
       "    <tr>\n",
       "      <th>2</th>\n",
       "      <td>1002</td>\n",
       "      <td>Carlee</td>\n",
       "      <td>Hoffman</td>\n",
       "      <td>36</td>\n",
       "      <td>Las Vegas-Henderson-Paradise, NV MSA</td>\n",
       "      <td>2018-10-21</td>\n",
       "      <td>surf</td>\n",
       "      <td>NaN</td>\n",
       "    </tr>\n",
       "    <tr>\n",
       "      <th>3</th>\n",
       "      <td>1003</td>\n",
       "      <td>Reynaldo</td>\n",
       "      <td>Jenkins</td>\n",
       "      <td>52</td>\n",
       "      <td>Tulsa, OK MSA</td>\n",
       "      <td>2018-01-28</td>\n",
       "      <td>surf</td>\n",
       "      <td>NaN</td>\n",
       "    </tr>\n",
       "    <tr>\n",
       "      <th>4</th>\n",
       "      <td>1004</td>\n",
       "      <td>Leonila</td>\n",
       "      <td>Thompson</td>\n",
       "      <td>40</td>\n",
       "      <td>Seattle-Tacoma-Bellevue, WA MSA</td>\n",
       "      <td>2018-05-23</td>\n",
       "      <td>surf</td>\n",
       "      <td>NaN</td>\n",
       "    </tr>\n",
       "  </tbody>\n",
       "</table>\n",
       "</div>"
      ],
      "text/plain": [
       "   user_id first_name  last_name  age                                   city  \\\n",
       "0     1000   Anamaria      Bauer   45  Atlanta-Sandy Springs-Roswell, GA MSA   \n",
       "1     1001     Mickey  Wilkerson   28        Seattle-Tacoma-Bellevue, WA MSA   \n",
       "2     1002     Carlee    Hoffman   36   Las Vegas-Henderson-Paradise, NV MSA   \n",
       "3     1003   Reynaldo    Jenkins   52                          Tulsa, OK MSA   \n",
       "4     1004    Leonila   Thompson   40        Seattle-Tacoma-Bellevue, WA MSA   \n",
       "\n",
       "     reg_date      plan churn_date  \n",
       "0  2018-12-24  ultimate        NaN  \n",
       "1  2018-08-13      surf        NaN  \n",
       "2  2018-10-21      surf        NaN  \n",
       "3  2018-01-28      surf        NaN  \n",
       "4  2018-05-23      surf        NaN  "
      ]
     },
     "execution_count": 9,
     "metadata": {},
     "output_type": "execute_result"
    }
   ],
   "source": [
    "# Imprime una muestra de datos para usuarios\n",
    "usuarios.head()\n"
   ]
  },
  {
   "cell_type": "markdown",
   "metadata": {
    "id": "dCZoUq4f0q06"
   },
   "source": [
    "Se puede ver que se tienen datos NaN en la columna churn date, sin embargo, se puede decir que está bien ya que representa que el cliente no ha dado de baja el servicio. Respecto al tipo de datos, para la columna reg date y churn date es necesario transformar a formato datetime para poder extraer el mes sin problemas posteriormente ya que todo el análisis se hará respecto a los meses. "
   ]
  },
  {
   "cell_type": "markdown",
   "metadata": {
    "id": "BX5FQh_I0q06"
   },
   "source": [
    "### Corregir los datos"
   ]
  },
  {
   "cell_type": "code",
   "execution_count": 10,
   "metadata": {
    "id": "yUqX-K0C0q07"
   },
   "outputs": [],
   "source": [
    "#trasformar las columnas de que muestran fechas de formato object a formato datetime para poder trabajarlas correctamente. \n",
    "usuarios ['reg_date'] = pd.to_datetime (usuarios ['reg_date'], format = '%Y-%m-%d')\n",
    "usuarios ['churn_date'] = pd.to_datetime (usuarios ['churn_date'], format = '%Y-%m-%d')"
   ]
  },
  {
   "cell_type": "code",
   "execution_count": 11,
   "metadata": {},
   "outputs": [
    {
     "name": "stdout",
     "output_type": "stream",
     "text": [
      "<class 'pandas.core.frame.DataFrame'>\n",
      "RangeIndex: 500 entries, 0 to 499\n",
      "Data columns (total 8 columns):\n",
      " #   Column      Non-Null Count  Dtype         \n",
      "---  ------      --------------  -----         \n",
      " 0   user_id     500 non-null    int64         \n",
      " 1   first_name  500 non-null    object        \n",
      " 2   last_name   500 non-null    object        \n",
      " 3   age         500 non-null    int64         \n",
      " 4   city        500 non-null    object        \n",
      " 5   reg_date    500 non-null    datetime64[ns]\n",
      " 6   plan        500 non-null    object        \n",
      " 7   churn_date  34 non-null     datetime64[ns]\n",
      "dtypes: datetime64[ns](2), int64(2), object(4)\n",
      "memory usage: 31.4+ KB\n"
     ]
    }
   ],
   "source": [
    "usuarios.info()"
   ]
  },
  {
   "cell_type": "code",
   "execution_count": 12,
   "metadata": {},
   "outputs": [
    {
     "data": {
      "text/html": [
       "<div>\n",
       "<style scoped>\n",
       "    .dataframe tbody tr th:only-of-type {\n",
       "        vertical-align: middle;\n",
       "    }\n",
       "\n",
       "    .dataframe tbody tr th {\n",
       "        vertical-align: top;\n",
       "    }\n",
       "\n",
       "    .dataframe thead th {\n",
       "        text-align: right;\n",
       "    }\n",
       "</style>\n",
       "<table border=\"1\" class=\"dataframe\">\n",
       "  <thead>\n",
       "    <tr style=\"text-align: right;\">\n",
       "      <th></th>\n",
       "      <th>user_id</th>\n",
       "      <th>age</th>\n",
       "    </tr>\n",
       "  </thead>\n",
       "  <tbody>\n",
       "    <tr>\n",
       "      <th>count</th>\n",
       "      <td>500.000000</td>\n",
       "      <td>500.000000</td>\n",
       "    </tr>\n",
       "    <tr>\n",
       "      <th>mean</th>\n",
       "      <td>1249.500000</td>\n",
       "      <td>45.486000</td>\n",
       "    </tr>\n",
       "    <tr>\n",
       "      <th>std</th>\n",
       "      <td>144.481833</td>\n",
       "      <td>16.972269</td>\n",
       "    </tr>\n",
       "    <tr>\n",
       "      <th>min</th>\n",
       "      <td>1000.000000</td>\n",
       "      <td>18.000000</td>\n",
       "    </tr>\n",
       "    <tr>\n",
       "      <th>25%</th>\n",
       "      <td>1124.750000</td>\n",
       "      <td>30.000000</td>\n",
       "    </tr>\n",
       "    <tr>\n",
       "      <th>50%</th>\n",
       "      <td>1249.500000</td>\n",
       "      <td>46.000000</td>\n",
       "    </tr>\n",
       "    <tr>\n",
       "      <th>75%</th>\n",
       "      <td>1374.250000</td>\n",
       "      <td>61.000000</td>\n",
       "    </tr>\n",
       "    <tr>\n",
       "      <th>max</th>\n",
       "      <td>1499.000000</td>\n",
       "      <td>75.000000</td>\n",
       "    </tr>\n",
       "  </tbody>\n",
       "</table>\n",
       "</div>"
      ],
      "text/plain": [
       "           user_id         age\n",
       "count   500.000000  500.000000\n",
       "mean   1249.500000   45.486000\n",
       "std     144.481833   16.972269\n",
       "min    1000.000000   18.000000\n",
       "25%    1124.750000   30.000000\n",
       "50%    1249.500000   46.000000\n",
       "75%    1374.250000   61.000000\n",
       "max    1499.000000   75.000000"
      ]
     },
     "execution_count": 12,
     "metadata": {},
     "output_type": "execute_result"
    }
   ],
   "source": [
    "#se obtiene la distribución de la columna age principalmente para conocer el rango de edades con las que se está trabajando\n",
    "usuarios.describe()"
   ]
  },
  {
   "cell_type": "markdown",
   "metadata": {
    "id": "ycwuARJp0q07"
   },
   "source": [
    "### Enriquecer los datos"
   ]
  },
  {
   "cell_type": "markdown",
   "metadata": {
    "id": "96NIh4CJ0q08"
   },
   "source": [
    "No se requiere agregar nuevas columnas ni modificar el dataset, ya que es información general de los usuarios. "
   ]
  },
  {
   "cell_type": "markdown",
   "metadata": {
    "id": "o7MeKCid0q08"
   },
   "source": [
    "## Llamadas"
   ]
  },
  {
   "cell_type": "code",
   "execution_count": 13,
   "metadata": {
    "id": "6dDlnoDm0q08"
   },
   "outputs": [
    {
     "name": "stdout",
     "output_type": "stream",
     "text": [
      "<class 'pandas.core.frame.DataFrame'>\n",
      "RangeIndex: 137735 entries, 0 to 137734\n",
      "Data columns (total 4 columns):\n",
      " #   Column     Non-Null Count   Dtype  \n",
      "---  ------     --------------   -----  \n",
      " 0   id         137735 non-null  object \n",
      " 1   user_id    137735 non-null  int64  \n",
      " 2   call_date  137735 non-null  object \n",
      " 3   duration   137735 non-null  float64\n",
      "dtypes: float64(1), int64(1), object(2)\n",
      "memory usage: 4.2+ MB\n"
     ]
    }
   ],
   "source": [
    "# Imprime la información general/resumida sobre el DataFrame de las llamadas\n",
    "llamadas.info()\n"
   ]
  },
  {
   "cell_type": "code",
   "execution_count": 14,
   "metadata": {
    "id": "kuh1vlNB0q09"
   },
   "outputs": [
    {
     "data": {
      "text/html": [
       "<div>\n",
       "<style scoped>\n",
       "    .dataframe tbody tr th:only-of-type {\n",
       "        vertical-align: middle;\n",
       "    }\n",
       "\n",
       "    .dataframe tbody tr th {\n",
       "        vertical-align: top;\n",
       "    }\n",
       "\n",
       "    .dataframe thead th {\n",
       "        text-align: right;\n",
       "    }\n",
       "</style>\n",
       "<table border=\"1\" class=\"dataframe\">\n",
       "  <thead>\n",
       "    <tr style=\"text-align: right;\">\n",
       "      <th></th>\n",
       "      <th>id</th>\n",
       "      <th>user_id</th>\n",
       "      <th>call_date</th>\n",
       "      <th>duration</th>\n",
       "    </tr>\n",
       "  </thead>\n",
       "  <tbody>\n",
       "    <tr>\n",
       "      <th>0</th>\n",
       "      <td>1000_93</td>\n",
       "      <td>1000</td>\n",
       "      <td>2018-12-27</td>\n",
       "      <td>8.52</td>\n",
       "    </tr>\n",
       "    <tr>\n",
       "      <th>1</th>\n",
       "      <td>1000_145</td>\n",
       "      <td>1000</td>\n",
       "      <td>2018-12-27</td>\n",
       "      <td>13.66</td>\n",
       "    </tr>\n",
       "    <tr>\n",
       "      <th>2</th>\n",
       "      <td>1000_247</td>\n",
       "      <td>1000</td>\n",
       "      <td>2018-12-27</td>\n",
       "      <td>14.48</td>\n",
       "    </tr>\n",
       "    <tr>\n",
       "      <th>3</th>\n",
       "      <td>1000_309</td>\n",
       "      <td>1000</td>\n",
       "      <td>2018-12-28</td>\n",
       "      <td>5.76</td>\n",
       "    </tr>\n",
       "    <tr>\n",
       "      <th>4</th>\n",
       "      <td>1000_380</td>\n",
       "      <td>1000</td>\n",
       "      <td>2018-12-30</td>\n",
       "      <td>4.22</td>\n",
       "    </tr>\n",
       "  </tbody>\n",
       "</table>\n",
       "</div>"
      ],
      "text/plain": [
       "         id  user_id   call_date  duration\n",
       "0   1000_93     1000  2018-12-27      8.52\n",
       "1  1000_145     1000  2018-12-27     13.66\n",
       "2  1000_247     1000  2018-12-27     14.48\n",
       "3  1000_309     1000  2018-12-28      5.76\n",
       "4  1000_380     1000  2018-12-30      4.22"
      ]
     },
     "execution_count": 14,
     "metadata": {},
     "output_type": "execute_result"
    }
   ],
   "source": [
    "# Imprime una muestra de datos para las llamadas\n",
    "llamadas.head()"
   ]
  },
  {
   "cell_type": "markdown",
   "metadata": {
    "id": "DOAxYJSx0q09"
   },
   "source": [
    "No se presentan datos nulos. Respecto al tipo de datos, se debe tranformar a formato datetime la columna call date para manejarlos correctamente. La columna duration debe ser redondeada para arriba y transformada a enntero. "
   ]
  },
  {
   "cell_type": "markdown",
   "metadata": {
    "id": "S7hzxmbX0q0-"
   },
   "source": [
    "### Corregir los datos"
   ]
  },
  {
   "cell_type": "code",
   "execution_count": 15,
   "metadata": {},
   "outputs": [],
   "source": [
    "#transformar call date a formato datetime \n",
    "llamadas['call_date'] = pd.to_datetime (llamadas ['call_date'], format = '%Y-%m-%d')"
   ]
  },
  {
   "cell_type": "code",
   "execution_count": 16,
   "metadata": {},
   "outputs": [
    {
     "name": "stdout",
     "output_type": "stream",
     "text": [
      "<class 'pandas.core.frame.DataFrame'>\n",
      "RangeIndex: 137735 entries, 0 to 137734\n",
      "Data columns (total 4 columns):\n",
      " #   Column     Non-Null Count   Dtype         \n",
      "---  ------     --------------   -----         \n",
      " 0   id         137735 non-null  object        \n",
      " 1   user_id    137735 non-null  int64         \n",
      " 2   call_date  137735 non-null  datetime64[ns]\n",
      " 3   duration   137735 non-null  float64       \n",
      "dtypes: datetime64[ns](1), float64(1), int64(1), object(1)\n",
      "memory usage: 4.2+ MB\n"
     ]
    }
   ],
   "source": [
    "llamadas.info()"
   ]
  },
  {
   "cell_type": "code",
   "execution_count": 17,
   "metadata": {
    "id": "S2r8xA4f0q0-"
   },
   "outputs": [],
   "source": [
    "#redondear las duración de las llamadas hacia arriba \n",
    "llamadas['duration_round'] = llamadas['duration'].apply (np.ceil)\n",
    "llamadas ['duration_round'] = llamadas ['duration_round'].astype ('int')"
   ]
  },
  {
   "cell_type": "code",
   "execution_count": 18,
   "metadata": {},
   "outputs": [
    {
     "data": {
      "text/html": [
       "<div>\n",
       "<style scoped>\n",
       "    .dataframe tbody tr th:only-of-type {\n",
       "        vertical-align: middle;\n",
       "    }\n",
       "\n",
       "    .dataframe tbody tr th {\n",
       "        vertical-align: top;\n",
       "    }\n",
       "\n",
       "    .dataframe thead th {\n",
       "        text-align: right;\n",
       "    }\n",
       "</style>\n",
       "<table border=\"1\" class=\"dataframe\">\n",
       "  <thead>\n",
       "    <tr style=\"text-align: right;\">\n",
       "      <th></th>\n",
       "      <th>id</th>\n",
       "      <th>user_id</th>\n",
       "      <th>call_date</th>\n",
       "      <th>duration</th>\n",
       "      <th>duration_round</th>\n",
       "    </tr>\n",
       "  </thead>\n",
       "  <tbody>\n",
       "    <tr>\n",
       "      <th>0</th>\n",
       "      <td>1000_93</td>\n",
       "      <td>1000</td>\n",
       "      <td>2018-12-27</td>\n",
       "      <td>8.52</td>\n",
       "      <td>9</td>\n",
       "    </tr>\n",
       "    <tr>\n",
       "      <th>1</th>\n",
       "      <td>1000_145</td>\n",
       "      <td>1000</td>\n",
       "      <td>2018-12-27</td>\n",
       "      <td>13.66</td>\n",
       "      <td>14</td>\n",
       "    </tr>\n",
       "    <tr>\n",
       "      <th>2</th>\n",
       "      <td>1000_247</td>\n",
       "      <td>1000</td>\n",
       "      <td>2018-12-27</td>\n",
       "      <td>14.48</td>\n",
       "      <td>15</td>\n",
       "    </tr>\n",
       "    <tr>\n",
       "      <th>3</th>\n",
       "      <td>1000_309</td>\n",
       "      <td>1000</td>\n",
       "      <td>2018-12-28</td>\n",
       "      <td>5.76</td>\n",
       "      <td>6</td>\n",
       "    </tr>\n",
       "    <tr>\n",
       "      <th>4</th>\n",
       "      <td>1000_380</td>\n",
       "      <td>1000</td>\n",
       "      <td>2018-12-30</td>\n",
       "      <td>4.22</td>\n",
       "      <td>5</td>\n",
       "    </tr>\n",
       "  </tbody>\n",
       "</table>\n",
       "</div>"
      ],
      "text/plain": [
       "         id  user_id  call_date  duration  duration_round\n",
       "0   1000_93     1000 2018-12-27      8.52               9\n",
       "1  1000_145     1000 2018-12-27     13.66              14\n",
       "2  1000_247     1000 2018-12-27     14.48              15\n",
       "3  1000_309     1000 2018-12-28      5.76               6\n",
       "4  1000_380     1000 2018-12-30      4.22               5"
      ]
     },
     "execution_count": 18,
     "metadata": {},
     "output_type": "execute_result"
    }
   ],
   "source": [
    "llamadas.head()"
   ]
  },
  {
   "cell_type": "markdown",
   "metadata": {
    "id": "KrMgTrlG0q0_"
   },
   "source": [
    "### Enriquecer los datos"
   ]
  },
  {
   "cell_type": "code",
   "execution_count": 19,
   "metadata": {
    "id": "iZ1avpA_0q0_"
   },
   "outputs": [],
   "source": [
    "#extraer el mes de la fecha de llamada\n",
    "llamadas ['month'] = llamadas ['call_date'].dt.month"
   ]
  },
  {
   "cell_type": "code",
   "execution_count": 20,
   "metadata": {},
   "outputs": [
    {
     "data": {
      "text/html": [
       "<div>\n",
       "<style scoped>\n",
       "    .dataframe tbody tr th:only-of-type {\n",
       "        vertical-align: middle;\n",
       "    }\n",
       "\n",
       "    .dataframe tbody tr th {\n",
       "        vertical-align: top;\n",
       "    }\n",
       "\n",
       "    .dataframe thead th {\n",
       "        text-align: right;\n",
       "    }\n",
       "</style>\n",
       "<table border=\"1\" class=\"dataframe\">\n",
       "  <thead>\n",
       "    <tr style=\"text-align: right;\">\n",
       "      <th></th>\n",
       "      <th>id</th>\n",
       "      <th>user_id</th>\n",
       "      <th>call_date</th>\n",
       "      <th>duration</th>\n",
       "      <th>duration_round</th>\n",
       "      <th>month</th>\n",
       "    </tr>\n",
       "  </thead>\n",
       "  <tbody>\n",
       "    <tr>\n",
       "      <th>0</th>\n",
       "      <td>1000_93</td>\n",
       "      <td>1000</td>\n",
       "      <td>2018-12-27</td>\n",
       "      <td>8.52</td>\n",
       "      <td>9</td>\n",
       "      <td>12</td>\n",
       "    </tr>\n",
       "    <tr>\n",
       "      <th>1</th>\n",
       "      <td>1000_145</td>\n",
       "      <td>1000</td>\n",
       "      <td>2018-12-27</td>\n",
       "      <td>13.66</td>\n",
       "      <td>14</td>\n",
       "      <td>12</td>\n",
       "    </tr>\n",
       "    <tr>\n",
       "      <th>2</th>\n",
       "      <td>1000_247</td>\n",
       "      <td>1000</td>\n",
       "      <td>2018-12-27</td>\n",
       "      <td>14.48</td>\n",
       "      <td>15</td>\n",
       "      <td>12</td>\n",
       "    </tr>\n",
       "    <tr>\n",
       "      <th>3</th>\n",
       "      <td>1000_309</td>\n",
       "      <td>1000</td>\n",
       "      <td>2018-12-28</td>\n",
       "      <td>5.76</td>\n",
       "      <td>6</td>\n",
       "      <td>12</td>\n",
       "    </tr>\n",
       "    <tr>\n",
       "      <th>4</th>\n",
       "      <td>1000_380</td>\n",
       "      <td>1000</td>\n",
       "      <td>2018-12-30</td>\n",
       "      <td>4.22</td>\n",
       "      <td>5</td>\n",
       "      <td>12</td>\n",
       "    </tr>\n",
       "  </tbody>\n",
       "</table>\n",
       "</div>"
      ],
      "text/plain": [
       "         id  user_id  call_date  duration  duration_round  month\n",
       "0   1000_93     1000 2018-12-27      8.52               9     12\n",
       "1  1000_145     1000 2018-12-27     13.66              14     12\n",
       "2  1000_247     1000 2018-12-27     14.48              15     12\n",
       "3  1000_309     1000 2018-12-28      5.76               6     12\n",
       "4  1000_380     1000 2018-12-30      4.22               5     12"
      ]
     },
     "execution_count": 20,
     "metadata": {},
     "output_type": "execute_result"
    }
   ],
   "source": [
    "llamadas.head()"
   ]
  },
  {
   "cell_type": "code",
   "execution_count": 21,
   "metadata": {},
   "outputs": [
    {
     "data": {
      "text/html": [
       "<div>\n",
       "<style scoped>\n",
       "    .dataframe tbody tr th:only-of-type {\n",
       "        vertical-align: middle;\n",
       "    }\n",
       "\n",
       "    .dataframe tbody tr th {\n",
       "        vertical-align: top;\n",
       "    }\n",
       "\n",
       "    .dataframe thead th {\n",
       "        text-align: right;\n",
       "    }\n",
       "</style>\n",
       "<table border=\"1\" class=\"dataframe\">\n",
       "  <thead>\n",
       "    <tr style=\"text-align: right;\">\n",
       "      <th></th>\n",
       "      <th>user_id</th>\n",
       "      <th>duration</th>\n",
       "      <th>duration_round</th>\n",
       "      <th>month</th>\n",
       "    </tr>\n",
       "  </thead>\n",
       "  <tbody>\n",
       "    <tr>\n",
       "      <th>count</th>\n",
       "      <td>137735.000000</td>\n",
       "      <td>137735.000000</td>\n",
       "      <td>137735.000000</td>\n",
       "      <td>137735.000000</td>\n",
       "    </tr>\n",
       "    <tr>\n",
       "      <th>mean</th>\n",
       "      <td>1247.658046</td>\n",
       "      <td>6.745927</td>\n",
       "      <td>7.146673</td>\n",
       "      <td>9.320797</td>\n",
       "    </tr>\n",
       "    <tr>\n",
       "      <th>std</th>\n",
       "      <td>139.416268</td>\n",
       "      <td>5.839241</td>\n",
       "      <td>5.953919</td>\n",
       "      <td>2.412550</td>\n",
       "    </tr>\n",
       "    <tr>\n",
       "      <th>min</th>\n",
       "      <td>1000.000000</td>\n",
       "      <td>0.000000</td>\n",
       "      <td>0.000000</td>\n",
       "      <td>1.000000</td>\n",
       "    </tr>\n",
       "    <tr>\n",
       "      <th>25%</th>\n",
       "      <td>1128.000000</td>\n",
       "      <td>1.290000</td>\n",
       "      <td>2.000000</td>\n",
       "      <td>8.000000</td>\n",
       "    </tr>\n",
       "    <tr>\n",
       "      <th>50%</th>\n",
       "      <td>1247.000000</td>\n",
       "      <td>5.980000</td>\n",
       "      <td>6.000000</td>\n",
       "      <td>10.000000</td>\n",
       "    </tr>\n",
       "    <tr>\n",
       "      <th>75%</th>\n",
       "      <td>1365.000000</td>\n",
       "      <td>10.690000</td>\n",
       "      <td>11.000000</td>\n",
       "      <td>11.000000</td>\n",
       "    </tr>\n",
       "    <tr>\n",
       "      <th>max</th>\n",
       "      <td>1499.000000</td>\n",
       "      <td>37.600000</td>\n",
       "      <td>38.000000</td>\n",
       "      <td>12.000000</td>\n",
       "    </tr>\n",
       "  </tbody>\n",
       "</table>\n",
       "</div>"
      ],
      "text/plain": [
       "             user_id       duration  duration_round          month\n",
       "count  137735.000000  137735.000000   137735.000000  137735.000000\n",
       "mean     1247.658046       6.745927        7.146673       9.320797\n",
       "std       139.416268       5.839241        5.953919       2.412550\n",
       "min      1000.000000       0.000000        0.000000       1.000000\n",
       "25%      1128.000000       1.290000        2.000000       8.000000\n",
       "50%      1247.000000       5.980000        6.000000      10.000000\n",
       "75%      1365.000000      10.690000       11.000000      11.000000\n",
       "max      1499.000000      37.600000       38.000000      12.000000"
      ]
     },
     "execution_count": 21,
     "metadata": {},
     "output_type": "execute_result"
    }
   ],
   "source": [
    "#se obtiene la distibución de los datos cuantitativos para tener una idea de con que se está trabajando\n",
    "llamadas.describe()"
   ]
  },
  {
   "cell_type": "markdown",
   "metadata": {},
   "source": [
    "Se puede ver que el mínimo de duración de llamadas es de 0, lo quiere decir que no se realizaron llamadas, y el máximo de 38 min. Y se verifica que los meses estén correctos."
   ]
  },
  {
   "cell_type": "markdown",
   "metadata": {
    "id": "mOUZSi180q0_"
   },
   "source": [
    "## Mensajes"
   ]
  },
  {
   "cell_type": "code",
   "execution_count": 22,
   "metadata": {
    "id": "R-bYJpdV0q1A"
   },
   "outputs": [
    {
     "name": "stdout",
     "output_type": "stream",
     "text": [
      "<class 'pandas.core.frame.DataFrame'>\n",
      "RangeIndex: 76051 entries, 0 to 76050\n",
      "Data columns (total 3 columns):\n",
      " #   Column        Non-Null Count  Dtype \n",
      "---  ------        --------------  ----- \n",
      " 0   id            76051 non-null  object\n",
      " 1   user_id       76051 non-null  int64 \n",
      " 2   message_date  76051 non-null  object\n",
      "dtypes: int64(1), object(2)\n",
      "memory usage: 1.7+ MB\n"
     ]
    }
   ],
   "source": [
    "# Imprime la información general/resumida sobre el DataFrame de los mensajes\n",
    "mensajes.info()"
   ]
  },
  {
   "cell_type": "code",
   "execution_count": 23,
   "metadata": {
    "id": "mCEl2iGE0q1A"
   },
   "outputs": [
    {
     "data": {
      "text/html": [
       "<div>\n",
       "<style scoped>\n",
       "    .dataframe tbody tr th:only-of-type {\n",
       "        vertical-align: middle;\n",
       "    }\n",
       "\n",
       "    .dataframe tbody tr th {\n",
       "        vertical-align: top;\n",
       "    }\n",
       "\n",
       "    .dataframe thead th {\n",
       "        text-align: right;\n",
       "    }\n",
       "</style>\n",
       "<table border=\"1\" class=\"dataframe\">\n",
       "  <thead>\n",
       "    <tr style=\"text-align: right;\">\n",
       "      <th></th>\n",
       "      <th>id</th>\n",
       "      <th>user_id</th>\n",
       "      <th>message_date</th>\n",
       "    </tr>\n",
       "  </thead>\n",
       "  <tbody>\n",
       "    <tr>\n",
       "      <th>0</th>\n",
       "      <td>1000_125</td>\n",
       "      <td>1000</td>\n",
       "      <td>2018-12-27</td>\n",
       "    </tr>\n",
       "    <tr>\n",
       "      <th>1</th>\n",
       "      <td>1000_160</td>\n",
       "      <td>1000</td>\n",
       "      <td>2018-12-31</td>\n",
       "    </tr>\n",
       "    <tr>\n",
       "      <th>2</th>\n",
       "      <td>1000_223</td>\n",
       "      <td>1000</td>\n",
       "      <td>2018-12-31</td>\n",
       "    </tr>\n",
       "    <tr>\n",
       "      <th>3</th>\n",
       "      <td>1000_251</td>\n",
       "      <td>1000</td>\n",
       "      <td>2018-12-27</td>\n",
       "    </tr>\n",
       "    <tr>\n",
       "      <th>4</th>\n",
       "      <td>1000_255</td>\n",
       "      <td>1000</td>\n",
       "      <td>2018-12-26</td>\n",
       "    </tr>\n",
       "  </tbody>\n",
       "</table>\n",
       "</div>"
      ],
      "text/plain": [
       "         id  user_id message_date\n",
       "0  1000_125     1000   2018-12-27\n",
       "1  1000_160     1000   2018-12-31\n",
       "2  1000_223     1000   2018-12-31\n",
       "3  1000_251     1000   2018-12-27\n",
       "4  1000_255     1000   2018-12-26"
      ]
     },
     "execution_count": 23,
     "metadata": {},
     "output_type": "execute_result"
    }
   ],
   "source": [
    "# Imprime una muestra de datos para los mensajes\n",
    "mensajes.head()"
   ]
  },
  {
   "cell_type": "markdown",
   "metadata": {
    "id": "04xDj7KH0q1A"
   },
   "source": [
    "No se tienen datos nulos. Se debe transformar a formato datetime la columna message date en caso de requerir trabajar con la misma y extraer el mes. "
   ]
  },
  {
   "cell_type": "markdown",
   "metadata": {
    "id": "Sprfak900q1B"
   },
   "source": [
    "### Corregir los datos"
   ]
  },
  {
   "cell_type": "code",
   "execution_count": 24,
   "metadata": {
    "id": "vsllvkoa0q1B"
   },
   "outputs": [],
   "source": [
    "#transformar fecha de mensaje a formato datetime \n",
    "mensajes['message_date'] = pd.to_datetime (mensajes['message_date'], format = '%Y-%m-%d')"
   ]
  },
  {
   "cell_type": "code",
   "execution_count": 25,
   "metadata": {},
   "outputs": [
    {
     "name": "stdout",
     "output_type": "stream",
     "text": [
      "<class 'pandas.core.frame.DataFrame'>\n",
      "RangeIndex: 76051 entries, 0 to 76050\n",
      "Data columns (total 3 columns):\n",
      " #   Column        Non-Null Count  Dtype         \n",
      "---  ------        --------------  -----         \n",
      " 0   id            76051 non-null  object        \n",
      " 1   user_id       76051 non-null  int64         \n",
      " 2   message_date  76051 non-null  datetime64[ns]\n",
      "dtypes: datetime64[ns](1), int64(1), object(1)\n",
      "memory usage: 1.7+ MB\n"
     ]
    }
   ],
   "source": [
    "mensajes.info()"
   ]
  },
  {
   "cell_type": "markdown",
   "metadata": {
    "id": "HvLid7iD0q1B"
   },
   "source": [
    "### Enriquecer los datos"
   ]
  },
  {
   "cell_type": "code",
   "execution_count": 26,
   "metadata": {
    "id": "zYEXZac10q1C"
   },
   "outputs": [],
   "source": [
    "#Extraer el mes de la fecha mensaje y crear nueva columna\n",
    "mensajes ['month'] = mensajes ['message_date'].dt.month"
   ]
  },
  {
   "cell_type": "code",
   "execution_count": 27,
   "metadata": {},
   "outputs": [
    {
     "data": {
      "text/html": [
       "<div>\n",
       "<style scoped>\n",
       "    .dataframe tbody tr th:only-of-type {\n",
       "        vertical-align: middle;\n",
       "    }\n",
       "\n",
       "    .dataframe tbody tr th {\n",
       "        vertical-align: top;\n",
       "    }\n",
       "\n",
       "    .dataframe thead th {\n",
       "        text-align: right;\n",
       "    }\n",
       "</style>\n",
       "<table border=\"1\" class=\"dataframe\">\n",
       "  <thead>\n",
       "    <tr style=\"text-align: right;\">\n",
       "      <th></th>\n",
       "      <th>id</th>\n",
       "      <th>user_id</th>\n",
       "      <th>message_date</th>\n",
       "      <th>month</th>\n",
       "    </tr>\n",
       "  </thead>\n",
       "  <tbody>\n",
       "    <tr>\n",
       "      <th>0</th>\n",
       "      <td>1000_125</td>\n",
       "      <td>1000</td>\n",
       "      <td>2018-12-27</td>\n",
       "      <td>12</td>\n",
       "    </tr>\n",
       "    <tr>\n",
       "      <th>1</th>\n",
       "      <td>1000_160</td>\n",
       "      <td>1000</td>\n",
       "      <td>2018-12-31</td>\n",
       "      <td>12</td>\n",
       "    </tr>\n",
       "    <tr>\n",
       "      <th>2</th>\n",
       "      <td>1000_223</td>\n",
       "      <td>1000</td>\n",
       "      <td>2018-12-31</td>\n",
       "      <td>12</td>\n",
       "    </tr>\n",
       "    <tr>\n",
       "      <th>3</th>\n",
       "      <td>1000_251</td>\n",
       "      <td>1000</td>\n",
       "      <td>2018-12-27</td>\n",
       "      <td>12</td>\n",
       "    </tr>\n",
       "    <tr>\n",
       "      <th>4</th>\n",
       "      <td>1000_255</td>\n",
       "      <td>1000</td>\n",
       "      <td>2018-12-26</td>\n",
       "      <td>12</td>\n",
       "    </tr>\n",
       "  </tbody>\n",
       "</table>\n",
       "</div>"
      ],
      "text/plain": [
       "         id  user_id message_date  month\n",
       "0  1000_125     1000   2018-12-27     12\n",
       "1  1000_160     1000   2018-12-31     12\n",
       "2  1000_223     1000   2018-12-31     12\n",
       "3  1000_251     1000   2018-12-27     12\n",
       "4  1000_255     1000   2018-12-26     12"
      ]
     },
     "execution_count": 27,
     "metadata": {},
     "output_type": "execute_result"
    }
   ],
   "source": [
    "mensajes.head()"
   ]
  },
  {
   "cell_type": "markdown",
   "metadata": {
    "id": "bStkaxn40q1C"
   },
   "source": [
    "## Internet"
   ]
  },
  {
   "cell_type": "code",
   "execution_count": 28,
   "metadata": {
    "id": "e-Uz5qyn0q1C"
   },
   "outputs": [
    {
     "name": "stdout",
     "output_type": "stream",
     "text": [
      "<class 'pandas.core.frame.DataFrame'>\n",
      "RangeIndex: 104825 entries, 0 to 104824\n",
      "Data columns (total 4 columns):\n",
      " #   Column        Non-Null Count   Dtype  \n",
      "---  ------        --------------   -----  \n",
      " 0   id            104825 non-null  object \n",
      " 1   user_id       104825 non-null  int64  \n",
      " 2   session_date  104825 non-null  object \n",
      " 3   mb_used       104825 non-null  float64\n",
      "dtypes: float64(1), int64(1), object(2)\n",
      "memory usage: 3.2+ MB\n"
     ]
    }
   ],
   "source": [
    "# Imprime la información general/resumida sobre el DataFrame de internet\n",
    "internet.info()"
   ]
  },
  {
   "cell_type": "code",
   "execution_count": 29,
   "metadata": {
    "id": "9r3x_XLw0q1C"
   },
   "outputs": [
    {
     "data": {
      "text/html": [
       "<div>\n",
       "<style scoped>\n",
       "    .dataframe tbody tr th:only-of-type {\n",
       "        vertical-align: middle;\n",
       "    }\n",
       "\n",
       "    .dataframe tbody tr th {\n",
       "        vertical-align: top;\n",
       "    }\n",
       "\n",
       "    .dataframe thead th {\n",
       "        text-align: right;\n",
       "    }\n",
       "</style>\n",
       "<table border=\"1\" class=\"dataframe\">\n",
       "  <thead>\n",
       "    <tr style=\"text-align: right;\">\n",
       "      <th></th>\n",
       "      <th>id</th>\n",
       "      <th>user_id</th>\n",
       "      <th>session_date</th>\n",
       "      <th>mb_used</th>\n",
       "    </tr>\n",
       "  </thead>\n",
       "  <tbody>\n",
       "    <tr>\n",
       "      <th>0</th>\n",
       "      <td>1000_13</td>\n",
       "      <td>1000</td>\n",
       "      <td>2018-12-29</td>\n",
       "      <td>89.86</td>\n",
       "    </tr>\n",
       "    <tr>\n",
       "      <th>1</th>\n",
       "      <td>1000_204</td>\n",
       "      <td>1000</td>\n",
       "      <td>2018-12-31</td>\n",
       "      <td>0.00</td>\n",
       "    </tr>\n",
       "    <tr>\n",
       "      <th>2</th>\n",
       "      <td>1000_379</td>\n",
       "      <td>1000</td>\n",
       "      <td>2018-12-28</td>\n",
       "      <td>660.40</td>\n",
       "    </tr>\n",
       "    <tr>\n",
       "      <th>3</th>\n",
       "      <td>1000_413</td>\n",
       "      <td>1000</td>\n",
       "      <td>2018-12-26</td>\n",
       "      <td>270.99</td>\n",
       "    </tr>\n",
       "    <tr>\n",
       "      <th>4</th>\n",
       "      <td>1000_442</td>\n",
       "      <td>1000</td>\n",
       "      <td>2018-12-27</td>\n",
       "      <td>880.22</td>\n",
       "    </tr>\n",
       "  </tbody>\n",
       "</table>\n",
       "</div>"
      ],
      "text/plain": [
       "         id  user_id session_date  mb_used\n",
       "0   1000_13     1000   2018-12-29    89.86\n",
       "1  1000_204     1000   2018-12-31     0.00\n",
       "2  1000_379     1000   2018-12-28   660.40\n",
       "3  1000_413     1000   2018-12-26   270.99\n",
       "4  1000_442     1000   2018-12-27   880.22"
      ]
     },
     "execution_count": 29,
     "metadata": {},
     "output_type": "execute_result"
    }
   ],
   "source": [
    "# Imprime una muestra de datos para el tráfico de internet\n",
    "internet.head()"
   ]
  },
  {
   "cell_type": "markdown",
   "metadata": {
    "id": "EzOG5ik30q1D"
   },
   "source": [
    "No se tienen datos nulos. Se debe cambiar a formato datetime la columna session date. "
   ]
  },
  {
   "cell_type": "markdown",
   "metadata": {
    "id": "yA0tkPFg0q1D"
   },
   "source": [
    "### Corregir los datos"
   ]
  },
  {
   "cell_type": "code",
   "execution_count": 30,
   "metadata": {
    "id": "zVeanzdd0q1E"
   },
   "outputs": [],
   "source": [
    "#transformar la columna session_date a formato datetime \n",
    "internet ['session_date'] = pd.to_datetime (internet ['session_date'], format = '%Y-%m-%d')"
   ]
  },
  {
   "cell_type": "code",
   "execution_count": 31,
   "metadata": {},
   "outputs": [
    {
     "name": "stdout",
     "output_type": "stream",
     "text": [
      "<class 'pandas.core.frame.DataFrame'>\n",
      "RangeIndex: 104825 entries, 0 to 104824\n",
      "Data columns (total 4 columns):\n",
      " #   Column        Non-Null Count   Dtype         \n",
      "---  ------        --------------   -----         \n",
      " 0   id            104825 non-null  object        \n",
      " 1   user_id       104825 non-null  int64         \n",
      " 2   session_date  104825 non-null  datetime64[ns]\n",
      " 3   mb_used       104825 non-null  float64       \n",
      "dtypes: datetime64[ns](1), float64(1), int64(1), object(1)\n",
      "memory usage: 3.2+ MB\n"
     ]
    }
   ],
   "source": [
    "internet.info()"
   ]
  },
  {
   "cell_type": "markdown",
   "metadata": {
    "id": "e8_mLF4a0q1E"
   },
   "source": [
    "### Enriquecer los datos"
   ]
  },
  {
   "cell_type": "code",
   "execution_count": 32,
   "metadata": {
    "id": "ESiYPIEK0q1E"
   },
   "outputs": [],
   "source": [
    "#extraer el mes de la fecha de uso de sesion en caso de que se necesite trabajar con el mismo \n",
    "internet ['month'] = internet ['session_date'].dt.month"
   ]
  },
  {
   "cell_type": "code",
   "execution_count": 33,
   "metadata": {},
   "outputs": [
    {
     "data": {
      "text/html": [
       "<div>\n",
       "<style scoped>\n",
       "    .dataframe tbody tr th:only-of-type {\n",
       "        vertical-align: middle;\n",
       "    }\n",
       "\n",
       "    .dataframe tbody tr th {\n",
       "        vertical-align: top;\n",
       "    }\n",
       "\n",
       "    .dataframe thead th {\n",
       "        text-align: right;\n",
       "    }\n",
       "</style>\n",
       "<table border=\"1\" class=\"dataframe\">\n",
       "  <thead>\n",
       "    <tr style=\"text-align: right;\">\n",
       "      <th></th>\n",
       "      <th>id</th>\n",
       "      <th>user_id</th>\n",
       "      <th>session_date</th>\n",
       "      <th>mb_used</th>\n",
       "      <th>month</th>\n",
       "    </tr>\n",
       "  </thead>\n",
       "  <tbody>\n",
       "    <tr>\n",
       "      <th>0</th>\n",
       "      <td>1000_13</td>\n",
       "      <td>1000</td>\n",
       "      <td>2018-12-29</td>\n",
       "      <td>89.86</td>\n",
       "      <td>12</td>\n",
       "    </tr>\n",
       "    <tr>\n",
       "      <th>1</th>\n",
       "      <td>1000_204</td>\n",
       "      <td>1000</td>\n",
       "      <td>2018-12-31</td>\n",
       "      <td>0.00</td>\n",
       "      <td>12</td>\n",
       "    </tr>\n",
       "    <tr>\n",
       "      <th>2</th>\n",
       "      <td>1000_379</td>\n",
       "      <td>1000</td>\n",
       "      <td>2018-12-28</td>\n",
       "      <td>660.40</td>\n",
       "      <td>12</td>\n",
       "    </tr>\n",
       "    <tr>\n",
       "      <th>3</th>\n",
       "      <td>1000_413</td>\n",
       "      <td>1000</td>\n",
       "      <td>2018-12-26</td>\n",
       "      <td>270.99</td>\n",
       "      <td>12</td>\n",
       "    </tr>\n",
       "    <tr>\n",
       "      <th>4</th>\n",
       "      <td>1000_442</td>\n",
       "      <td>1000</td>\n",
       "      <td>2018-12-27</td>\n",
       "      <td>880.22</td>\n",
       "      <td>12</td>\n",
       "    </tr>\n",
       "  </tbody>\n",
       "</table>\n",
       "</div>"
      ],
      "text/plain": [
       "         id  user_id session_date  mb_used  month\n",
       "0   1000_13     1000   2018-12-29    89.86     12\n",
       "1  1000_204     1000   2018-12-31     0.00     12\n",
       "2  1000_379     1000   2018-12-28   660.40     12\n",
       "3  1000_413     1000   2018-12-26   270.99     12\n",
       "4  1000_442     1000   2018-12-27   880.22     12"
      ]
     },
     "execution_count": 33,
     "metadata": {},
     "output_type": "execute_result"
    }
   ],
   "source": [
    "internet.head()"
   ]
  },
  {
   "cell_type": "markdown",
   "metadata": {
    "id": "3UA2cqIW0q1E"
   },
   "source": [
    "## Estudiar las condiciones de las tarifas"
   ]
  },
  {
   "cell_type": "code",
   "execution_count": 34,
   "metadata": {
    "id": "i409op8p0q1F"
   },
   "outputs": [
    {
     "data": {
      "text/html": [
       "<div>\n",
       "<style scoped>\n",
       "    .dataframe tbody tr th:only-of-type {\n",
       "        vertical-align: middle;\n",
       "    }\n",
       "\n",
       "    .dataframe tbody tr th {\n",
       "        vertical-align: top;\n",
       "    }\n",
       "\n",
       "    .dataframe thead th {\n",
       "        text-align: right;\n",
       "    }\n",
       "</style>\n",
       "<table border=\"1\" class=\"dataframe\">\n",
       "  <thead>\n",
       "    <tr style=\"text-align: right;\">\n",
       "      <th></th>\n",
       "      <th>messages_included</th>\n",
       "      <th>minutes_included</th>\n",
       "      <th>usd_monthly_pay</th>\n",
       "      <th>usd_per_gb</th>\n",
       "      <th>usd_per_message</th>\n",
       "      <th>usd_per_minute</th>\n",
       "      <th>plan</th>\n",
       "      <th>gb_included</th>\n",
       "    </tr>\n",
       "  </thead>\n",
       "  <tbody>\n",
       "    <tr>\n",
       "      <th>0</th>\n",
       "      <td>50</td>\n",
       "      <td>500</td>\n",
       "      <td>20</td>\n",
       "      <td>10</td>\n",
       "      <td>0.03</td>\n",
       "      <td>0.03</td>\n",
       "      <td>surf</td>\n",
       "      <td>15.0</td>\n",
       "    </tr>\n",
       "    <tr>\n",
       "      <th>1</th>\n",
       "      <td>1000</td>\n",
       "      <td>3000</td>\n",
       "      <td>70</td>\n",
       "      <td>7</td>\n",
       "      <td>0.01</td>\n",
       "      <td>0.01</td>\n",
       "      <td>ultimate</td>\n",
       "      <td>30.0</td>\n",
       "    </tr>\n",
       "  </tbody>\n",
       "</table>\n",
       "</div>"
      ],
      "text/plain": [
       "   messages_included  minutes_included  usd_monthly_pay  usd_per_gb  \\\n",
       "0                 50               500               20          10   \n",
       "1               1000              3000               70           7   \n",
       "\n",
       "   usd_per_message  usd_per_minute      plan  gb_included  \n",
       "0             0.03            0.03      surf         15.0  \n",
       "1             0.01            0.01  ultimate         30.0  "
      ]
     },
     "execution_count": 34,
     "metadata": {},
     "output_type": "execute_result"
    }
   ],
   "source": [
    "# Imprime las condiciones de la tarifa y asegúrate de que te quedan claras\n",
    "tarifas"
   ]
  },
  {
   "cell_type": "markdown",
   "metadata": {
    "id": "hMR1tP5d0q1F"
   },
   "source": [
    "## Agregar datos por usuario\n",
    "\n",
    "Se van a crear tablas dinámicas para cada apartado, lo cual nos permitirá crer una nueva tabla solo con la información a usar posteriormente para el análisis."
   ]
  },
  {
   "cell_type": "code",
   "execution_count": 35,
   "metadata": {
    "id": "A332cedB0q1G"
   },
   "outputs": [
    {
     "data": {
      "text/html": [
       "<div>\n",
       "<style scoped>\n",
       "    .dataframe tbody tr th:only-of-type {\n",
       "        vertical-align: middle;\n",
       "    }\n",
       "\n",
       "    .dataframe tbody tr th {\n",
       "        vertical-align: top;\n",
       "    }\n",
       "\n",
       "    .dataframe thead th {\n",
       "        text-align: right;\n",
       "    }\n",
       "</style>\n",
       "<table border=\"1\" class=\"dataframe\">\n",
       "  <thead>\n",
       "    <tr style=\"text-align: right;\">\n",
       "      <th></th>\n",
       "      <th></th>\n",
       "      <th>total_llamadas</th>\n",
       "    </tr>\n",
       "    <tr>\n",
       "      <th>user_id</th>\n",
       "      <th>month</th>\n",
       "      <th></th>\n",
       "    </tr>\n",
       "  </thead>\n",
       "  <tbody>\n",
       "    <tr>\n",
       "      <th>1000</th>\n",
       "      <th>12</th>\n",
       "      <td>16</td>\n",
       "    </tr>\n",
       "    <tr>\n",
       "      <th rowspan=\"4\" valign=\"top\">1001</th>\n",
       "      <th>8</th>\n",
       "      <td>27</td>\n",
       "    </tr>\n",
       "    <tr>\n",
       "      <th>9</th>\n",
       "      <td>49</td>\n",
       "    </tr>\n",
       "    <tr>\n",
       "      <th>10</th>\n",
       "      <td>65</td>\n",
       "    </tr>\n",
       "    <tr>\n",
       "      <th>11</th>\n",
       "      <td>64</td>\n",
       "    </tr>\n",
       "  </tbody>\n",
       "</table>\n",
       "</div>"
      ],
      "text/plain": [
       "               total_llamadas\n",
       "user_id month                \n",
       "1000    12                 16\n",
       "1001    8                  27\n",
       "        9                  49\n",
       "        10                 65\n",
       "        11                 64"
      ]
     },
     "execution_count": 35,
     "metadata": {},
     "output_type": "execute_result"
    }
   ],
   "source": [
    "# Calcula el número de llamadas hechas por cada usuario al mes. Guarda el resultado. Se crea una tabla pivote para visualizar el resultado \n",
    "llamadas_total = llamadas.pivot_table (index = ['user_id', 'month'], values = 'id', aggfunc = 'count')\n",
    "llamadas_total.columns = ['total_llamadas']\n",
    "llamadas_total.head()"
   ]
  },
  {
   "cell_type": "code",
   "execution_count": 36,
   "metadata": {
    "id": "aw2cmuql0q1G"
   },
   "outputs": [
    {
     "data": {
      "text/html": [
       "<div>\n",
       "<style scoped>\n",
       "    .dataframe tbody tr th:only-of-type {\n",
       "        vertical-align: middle;\n",
       "    }\n",
       "\n",
       "    .dataframe tbody tr th {\n",
       "        vertical-align: top;\n",
       "    }\n",
       "\n",
       "    .dataframe thead th {\n",
       "        text-align: right;\n",
       "    }\n",
       "</style>\n",
       "<table border=\"1\" class=\"dataframe\">\n",
       "  <thead>\n",
       "    <tr style=\"text-align: right;\">\n",
       "      <th></th>\n",
       "      <th></th>\n",
       "      <th>min_usados</th>\n",
       "    </tr>\n",
       "    <tr>\n",
       "      <th>user_id</th>\n",
       "      <th>month</th>\n",
       "      <th></th>\n",
       "    </tr>\n",
       "  </thead>\n",
       "  <tbody>\n",
       "    <tr>\n",
       "      <th>1000</th>\n",
       "      <th>12</th>\n",
       "      <td>124</td>\n",
       "    </tr>\n",
       "    <tr>\n",
       "      <th rowspan=\"4\" valign=\"top\">1001</th>\n",
       "      <th>8</th>\n",
       "      <td>182</td>\n",
       "    </tr>\n",
       "    <tr>\n",
       "      <th>9</th>\n",
       "      <td>315</td>\n",
       "    </tr>\n",
       "    <tr>\n",
       "      <th>10</th>\n",
       "      <td>393</td>\n",
       "    </tr>\n",
       "    <tr>\n",
       "      <th>11</th>\n",
       "      <td>426</td>\n",
       "    </tr>\n",
       "  </tbody>\n",
       "</table>\n",
       "</div>"
      ],
      "text/plain": [
       "               min_usados\n",
       "user_id month            \n",
       "1000    12            124\n",
       "1001    8             182\n",
       "        9             315\n",
       "        10            393\n",
       "        11            426"
      ]
     },
     "execution_count": 36,
     "metadata": {},
     "output_type": "execute_result"
    }
   ],
   "source": [
    "# Calcula la cantidad de minutos usados por cada usuario al mes. Guarda el resultado. Se muestra el mismo en una tabla dinámica\n",
    "llamadas_resumen = llamadas.pivot_table (index = ['user_id', 'month'], values = 'duration_round', aggfunc = 'sum')\n",
    "llamadas_resumen.columns = ['min_usados']\n",
    "llamadas_resumen.head()"
   ]
  },
  {
   "cell_type": "code",
   "execution_count": 37,
   "metadata": {
    "id": "CcQvNHn60q1G"
   },
   "outputs": [
    {
     "data": {
      "text/html": [
       "<div>\n",
       "<style scoped>\n",
       "    .dataframe tbody tr th:only-of-type {\n",
       "        vertical-align: middle;\n",
       "    }\n",
       "\n",
       "    .dataframe tbody tr th {\n",
       "        vertical-align: top;\n",
       "    }\n",
       "\n",
       "    .dataframe thead th {\n",
       "        text-align: right;\n",
       "    }\n",
       "</style>\n",
       "<table border=\"1\" class=\"dataframe\">\n",
       "  <thead>\n",
       "    <tr style=\"text-align: right;\">\n",
       "      <th></th>\n",
       "      <th></th>\n",
       "      <th>total_mensajes</th>\n",
       "    </tr>\n",
       "    <tr>\n",
       "      <th>user_id</th>\n",
       "      <th>month</th>\n",
       "      <th></th>\n",
       "    </tr>\n",
       "  </thead>\n",
       "  <tbody>\n",
       "    <tr>\n",
       "      <th>1000</th>\n",
       "      <th>12</th>\n",
       "      <td>11</td>\n",
       "    </tr>\n",
       "    <tr>\n",
       "      <th rowspan=\"4\" valign=\"top\">1001</th>\n",
       "      <th>8</th>\n",
       "      <td>30</td>\n",
       "    </tr>\n",
       "    <tr>\n",
       "      <th>9</th>\n",
       "      <td>44</td>\n",
       "    </tr>\n",
       "    <tr>\n",
       "      <th>10</th>\n",
       "      <td>53</td>\n",
       "    </tr>\n",
       "    <tr>\n",
       "      <th>11</th>\n",
       "      <td>36</td>\n",
       "    </tr>\n",
       "  </tbody>\n",
       "</table>\n",
       "</div>"
      ],
      "text/plain": [
       "               total_mensajes\n",
       "user_id month                \n",
       "1000    12                 11\n",
       "1001    8                  30\n",
       "        9                  44\n",
       "        10                 53\n",
       "        11                 36"
      ]
     },
     "execution_count": 37,
     "metadata": {},
     "output_type": "execute_result"
    }
   ],
   "source": [
    "# Calcula el número de mensajes enviados por cada usuario al mes. Guarda el resultado.\n",
    "mensajes_total = mensajes.pivot_table (index = ['user_id', 'month'], values = 'id', aggfunc = 'count')\n",
    "mensajes_total.columns = ['total_mensajes']\n",
    "mensajes_total.head()"
   ]
  },
  {
   "cell_type": "code",
   "execution_count": 38,
   "metadata": {
    "id": "H1AqN2eG0q1H"
   },
   "outputs": [
    {
     "data": {
      "text/html": [
       "<div>\n",
       "<style scoped>\n",
       "    .dataframe tbody tr th:only-of-type {\n",
       "        vertical-align: middle;\n",
       "    }\n",
       "\n",
       "    .dataframe tbody tr th {\n",
       "        vertical-align: top;\n",
       "    }\n",
       "\n",
       "    .dataframe thead th {\n",
       "        text-align: right;\n",
       "    }\n",
       "</style>\n",
       "<table border=\"1\" class=\"dataframe\">\n",
       "  <thead>\n",
       "    <tr style=\"text-align: right;\">\n",
       "      <th></th>\n",
       "      <th></th>\n",
       "      <th>mb_used</th>\n",
       "    </tr>\n",
       "    <tr>\n",
       "      <th>user_id</th>\n",
       "      <th>month</th>\n",
       "      <th></th>\n",
       "    </tr>\n",
       "  </thead>\n",
       "  <tbody>\n",
       "    <tr>\n",
       "      <th>1000</th>\n",
       "      <th>12</th>\n",
       "      <td>1901.47</td>\n",
       "    </tr>\n",
       "    <tr>\n",
       "      <th rowspan=\"4\" valign=\"top\">1001</th>\n",
       "      <th>8</th>\n",
       "      <td>6919.15</td>\n",
       "    </tr>\n",
       "    <tr>\n",
       "      <th>9</th>\n",
       "      <td>13314.82</td>\n",
       "    </tr>\n",
       "    <tr>\n",
       "      <th>10</th>\n",
       "      <td>22330.49</td>\n",
       "    </tr>\n",
       "    <tr>\n",
       "      <th>11</th>\n",
       "      <td>18504.30</td>\n",
       "    </tr>\n",
       "  </tbody>\n",
       "</table>\n",
       "</div>"
      ],
      "text/plain": [
       "                mb_used\n",
       "user_id month          \n",
       "1000    12      1901.47\n",
       "1001    8       6919.15\n",
       "        9      13314.82\n",
       "        10     22330.49\n",
       "        11     18504.30"
      ]
     },
     "execution_count": 38,
     "metadata": {},
     "output_type": "execute_result"
    }
   ],
   "source": [
    "# Calcula el volumen del tráfico de Internet usado por cada usuario al mes. Guarda el resultado.\n",
    "internet_total = internet.pivot_table (index = ['user_id', 'month'], values = 'mb_used', aggfunc = 'sum')\n",
    "internet_total.head()"
   ]
  },
  {
   "cell_type": "code",
   "execution_count": 39,
   "metadata": {},
   "outputs": [
    {
     "data": {
      "text/html": [
       "<div>\n",
       "<style scoped>\n",
       "    .dataframe tbody tr th:only-of-type {\n",
       "        vertical-align: middle;\n",
       "    }\n",
       "\n",
       "    .dataframe tbody tr th {\n",
       "        vertical-align: top;\n",
       "    }\n",
       "\n",
       "    .dataframe thead th {\n",
       "        text-align: right;\n",
       "    }\n",
       "</style>\n",
       "<table border=\"1\" class=\"dataframe\">\n",
       "  <thead>\n",
       "    <tr style=\"text-align: right;\">\n",
       "      <th></th>\n",
       "      <th></th>\n",
       "      <th>mb_used</th>\n",
       "      <th>gb_used</th>\n",
       "    </tr>\n",
       "    <tr>\n",
       "      <th>user_id</th>\n",
       "      <th>month</th>\n",
       "      <th></th>\n",
       "      <th></th>\n",
       "    </tr>\n",
       "  </thead>\n",
       "  <tbody>\n",
       "    <tr>\n",
       "      <th>1000</th>\n",
       "      <th>12</th>\n",
       "      <td>1901.47</td>\n",
       "      <td>1.856904</td>\n",
       "    </tr>\n",
       "    <tr>\n",
       "      <th rowspan=\"4\" valign=\"top\">1001</th>\n",
       "      <th>8</th>\n",
       "      <td>6919.15</td>\n",
       "      <td>6.756982</td>\n",
       "    </tr>\n",
       "    <tr>\n",
       "      <th>9</th>\n",
       "      <td>13314.82</td>\n",
       "      <td>13.002754</td>\n",
       "    </tr>\n",
       "    <tr>\n",
       "      <th>10</th>\n",
       "      <td>22330.49</td>\n",
       "      <td>21.807119</td>\n",
       "    </tr>\n",
       "    <tr>\n",
       "      <th>11</th>\n",
       "      <td>18504.30</td>\n",
       "      <td>18.070605</td>\n",
       "    </tr>\n",
       "  </tbody>\n",
       "</table>\n",
       "</div>"
      ],
      "text/plain": [
       "                mb_used    gb_used\n",
       "user_id month                     \n",
       "1000    12      1901.47   1.856904\n",
       "1001    8       6919.15   6.756982\n",
       "        9      13314.82  13.002754\n",
       "        10     22330.49  21.807119\n",
       "        11     18504.30  18.070605"
      ]
     },
     "execution_count": 39,
     "metadata": {},
     "output_type": "execute_result"
    }
   ],
   "source": [
    "# transformar a gb el total del internet usado al mes por usuario ya que es la medida con la que se va a trabajar\n",
    "internet_total ['gb_used'] = internet_total ['mb_used']/1024\n",
    "internet_total.head()"
   ]
  },
  {
   "cell_type": "code",
   "execution_count": 40,
   "metadata": {},
   "outputs": [
    {
     "data": {
      "text/html": [
       "<div>\n",
       "<style scoped>\n",
       "    .dataframe tbody tr th:only-of-type {\n",
       "        vertical-align: middle;\n",
       "    }\n",
       "\n",
       "    .dataframe tbody tr th {\n",
       "        vertical-align: top;\n",
       "    }\n",
       "\n",
       "    .dataframe thead th {\n",
       "        text-align: right;\n",
       "    }\n",
       "</style>\n",
       "<table border=\"1\" class=\"dataframe\">\n",
       "  <thead>\n",
       "    <tr style=\"text-align: right;\">\n",
       "      <th></th>\n",
       "      <th></th>\n",
       "      <th>mb_used</th>\n",
       "      <th>gb_used</th>\n",
       "      <th>gb_used_rounded</th>\n",
       "    </tr>\n",
       "    <tr>\n",
       "      <th>user_id</th>\n",
       "      <th>month</th>\n",
       "      <th></th>\n",
       "      <th></th>\n",
       "      <th></th>\n",
       "    </tr>\n",
       "  </thead>\n",
       "  <tbody>\n",
       "    <tr>\n",
       "      <th>1000</th>\n",
       "      <th>12</th>\n",
       "      <td>1901.47</td>\n",
       "      <td>1.856904</td>\n",
       "      <td>2</td>\n",
       "    </tr>\n",
       "    <tr>\n",
       "      <th rowspan=\"4\" valign=\"top\">1001</th>\n",
       "      <th>8</th>\n",
       "      <td>6919.15</td>\n",
       "      <td>6.756982</td>\n",
       "      <td>7</td>\n",
       "    </tr>\n",
       "    <tr>\n",
       "      <th>9</th>\n",
       "      <td>13314.82</td>\n",
       "      <td>13.002754</td>\n",
       "      <td>14</td>\n",
       "    </tr>\n",
       "    <tr>\n",
       "      <th>10</th>\n",
       "      <td>22330.49</td>\n",
       "      <td>21.807119</td>\n",
       "      <td>22</td>\n",
       "    </tr>\n",
       "    <tr>\n",
       "      <th>11</th>\n",
       "      <td>18504.30</td>\n",
       "      <td>18.070605</td>\n",
       "      <td>19</td>\n",
       "    </tr>\n",
       "  </tbody>\n",
       "</table>\n",
       "</div>"
      ],
      "text/plain": [
       "                mb_used    gb_used  gb_used_rounded\n",
       "user_id month                                      \n",
       "1000    12      1901.47   1.856904                2\n",
       "1001    8       6919.15   6.756982                7\n",
       "        9      13314.82  13.002754               14\n",
       "        10     22330.49  21.807119               22\n",
       "        11     18504.30  18.070605               19"
      ]
     },
     "execution_count": 40,
     "metadata": {},
     "output_type": "execute_result"
    }
   ],
   "source": [
    "#se redondea las gb usadas hacia arriba y se pasa a formato int\n",
    "internet_total ['gb_used_rounded'] = internet_total ['gb_used'].apply(np.ceil).astype(int)\n",
    "internet_total.head()"
   ]
  },
  {
   "cell_type": "code",
   "execution_count": 41,
   "metadata": {},
   "outputs": [
    {
     "data": {
      "text/html": [
       "<div>\n",
       "<style scoped>\n",
       "    .dataframe tbody tr th:only-of-type {\n",
       "        vertical-align: middle;\n",
       "    }\n",
       "\n",
       "    .dataframe tbody tr th {\n",
       "        vertical-align: top;\n",
       "    }\n",
       "\n",
       "    .dataframe thead th {\n",
       "        text-align: right;\n",
       "    }\n",
       "</style>\n",
       "<table border=\"1\" class=\"dataframe\">\n",
       "  <thead>\n",
       "    <tr style=\"text-align: right;\">\n",
       "      <th></th>\n",
       "      <th></th>\n",
       "      <th>gb_used_rounded</th>\n",
       "    </tr>\n",
       "    <tr>\n",
       "      <th>user_id</th>\n",
       "      <th>month</th>\n",
       "      <th></th>\n",
       "    </tr>\n",
       "  </thead>\n",
       "  <tbody>\n",
       "    <tr>\n",
       "      <th>1000</th>\n",
       "      <th>12</th>\n",
       "      <td>2</td>\n",
       "    </tr>\n",
       "    <tr>\n",
       "      <th rowspan=\"4\" valign=\"top\">1001</th>\n",
       "      <th>8</th>\n",
       "      <td>7</td>\n",
       "    </tr>\n",
       "    <tr>\n",
       "      <th>9</th>\n",
       "      <td>14</td>\n",
       "    </tr>\n",
       "    <tr>\n",
       "      <th>10</th>\n",
       "      <td>22</td>\n",
       "    </tr>\n",
       "    <tr>\n",
       "      <th>11</th>\n",
       "      <td>19</td>\n",
       "    </tr>\n",
       "  </tbody>\n",
       "</table>\n",
       "</div>"
      ],
      "text/plain": [
       "               gb_used_rounded\n",
       "user_id month                 \n",
       "1000    12                   2\n",
       "1001    8                    7\n",
       "        9                   14\n",
       "        10                  22\n",
       "        11                  19"
      ]
     },
     "execution_count": 41,
     "metadata": {},
     "output_type": "execute_result"
    }
   ],
   "source": [
    "#se eliminan las columnas que ya no me sirven para evitar la acumulación de datos innecesarios\n",
    "internet_total.drop (columns = ['mb_used', 'gb_used'], inplace = True)\n",
    "internet_total.head()"
   ]
  },
  {
   "cell_type": "code",
   "execution_count": 42,
   "metadata": {},
   "outputs": [
    {
     "data": {
      "text/html": [
       "<div>\n",
       "<style scoped>\n",
       "    .dataframe tbody tr th:only-of-type {\n",
       "        vertical-align: middle;\n",
       "    }\n",
       "\n",
       "    .dataframe tbody tr th {\n",
       "        vertical-align: top;\n",
       "    }\n",
       "\n",
       "    .dataframe thead th {\n",
       "        text-align: right;\n",
       "    }\n",
       "</style>\n",
       "<table border=\"1\" class=\"dataframe\">\n",
       "  <thead>\n",
       "    <tr style=\"text-align: right;\">\n",
       "      <th></th>\n",
       "      <th></th>\n",
       "      <th>gb_usados</th>\n",
       "    </tr>\n",
       "    <tr>\n",
       "      <th>user_id</th>\n",
       "      <th>month</th>\n",
       "      <th></th>\n",
       "    </tr>\n",
       "  </thead>\n",
       "  <tbody>\n",
       "    <tr>\n",
       "      <th>1000</th>\n",
       "      <th>12</th>\n",
       "      <td>2</td>\n",
       "    </tr>\n",
       "    <tr>\n",
       "      <th rowspan=\"4\" valign=\"top\">1001</th>\n",
       "      <th>8</th>\n",
       "      <td>7</td>\n",
       "    </tr>\n",
       "    <tr>\n",
       "      <th>9</th>\n",
       "      <td>14</td>\n",
       "    </tr>\n",
       "    <tr>\n",
       "      <th>10</th>\n",
       "      <td>22</td>\n",
       "    </tr>\n",
       "    <tr>\n",
       "      <th>11</th>\n",
       "      <td>19</td>\n",
       "    </tr>\n",
       "  </tbody>\n",
       "</table>\n",
       "</div>"
      ],
      "text/plain": [
       "               gb_usados\n",
       "user_id month           \n",
       "1000    12             2\n",
       "1001    8              7\n",
       "        9             14\n",
       "        10            22\n",
       "        11            19"
      ]
     },
     "execution_count": 42,
     "metadata": {},
     "output_type": "execute_result"
    }
   ],
   "source": [
    "#renombrar la columna con un nombre más facil de usar\n",
    "internet_total.columns = ['gb_usados']\n",
    "internet_total.head()"
   ]
  },
  {
   "cell_type": "code",
   "execution_count": 43,
   "metadata": {
    "id": "FW99ykyf0q1H"
   },
   "outputs": [
    {
     "data": {
      "text/html": [
       "<div>\n",
       "<style scoped>\n",
       "    .dataframe tbody tr th:only-of-type {\n",
       "        vertical-align: middle;\n",
       "    }\n",
       "\n",
       "    .dataframe tbody tr th {\n",
       "        vertical-align: top;\n",
       "    }\n",
       "\n",
       "    .dataframe thead th {\n",
       "        text-align: right;\n",
       "    }\n",
       "</style>\n",
       "<table border=\"1\" class=\"dataframe\">\n",
       "  <thead>\n",
       "    <tr style=\"text-align: right;\">\n",
       "      <th></th>\n",
       "      <th></th>\n",
       "      <th>total_llamadas</th>\n",
       "      <th>min_usados</th>\n",
       "      <th>total_mensajes</th>\n",
       "      <th>gb_usados</th>\n",
       "    </tr>\n",
       "    <tr>\n",
       "      <th>user_id</th>\n",
       "      <th>month</th>\n",
       "      <th></th>\n",
       "      <th></th>\n",
       "      <th></th>\n",
       "      <th></th>\n",
       "    </tr>\n",
       "  </thead>\n",
       "  <tbody>\n",
       "    <tr>\n",
       "      <th>1000</th>\n",
       "      <th>12</th>\n",
       "      <td>16.0</td>\n",
       "      <td>124.0</td>\n",
       "      <td>11.0</td>\n",
       "      <td>2.0</td>\n",
       "    </tr>\n",
       "    <tr>\n",
       "      <th rowspan=\"4\" valign=\"top\">1001</th>\n",
       "      <th>8</th>\n",
       "      <td>27.0</td>\n",
       "      <td>182.0</td>\n",
       "      <td>30.0</td>\n",
       "      <td>7.0</td>\n",
       "    </tr>\n",
       "    <tr>\n",
       "      <th>9</th>\n",
       "      <td>49.0</td>\n",
       "      <td>315.0</td>\n",
       "      <td>44.0</td>\n",
       "      <td>14.0</td>\n",
       "    </tr>\n",
       "    <tr>\n",
       "      <th>10</th>\n",
       "      <td>65.0</td>\n",
       "      <td>393.0</td>\n",
       "      <td>53.0</td>\n",
       "      <td>22.0</td>\n",
       "    </tr>\n",
       "    <tr>\n",
       "      <th>11</th>\n",
       "      <td>64.0</td>\n",
       "      <td>426.0</td>\n",
       "      <td>36.0</td>\n",
       "      <td>19.0</td>\n",
       "    </tr>\n",
       "  </tbody>\n",
       "</table>\n",
       "</div>"
      ],
      "text/plain": [
       "               total_llamadas  min_usados  total_mensajes  gb_usados\n",
       "user_id month                                                       \n",
       "1000    12               16.0       124.0            11.0        2.0\n",
       "1001    8                27.0       182.0            30.0        7.0\n",
       "        9                49.0       315.0            44.0       14.0\n",
       "        10               65.0       393.0            53.0       22.0\n",
       "        11               64.0       426.0            36.0       19.0"
      ]
     },
     "execution_count": 43,
     "metadata": {},
     "output_type": "execute_result"
    }
   ],
   "source": [
    "# Fusiona los datos de llamadas, minutos, mensajes e Internet con base en user_id y month para contar con todos los datos en una misma tabla a usar posteriormente\n",
    "#se une con el método merge en una sola línea todas las tablas en lugar de hacer varios códigos para lo mismo\n",
    "resumen_uso = llamadas_total.merge (llamadas_resumen, \n",
    "                                    on = ['user_id', 'month'], \n",
    "                                    how = 'outer'\n",
    "                                   ).merge(mensajes_total, \n",
    "                                    on = ['user_id', 'month'], \n",
    "                                    how = 'outer'\n",
    "                                    ). merge (internet_total,\n",
    "                                    on = ['user_id', 'month'], \n",
    "                                    how = 'outer')\n",
    "resumen_uso.head()"
   ]
  },
  {
   "cell_type": "code",
   "execution_count": 44,
   "metadata": {
    "id": "0dNOXHag0q1H"
   },
   "outputs": [
    {
     "data": {
      "text/html": [
       "<div>\n",
       "<style scoped>\n",
       "    .dataframe tbody tr th:only-of-type {\n",
       "        vertical-align: middle;\n",
       "    }\n",
       "\n",
       "    .dataframe tbody tr th {\n",
       "        vertical-align: top;\n",
       "    }\n",
       "\n",
       "    .dataframe thead th {\n",
       "        text-align: right;\n",
       "    }\n",
       "</style>\n",
       "<table border=\"1\" class=\"dataframe\">\n",
       "  <thead>\n",
       "    <tr style=\"text-align: right;\">\n",
       "      <th></th>\n",
       "      <th></th>\n",
       "      <th>user_id</th>\n",
       "      <th>total_llamadas</th>\n",
       "      <th>min_usados</th>\n",
       "      <th>total_mensajes</th>\n",
       "      <th>gb_usados</th>\n",
       "      <th>plan</th>\n",
       "      <th>messages_included</th>\n",
       "      <th>minutes_included</th>\n",
       "      <th>usd_monthly_pay</th>\n",
       "      <th>usd_per_gb</th>\n",
       "      <th>usd_per_message</th>\n",
       "      <th>usd_per_minute</th>\n",
       "      <th>gb_included</th>\n",
       "    </tr>\n",
       "    <tr>\n",
       "      <th>user_id</th>\n",
       "      <th>month</th>\n",
       "      <th></th>\n",
       "      <th></th>\n",
       "      <th></th>\n",
       "      <th></th>\n",
       "      <th></th>\n",
       "      <th></th>\n",
       "      <th></th>\n",
       "      <th></th>\n",
       "      <th></th>\n",
       "      <th></th>\n",
       "      <th></th>\n",
       "      <th></th>\n",
       "      <th></th>\n",
       "    </tr>\n",
       "  </thead>\n",
       "  <tbody>\n",
       "    <tr>\n",
       "      <th>1000</th>\n",
       "      <th>12</th>\n",
       "      <td>1000</td>\n",
       "      <td>16.0</td>\n",
       "      <td>124.0</td>\n",
       "      <td>11.0</td>\n",
       "      <td>2.0</td>\n",
       "      <td>ultimate</td>\n",
       "      <td>1000</td>\n",
       "      <td>3000</td>\n",
       "      <td>70</td>\n",
       "      <td>7</td>\n",
       "      <td>0.01</td>\n",
       "      <td>0.01</td>\n",
       "      <td>30.0</td>\n",
       "    </tr>\n",
       "    <tr>\n",
       "      <th rowspan=\"4\" valign=\"top\">1001</th>\n",
       "      <th>8</th>\n",
       "      <td>1001</td>\n",
       "      <td>27.0</td>\n",
       "      <td>182.0</td>\n",
       "      <td>30.0</td>\n",
       "      <td>7.0</td>\n",
       "      <td>surf</td>\n",
       "      <td>50</td>\n",
       "      <td>500</td>\n",
       "      <td>20</td>\n",
       "      <td>10</td>\n",
       "      <td>0.03</td>\n",
       "      <td>0.03</td>\n",
       "      <td>15.0</td>\n",
       "    </tr>\n",
       "    <tr>\n",
       "      <th>9</th>\n",
       "      <td>1001</td>\n",
       "      <td>49.0</td>\n",
       "      <td>315.0</td>\n",
       "      <td>44.0</td>\n",
       "      <td>14.0</td>\n",
       "      <td>surf</td>\n",
       "      <td>50</td>\n",
       "      <td>500</td>\n",
       "      <td>20</td>\n",
       "      <td>10</td>\n",
       "      <td>0.03</td>\n",
       "      <td>0.03</td>\n",
       "      <td>15.0</td>\n",
       "    </tr>\n",
       "    <tr>\n",
       "      <th>10</th>\n",
       "      <td>1001</td>\n",
       "      <td>65.0</td>\n",
       "      <td>393.0</td>\n",
       "      <td>53.0</td>\n",
       "      <td>22.0</td>\n",
       "      <td>surf</td>\n",
       "      <td>50</td>\n",
       "      <td>500</td>\n",
       "      <td>20</td>\n",
       "      <td>10</td>\n",
       "      <td>0.03</td>\n",
       "      <td>0.03</td>\n",
       "      <td>15.0</td>\n",
       "    </tr>\n",
       "    <tr>\n",
       "      <th>11</th>\n",
       "      <td>1001</td>\n",
       "      <td>64.0</td>\n",
       "      <td>426.0</td>\n",
       "      <td>36.0</td>\n",
       "      <td>19.0</td>\n",
       "      <td>surf</td>\n",
       "      <td>50</td>\n",
       "      <td>500</td>\n",
       "      <td>20</td>\n",
       "      <td>10</td>\n",
       "      <td>0.03</td>\n",
       "      <td>0.03</td>\n",
       "      <td>15.0</td>\n",
       "    </tr>\n",
       "  </tbody>\n",
       "</table>\n",
       "</div>"
      ],
      "text/plain": [
       "               user_id  total_llamadas  min_usados  total_mensajes  gb_usados  \\\n",
       "user_id month                                                                   \n",
       "1000    12        1000            16.0       124.0            11.0        2.0   \n",
       "1001    8         1001            27.0       182.0            30.0        7.0   \n",
       "        9         1001            49.0       315.0            44.0       14.0   \n",
       "        10        1001            65.0       393.0            53.0       22.0   \n",
       "        11        1001            64.0       426.0            36.0       19.0   \n",
       "\n",
       "                   plan  messages_included  minutes_included  usd_monthly_pay  \\\n",
       "user_id month                                                                   \n",
       "1000    12     ultimate               1000              3000               70   \n",
       "1001    8          surf                 50               500               20   \n",
       "        9          surf                 50               500               20   \n",
       "        10         surf                 50               500               20   \n",
       "        11         surf                 50               500               20   \n",
       "\n",
       "               usd_per_gb  usd_per_message  usd_per_minute  gb_included  \n",
       "user_id month                                                            \n",
       "1000    12              7             0.01            0.01         30.0  \n",
       "1001    8              10             0.03            0.03         15.0  \n",
       "        9              10             0.03            0.03         15.0  \n",
       "        10             10             0.03            0.03         15.0  \n",
       "        11             10             0.03            0.03         15.0  "
      ]
     },
     "execution_count": 44,
     "metadata": {},
     "output_type": "execute_result"
    }
   ],
   "source": [
    "# Añade la información de la tarifa. Se agrega las columnas de user_id y plan de la tabla usuarios para poder unir con las tarifas mediante el plan\n",
    "consolidado = resumen_uso.merge(usuarios[['user_id', 'plan',]], \n",
    "                                on = 'user_id', \n",
    "                                how = 'left' \n",
    "                               ).merge(tarifas, \n",
    "                                on = 'plan', \n",
    "                                how = 'left'\n",
    "                                ).set_index(resumen_uso.index)\n",
    "consolidado.head()"
   ]
  },
  {
   "cell_type": "code",
   "execution_count": 45,
   "metadata": {},
   "outputs": [
    {
     "name": "stdout",
     "output_type": "stream",
     "text": [
      "<class 'pandas.core.frame.DataFrame'>\n",
      "MultiIndex: 2293 entries, (1000, 12) to (1311, 6)\n",
      "Data columns (total 13 columns):\n",
      " #   Column             Non-Null Count  Dtype  \n",
      "---  ------             --------------  -----  \n",
      " 0   user_id            2293 non-null   int64  \n",
      " 1   total_llamadas     2258 non-null   float64\n",
      " 2   min_usados         2258 non-null   float64\n",
      " 3   total_mensajes     1806 non-null   float64\n",
      " 4   gb_usados          2277 non-null   float64\n",
      " 5   plan               2293 non-null   object \n",
      " 6   messages_included  2293 non-null   int64  \n",
      " 7   minutes_included   2293 non-null   int64  \n",
      " 8   usd_monthly_pay    2293 non-null   int64  \n",
      " 9   usd_per_gb         2293 non-null   int64  \n",
      " 10  usd_per_message    2293 non-null   float64\n",
      " 11  usd_per_minute     2293 non-null   float64\n",
      " 12  gb_included        2293 non-null   float64\n",
      "dtypes: float64(7), int64(5), object(1)\n",
      "memory usage: 260.1+ KB\n"
     ]
    }
   ],
   "source": [
    "#se verifica a información general del nuevo dataframe \n",
    "consolidado.info()"
   ]
  },
  {
   "cell_type": "markdown",
   "metadata": {},
   "source": [
    "Se puede ver que se tienen datos nulos, sin embargo se los puede rellenar con 0 ya que significa que ese usuario no hizo uso de ese funcionalidad. "
   ]
  },
  {
   "cell_type": "code",
   "execution_count": 46,
   "metadata": {},
   "outputs": [
    {
     "name": "stdout",
     "output_type": "stream",
     "text": [
      "<class 'pandas.core.frame.DataFrame'>\n",
      "MultiIndex: 2293 entries, (1000, 12) to (1311, 6)\n",
      "Data columns (total 13 columns):\n",
      " #   Column             Non-Null Count  Dtype  \n",
      "---  ------             --------------  -----  \n",
      " 0   user_id            2293 non-null   int64  \n",
      " 1   total_llamadas     2293 non-null   float64\n",
      " 2   min_usados         2293 non-null   float64\n",
      " 3   total_mensajes     2293 non-null   float64\n",
      " 4   gb_usados          2293 non-null   float64\n",
      " 5   plan               2293 non-null   object \n",
      " 6   messages_included  2293 non-null   int64  \n",
      " 7   minutes_included   2293 non-null   int64  \n",
      " 8   usd_monthly_pay    2293 non-null   int64  \n",
      " 9   usd_per_gb         2293 non-null   int64  \n",
      " 10  usd_per_message    2293 non-null   float64\n",
      " 11  usd_per_minute     2293 non-null   float64\n",
      " 12  gb_included        2293 non-null   float64\n",
      "dtypes: float64(7), int64(5), object(1)\n",
      "memory usage: 260.1+ KB\n"
     ]
    }
   ],
   "source": [
    "#se completa los datos nulos con 0, en este caso corresponde 0 ya qe significa que ese usuario no utilizo ese servicio\n",
    "resumen_final = consolidado.copy()\n",
    "resumen_final ['total_llamadas'] = resumen_final ['total_llamadas'] .fillna (0)\n",
    "resumen_final ['min_usados'] = resumen_final ['min_usados'] .fillna (0)\n",
    "resumen_final ['total_mensajes'] = resumen_final ['total_mensajes'] .fillna (0)\n",
    "resumen_final ['gb_usados'] = resumen_final ['gb_usados'] .fillna (0)\n",
    "resumen_final.info()"
   ]
  },
  {
   "cell_type": "code",
   "execution_count": 47,
   "metadata": {
    "id": "5FGCf_c60q1I"
   },
   "outputs": [],
   "source": [
    "# Calcula el ingreso mensual para cada usuario. Primero se calcula los excesos para cada uno\n",
    "#se crea una funcion que calcule los excesos y en la tabla no nos encontremos con valores negativos. De ser el caso que el usuario usó menos de lo que tenía incluido. \n",
    "def excesos (x):\n",
    "    if x > 0:\n",
    "        return x\n",
    "    else: \n",
    "        return 0"
   ]
  },
  {
   "cell_type": "code",
   "execution_count": 48,
   "metadata": {},
   "outputs": [
    {
     "data": {
      "text/html": [
       "<div>\n",
       "<style scoped>\n",
       "    .dataframe tbody tr th:only-of-type {\n",
       "        vertical-align: middle;\n",
       "    }\n",
       "\n",
       "    .dataframe tbody tr th {\n",
       "        vertical-align: top;\n",
       "    }\n",
       "\n",
       "    .dataframe thead th {\n",
       "        text-align: right;\n",
       "    }\n",
       "</style>\n",
       "<table border=\"1\" class=\"dataframe\">\n",
       "  <thead>\n",
       "    <tr style=\"text-align: right;\">\n",
       "      <th></th>\n",
       "      <th></th>\n",
       "      <th>user_id</th>\n",
       "      <th>total_llamadas</th>\n",
       "      <th>min_usados</th>\n",
       "      <th>total_mensajes</th>\n",
       "      <th>gb_usados</th>\n",
       "      <th>plan</th>\n",
       "      <th>messages_included</th>\n",
       "      <th>minutes_included</th>\n",
       "      <th>usd_monthly_pay</th>\n",
       "      <th>usd_per_gb</th>\n",
       "      <th>usd_per_message</th>\n",
       "      <th>usd_per_minute</th>\n",
       "      <th>gb_included</th>\n",
       "      <th>min_exceso</th>\n",
       "    </tr>\n",
       "    <tr>\n",
       "      <th>user_id</th>\n",
       "      <th>month</th>\n",
       "      <th></th>\n",
       "      <th></th>\n",
       "      <th></th>\n",
       "      <th></th>\n",
       "      <th></th>\n",
       "      <th></th>\n",
       "      <th></th>\n",
       "      <th></th>\n",
       "      <th></th>\n",
       "      <th></th>\n",
       "      <th></th>\n",
       "      <th></th>\n",
       "      <th></th>\n",
       "      <th></th>\n",
       "    </tr>\n",
       "  </thead>\n",
       "  <tbody>\n",
       "    <tr>\n",
       "      <th>1000</th>\n",
       "      <th>12</th>\n",
       "      <td>1000</td>\n",
       "      <td>16.0</td>\n",
       "      <td>124.0</td>\n",
       "      <td>11.0</td>\n",
       "      <td>2.0</td>\n",
       "      <td>ultimate</td>\n",
       "      <td>1000</td>\n",
       "      <td>3000</td>\n",
       "      <td>70</td>\n",
       "      <td>7</td>\n",
       "      <td>0.01</td>\n",
       "      <td>0.01</td>\n",
       "      <td>30.0</td>\n",
       "      <td>0.0</td>\n",
       "    </tr>\n",
       "    <tr>\n",
       "      <th rowspan=\"4\" valign=\"top\">1001</th>\n",
       "      <th>8</th>\n",
       "      <td>1001</td>\n",
       "      <td>27.0</td>\n",
       "      <td>182.0</td>\n",
       "      <td>30.0</td>\n",
       "      <td>7.0</td>\n",
       "      <td>surf</td>\n",
       "      <td>50</td>\n",
       "      <td>500</td>\n",
       "      <td>20</td>\n",
       "      <td>10</td>\n",
       "      <td>0.03</td>\n",
       "      <td>0.03</td>\n",
       "      <td>15.0</td>\n",
       "      <td>0.0</td>\n",
       "    </tr>\n",
       "    <tr>\n",
       "      <th>9</th>\n",
       "      <td>1001</td>\n",
       "      <td>49.0</td>\n",
       "      <td>315.0</td>\n",
       "      <td>44.0</td>\n",
       "      <td>14.0</td>\n",
       "      <td>surf</td>\n",
       "      <td>50</td>\n",
       "      <td>500</td>\n",
       "      <td>20</td>\n",
       "      <td>10</td>\n",
       "      <td>0.03</td>\n",
       "      <td>0.03</td>\n",
       "      <td>15.0</td>\n",
       "      <td>0.0</td>\n",
       "    </tr>\n",
       "    <tr>\n",
       "      <th>10</th>\n",
       "      <td>1001</td>\n",
       "      <td>65.0</td>\n",
       "      <td>393.0</td>\n",
       "      <td>53.0</td>\n",
       "      <td>22.0</td>\n",
       "      <td>surf</td>\n",
       "      <td>50</td>\n",
       "      <td>500</td>\n",
       "      <td>20</td>\n",
       "      <td>10</td>\n",
       "      <td>0.03</td>\n",
       "      <td>0.03</td>\n",
       "      <td>15.0</td>\n",
       "      <td>0.0</td>\n",
       "    </tr>\n",
       "    <tr>\n",
       "      <th>11</th>\n",
       "      <td>1001</td>\n",
       "      <td>64.0</td>\n",
       "      <td>426.0</td>\n",
       "      <td>36.0</td>\n",
       "      <td>19.0</td>\n",
       "      <td>surf</td>\n",
       "      <td>50</td>\n",
       "      <td>500</td>\n",
       "      <td>20</td>\n",
       "      <td>10</td>\n",
       "      <td>0.03</td>\n",
       "      <td>0.03</td>\n",
       "      <td>15.0</td>\n",
       "      <td>0.0</td>\n",
       "    </tr>\n",
       "  </tbody>\n",
       "</table>\n",
       "</div>"
      ],
      "text/plain": [
       "               user_id  total_llamadas  min_usados  total_mensajes  gb_usados  \\\n",
       "user_id month                                                                   \n",
       "1000    12        1000            16.0       124.0            11.0        2.0   \n",
       "1001    8         1001            27.0       182.0            30.0        7.0   \n",
       "        9         1001            49.0       315.0            44.0       14.0   \n",
       "        10        1001            65.0       393.0            53.0       22.0   \n",
       "        11        1001            64.0       426.0            36.0       19.0   \n",
       "\n",
       "                   plan  messages_included  minutes_included  usd_monthly_pay  \\\n",
       "user_id month                                                                   \n",
       "1000    12     ultimate               1000              3000               70   \n",
       "1001    8          surf                 50               500               20   \n",
       "        9          surf                 50               500               20   \n",
       "        10         surf                 50               500               20   \n",
       "        11         surf                 50               500               20   \n",
       "\n",
       "               usd_per_gb  usd_per_message  usd_per_minute  gb_included  \\\n",
       "user_id month                                                             \n",
       "1000    12              7             0.01            0.01         30.0   \n",
       "1001    8              10             0.03            0.03         15.0   \n",
       "        9              10             0.03            0.03         15.0   \n",
       "        10             10             0.03            0.03         15.0   \n",
       "        11             10             0.03            0.03         15.0   \n",
       "\n",
       "               min_exceso  \n",
       "user_id month              \n",
       "1000    12            0.0  \n",
       "1001    8             0.0  \n",
       "        9             0.0  \n",
       "        10            0.0  \n",
       "        11            0.0  "
      ]
     },
     "execution_count": 48,
     "metadata": {},
     "output_type": "execute_result"
    }
   ],
   "source": [
    "#calcular minutos de llamadas en exceso por usuario. Se crea nueva columna. Se resta lo usado de lo incluido y se aplica la función\n",
    "resumen_final ['min_exceso'] = resumen_final ['min_usados'] - resumen_final['minutes_included']\n",
    "resumen_final ['min_exceso'] = resumen_final ['min_exceso'].apply (excesos)\n",
    "resumen_final.head()"
   ]
  },
  {
   "cell_type": "code",
   "execution_count": 49,
   "metadata": {},
   "outputs": [
    {
     "data": {
      "text/html": [
       "<div>\n",
       "<style scoped>\n",
       "    .dataframe tbody tr th:only-of-type {\n",
       "        vertical-align: middle;\n",
       "    }\n",
       "\n",
       "    .dataframe tbody tr th {\n",
       "        vertical-align: top;\n",
       "    }\n",
       "\n",
       "    .dataframe thead th {\n",
       "        text-align: right;\n",
       "    }\n",
       "</style>\n",
       "<table border=\"1\" class=\"dataframe\">\n",
       "  <thead>\n",
       "    <tr style=\"text-align: right;\">\n",
       "      <th></th>\n",
       "      <th></th>\n",
       "      <th>user_id</th>\n",
       "      <th>total_llamadas</th>\n",
       "      <th>min_usados</th>\n",
       "      <th>total_mensajes</th>\n",
       "      <th>gb_usados</th>\n",
       "      <th>plan</th>\n",
       "      <th>messages_included</th>\n",
       "      <th>minutes_included</th>\n",
       "      <th>usd_monthly_pay</th>\n",
       "      <th>usd_per_gb</th>\n",
       "      <th>usd_per_message</th>\n",
       "      <th>usd_per_minute</th>\n",
       "      <th>gb_included</th>\n",
       "      <th>min_exceso</th>\n",
       "      <th>msj_exceso</th>\n",
       "    </tr>\n",
       "    <tr>\n",
       "      <th>user_id</th>\n",
       "      <th>month</th>\n",
       "      <th></th>\n",
       "      <th></th>\n",
       "      <th></th>\n",
       "      <th></th>\n",
       "      <th></th>\n",
       "      <th></th>\n",
       "      <th></th>\n",
       "      <th></th>\n",
       "      <th></th>\n",
       "      <th></th>\n",
       "      <th></th>\n",
       "      <th></th>\n",
       "      <th></th>\n",
       "      <th></th>\n",
       "      <th></th>\n",
       "    </tr>\n",
       "  </thead>\n",
       "  <tbody>\n",
       "    <tr>\n",
       "      <th>1000</th>\n",
       "      <th>12</th>\n",
       "      <td>1000</td>\n",
       "      <td>16.0</td>\n",
       "      <td>124.0</td>\n",
       "      <td>11.0</td>\n",
       "      <td>2.0</td>\n",
       "      <td>ultimate</td>\n",
       "      <td>1000</td>\n",
       "      <td>3000</td>\n",
       "      <td>70</td>\n",
       "      <td>7</td>\n",
       "      <td>0.01</td>\n",
       "      <td>0.01</td>\n",
       "      <td>30.0</td>\n",
       "      <td>0.0</td>\n",
       "      <td>0.0</td>\n",
       "    </tr>\n",
       "    <tr>\n",
       "      <th rowspan=\"4\" valign=\"top\">1001</th>\n",
       "      <th>8</th>\n",
       "      <td>1001</td>\n",
       "      <td>27.0</td>\n",
       "      <td>182.0</td>\n",
       "      <td>30.0</td>\n",
       "      <td>7.0</td>\n",
       "      <td>surf</td>\n",
       "      <td>50</td>\n",
       "      <td>500</td>\n",
       "      <td>20</td>\n",
       "      <td>10</td>\n",
       "      <td>0.03</td>\n",
       "      <td>0.03</td>\n",
       "      <td>15.0</td>\n",
       "      <td>0.0</td>\n",
       "      <td>0.0</td>\n",
       "    </tr>\n",
       "    <tr>\n",
       "      <th>9</th>\n",
       "      <td>1001</td>\n",
       "      <td>49.0</td>\n",
       "      <td>315.0</td>\n",
       "      <td>44.0</td>\n",
       "      <td>14.0</td>\n",
       "      <td>surf</td>\n",
       "      <td>50</td>\n",
       "      <td>500</td>\n",
       "      <td>20</td>\n",
       "      <td>10</td>\n",
       "      <td>0.03</td>\n",
       "      <td>0.03</td>\n",
       "      <td>15.0</td>\n",
       "      <td>0.0</td>\n",
       "      <td>0.0</td>\n",
       "    </tr>\n",
       "    <tr>\n",
       "      <th>10</th>\n",
       "      <td>1001</td>\n",
       "      <td>65.0</td>\n",
       "      <td>393.0</td>\n",
       "      <td>53.0</td>\n",
       "      <td>22.0</td>\n",
       "      <td>surf</td>\n",
       "      <td>50</td>\n",
       "      <td>500</td>\n",
       "      <td>20</td>\n",
       "      <td>10</td>\n",
       "      <td>0.03</td>\n",
       "      <td>0.03</td>\n",
       "      <td>15.0</td>\n",
       "      <td>0.0</td>\n",
       "      <td>3.0</td>\n",
       "    </tr>\n",
       "    <tr>\n",
       "      <th>11</th>\n",
       "      <td>1001</td>\n",
       "      <td>64.0</td>\n",
       "      <td>426.0</td>\n",
       "      <td>36.0</td>\n",
       "      <td>19.0</td>\n",
       "      <td>surf</td>\n",
       "      <td>50</td>\n",
       "      <td>500</td>\n",
       "      <td>20</td>\n",
       "      <td>10</td>\n",
       "      <td>0.03</td>\n",
       "      <td>0.03</td>\n",
       "      <td>15.0</td>\n",
       "      <td>0.0</td>\n",
       "      <td>0.0</td>\n",
       "    </tr>\n",
       "  </tbody>\n",
       "</table>\n",
       "</div>"
      ],
      "text/plain": [
       "               user_id  total_llamadas  min_usados  total_mensajes  gb_usados  \\\n",
       "user_id month                                                                   \n",
       "1000    12        1000            16.0       124.0            11.0        2.0   \n",
       "1001    8         1001            27.0       182.0            30.0        7.0   \n",
       "        9         1001            49.0       315.0            44.0       14.0   \n",
       "        10        1001            65.0       393.0            53.0       22.0   \n",
       "        11        1001            64.0       426.0            36.0       19.0   \n",
       "\n",
       "                   plan  messages_included  minutes_included  usd_monthly_pay  \\\n",
       "user_id month                                                                   \n",
       "1000    12     ultimate               1000              3000               70   \n",
       "1001    8          surf                 50               500               20   \n",
       "        9          surf                 50               500               20   \n",
       "        10         surf                 50               500               20   \n",
       "        11         surf                 50               500               20   \n",
       "\n",
       "               usd_per_gb  usd_per_message  usd_per_minute  gb_included  \\\n",
       "user_id month                                                             \n",
       "1000    12              7             0.01            0.01         30.0   \n",
       "1001    8              10             0.03            0.03         15.0   \n",
       "        9              10             0.03            0.03         15.0   \n",
       "        10             10             0.03            0.03         15.0   \n",
       "        11             10             0.03            0.03         15.0   \n",
       "\n",
       "               min_exceso  msj_exceso  \n",
       "user_id month                          \n",
       "1000    12            0.0         0.0  \n",
       "1001    8             0.0         0.0  \n",
       "        9             0.0         0.0  \n",
       "        10            0.0         3.0  \n",
       "        11            0.0         0.0  "
      ]
     },
     "execution_count": 49,
     "metadata": {},
     "output_type": "execute_result"
    }
   ],
   "source": [
    "#calcular mensajes en exceso por usuario.  Se crea nueva columna. Se resta lo usado de lo incluido y se aplica la función. \n",
    "resumen_final ['msj_exceso'] = resumen_final ['total_mensajes'] - resumen_final['messages_included']\n",
    "resumen_final ['msj_exceso'] = resumen_final ['msj_exceso'].apply (excesos)\n",
    "resumen_final.head()"
   ]
  },
  {
   "cell_type": "code",
   "execution_count": 50,
   "metadata": {},
   "outputs": [
    {
     "data": {
      "text/html": [
       "<div>\n",
       "<style scoped>\n",
       "    .dataframe tbody tr th:only-of-type {\n",
       "        vertical-align: middle;\n",
       "    }\n",
       "\n",
       "    .dataframe tbody tr th {\n",
       "        vertical-align: top;\n",
       "    }\n",
       "\n",
       "    .dataframe thead th {\n",
       "        text-align: right;\n",
       "    }\n",
       "</style>\n",
       "<table border=\"1\" class=\"dataframe\">\n",
       "  <thead>\n",
       "    <tr style=\"text-align: right;\">\n",
       "      <th></th>\n",
       "      <th></th>\n",
       "      <th>user_id</th>\n",
       "      <th>total_llamadas</th>\n",
       "      <th>min_usados</th>\n",
       "      <th>total_mensajes</th>\n",
       "      <th>gb_usados</th>\n",
       "      <th>plan</th>\n",
       "      <th>messages_included</th>\n",
       "      <th>minutes_included</th>\n",
       "      <th>usd_monthly_pay</th>\n",
       "      <th>usd_per_gb</th>\n",
       "      <th>usd_per_message</th>\n",
       "      <th>usd_per_minute</th>\n",
       "      <th>gb_included</th>\n",
       "      <th>min_exceso</th>\n",
       "      <th>msj_exceso</th>\n",
       "      <th>gb_exceso</th>\n",
       "    </tr>\n",
       "    <tr>\n",
       "      <th>user_id</th>\n",
       "      <th>month</th>\n",
       "      <th></th>\n",
       "      <th></th>\n",
       "      <th></th>\n",
       "      <th></th>\n",
       "      <th></th>\n",
       "      <th></th>\n",
       "      <th></th>\n",
       "      <th></th>\n",
       "      <th></th>\n",
       "      <th></th>\n",
       "      <th></th>\n",
       "      <th></th>\n",
       "      <th></th>\n",
       "      <th></th>\n",
       "      <th></th>\n",
       "      <th></th>\n",
       "    </tr>\n",
       "  </thead>\n",
       "  <tbody>\n",
       "    <tr>\n",
       "      <th>1000</th>\n",
       "      <th>12</th>\n",
       "      <td>1000</td>\n",
       "      <td>16.0</td>\n",
       "      <td>124.0</td>\n",
       "      <td>11.0</td>\n",
       "      <td>2.0</td>\n",
       "      <td>ultimate</td>\n",
       "      <td>1000</td>\n",
       "      <td>3000</td>\n",
       "      <td>70</td>\n",
       "      <td>7</td>\n",
       "      <td>0.01</td>\n",
       "      <td>0.01</td>\n",
       "      <td>30.0</td>\n",
       "      <td>0.0</td>\n",
       "      <td>0.0</td>\n",
       "      <td>0.0</td>\n",
       "    </tr>\n",
       "    <tr>\n",
       "      <th rowspan=\"4\" valign=\"top\">1001</th>\n",
       "      <th>8</th>\n",
       "      <td>1001</td>\n",
       "      <td>27.0</td>\n",
       "      <td>182.0</td>\n",
       "      <td>30.0</td>\n",
       "      <td>7.0</td>\n",
       "      <td>surf</td>\n",
       "      <td>50</td>\n",
       "      <td>500</td>\n",
       "      <td>20</td>\n",
       "      <td>10</td>\n",
       "      <td>0.03</td>\n",
       "      <td>0.03</td>\n",
       "      <td>15.0</td>\n",
       "      <td>0.0</td>\n",
       "      <td>0.0</td>\n",
       "      <td>0.0</td>\n",
       "    </tr>\n",
       "    <tr>\n",
       "      <th>9</th>\n",
       "      <td>1001</td>\n",
       "      <td>49.0</td>\n",
       "      <td>315.0</td>\n",
       "      <td>44.0</td>\n",
       "      <td>14.0</td>\n",
       "      <td>surf</td>\n",
       "      <td>50</td>\n",
       "      <td>500</td>\n",
       "      <td>20</td>\n",
       "      <td>10</td>\n",
       "      <td>0.03</td>\n",
       "      <td>0.03</td>\n",
       "      <td>15.0</td>\n",
       "      <td>0.0</td>\n",
       "      <td>0.0</td>\n",
       "      <td>0.0</td>\n",
       "    </tr>\n",
       "    <tr>\n",
       "      <th>10</th>\n",
       "      <td>1001</td>\n",
       "      <td>65.0</td>\n",
       "      <td>393.0</td>\n",
       "      <td>53.0</td>\n",
       "      <td>22.0</td>\n",
       "      <td>surf</td>\n",
       "      <td>50</td>\n",
       "      <td>500</td>\n",
       "      <td>20</td>\n",
       "      <td>10</td>\n",
       "      <td>0.03</td>\n",
       "      <td>0.03</td>\n",
       "      <td>15.0</td>\n",
       "      <td>0.0</td>\n",
       "      <td>3.0</td>\n",
       "      <td>7.0</td>\n",
       "    </tr>\n",
       "    <tr>\n",
       "      <th>11</th>\n",
       "      <td>1001</td>\n",
       "      <td>64.0</td>\n",
       "      <td>426.0</td>\n",
       "      <td>36.0</td>\n",
       "      <td>19.0</td>\n",
       "      <td>surf</td>\n",
       "      <td>50</td>\n",
       "      <td>500</td>\n",
       "      <td>20</td>\n",
       "      <td>10</td>\n",
       "      <td>0.03</td>\n",
       "      <td>0.03</td>\n",
       "      <td>15.0</td>\n",
       "      <td>0.0</td>\n",
       "      <td>0.0</td>\n",
       "      <td>4.0</td>\n",
       "    </tr>\n",
       "  </tbody>\n",
       "</table>\n",
       "</div>"
      ],
      "text/plain": [
       "               user_id  total_llamadas  min_usados  total_mensajes  gb_usados  \\\n",
       "user_id month                                                                   \n",
       "1000    12        1000            16.0       124.0            11.0        2.0   \n",
       "1001    8         1001            27.0       182.0            30.0        7.0   \n",
       "        9         1001            49.0       315.0            44.0       14.0   \n",
       "        10        1001            65.0       393.0            53.0       22.0   \n",
       "        11        1001            64.0       426.0            36.0       19.0   \n",
       "\n",
       "                   plan  messages_included  minutes_included  usd_monthly_pay  \\\n",
       "user_id month                                                                   \n",
       "1000    12     ultimate               1000              3000               70   \n",
       "1001    8          surf                 50               500               20   \n",
       "        9          surf                 50               500               20   \n",
       "        10         surf                 50               500               20   \n",
       "        11         surf                 50               500               20   \n",
       "\n",
       "               usd_per_gb  usd_per_message  usd_per_minute  gb_included  \\\n",
       "user_id month                                                             \n",
       "1000    12              7             0.01            0.01         30.0   \n",
       "1001    8              10             0.03            0.03         15.0   \n",
       "        9              10             0.03            0.03         15.0   \n",
       "        10             10             0.03            0.03         15.0   \n",
       "        11             10             0.03            0.03         15.0   \n",
       "\n",
       "               min_exceso  msj_exceso  gb_exceso  \n",
       "user_id month                                     \n",
       "1000    12            0.0         0.0        0.0  \n",
       "1001    8             0.0         0.0        0.0  \n",
       "        9             0.0         0.0        0.0  \n",
       "        10            0.0         3.0        7.0  \n",
       "        11            0.0         0.0        4.0  "
      ]
     },
     "execution_count": 50,
     "metadata": {},
     "output_type": "execute_result"
    }
   ],
   "source": [
    "#calcular las gb en exceso por usuario. Se crea nueva columna. Se resta lo usado de lo incluido y se aplica la función. \n",
    "resumen_final ['gb_exceso'] = resumen_final ['gb_usados'] - resumen_final['gb_included']\n",
    "resumen_final ['gb_exceso'] = resumen_final ['gb_exceso'].apply (excesos)\n",
    "resumen_final.head()"
   ]
  },
  {
   "cell_type": "code",
   "execution_count": 51,
   "metadata": {
    "scrolled": true
   },
   "outputs": [
    {
     "data": {
      "text/html": [
       "<div>\n",
       "<style scoped>\n",
       "    .dataframe tbody tr th:only-of-type {\n",
       "        vertical-align: middle;\n",
       "    }\n",
       "\n",
       "    .dataframe tbody tr th {\n",
       "        vertical-align: top;\n",
       "    }\n",
       "\n",
       "    .dataframe thead th {\n",
       "        text-align: right;\n",
       "    }\n",
       "</style>\n",
       "<table border=\"1\" class=\"dataframe\">\n",
       "  <thead>\n",
       "    <tr style=\"text-align: right;\">\n",
       "      <th></th>\n",
       "      <th></th>\n",
       "      <th>user_id</th>\n",
       "      <th>total_llamadas</th>\n",
       "      <th>min_usados</th>\n",
       "      <th>total_mensajes</th>\n",
       "      <th>gb_usados</th>\n",
       "      <th>plan</th>\n",
       "      <th>usd_monthly_pay</th>\n",
       "      <th>usd_per_gb</th>\n",
       "      <th>usd_per_message</th>\n",
       "      <th>usd_per_minute</th>\n",
       "      <th>min_exceso</th>\n",
       "      <th>msj_exceso</th>\n",
       "      <th>gb_exceso</th>\n",
       "    </tr>\n",
       "    <tr>\n",
       "      <th>user_id</th>\n",
       "      <th>month</th>\n",
       "      <th></th>\n",
       "      <th></th>\n",
       "      <th></th>\n",
       "      <th></th>\n",
       "      <th></th>\n",
       "      <th></th>\n",
       "      <th></th>\n",
       "      <th></th>\n",
       "      <th></th>\n",
       "      <th></th>\n",
       "      <th></th>\n",
       "      <th></th>\n",
       "      <th></th>\n",
       "    </tr>\n",
       "  </thead>\n",
       "  <tbody>\n",
       "    <tr>\n",
       "      <th>1000</th>\n",
       "      <th>12</th>\n",
       "      <td>1000</td>\n",
       "      <td>16.0</td>\n",
       "      <td>124.0</td>\n",
       "      <td>11.0</td>\n",
       "      <td>2.0</td>\n",
       "      <td>ultimate</td>\n",
       "      <td>70</td>\n",
       "      <td>7</td>\n",
       "      <td>0.01</td>\n",
       "      <td>0.01</td>\n",
       "      <td>0.0</td>\n",
       "      <td>0.0</td>\n",
       "      <td>0.0</td>\n",
       "    </tr>\n",
       "    <tr>\n",
       "      <th rowspan=\"4\" valign=\"top\">1001</th>\n",
       "      <th>8</th>\n",
       "      <td>1001</td>\n",
       "      <td>27.0</td>\n",
       "      <td>182.0</td>\n",
       "      <td>30.0</td>\n",
       "      <td>7.0</td>\n",
       "      <td>surf</td>\n",
       "      <td>20</td>\n",
       "      <td>10</td>\n",
       "      <td>0.03</td>\n",
       "      <td>0.03</td>\n",
       "      <td>0.0</td>\n",
       "      <td>0.0</td>\n",
       "      <td>0.0</td>\n",
       "    </tr>\n",
       "    <tr>\n",
       "      <th>9</th>\n",
       "      <td>1001</td>\n",
       "      <td>49.0</td>\n",
       "      <td>315.0</td>\n",
       "      <td>44.0</td>\n",
       "      <td>14.0</td>\n",
       "      <td>surf</td>\n",
       "      <td>20</td>\n",
       "      <td>10</td>\n",
       "      <td>0.03</td>\n",
       "      <td>0.03</td>\n",
       "      <td>0.0</td>\n",
       "      <td>0.0</td>\n",
       "      <td>0.0</td>\n",
       "    </tr>\n",
       "    <tr>\n",
       "      <th>10</th>\n",
       "      <td>1001</td>\n",
       "      <td>65.0</td>\n",
       "      <td>393.0</td>\n",
       "      <td>53.0</td>\n",
       "      <td>22.0</td>\n",
       "      <td>surf</td>\n",
       "      <td>20</td>\n",
       "      <td>10</td>\n",
       "      <td>0.03</td>\n",
       "      <td>0.03</td>\n",
       "      <td>0.0</td>\n",
       "      <td>3.0</td>\n",
       "      <td>7.0</td>\n",
       "    </tr>\n",
       "    <tr>\n",
       "      <th>11</th>\n",
       "      <td>1001</td>\n",
       "      <td>64.0</td>\n",
       "      <td>426.0</td>\n",
       "      <td>36.0</td>\n",
       "      <td>19.0</td>\n",
       "      <td>surf</td>\n",
       "      <td>20</td>\n",
       "      <td>10</td>\n",
       "      <td>0.03</td>\n",
       "      <td>0.03</td>\n",
       "      <td>0.0</td>\n",
       "      <td>0.0</td>\n",
       "      <td>4.0</td>\n",
       "    </tr>\n",
       "  </tbody>\n",
       "</table>\n",
       "</div>"
      ],
      "text/plain": [
       "               user_id  total_llamadas  min_usados  total_mensajes  gb_usados  \\\n",
       "user_id month                                                                   \n",
       "1000    12        1000            16.0       124.0            11.0        2.0   \n",
       "1001    8         1001            27.0       182.0            30.0        7.0   \n",
       "        9         1001            49.0       315.0            44.0       14.0   \n",
       "        10        1001            65.0       393.0            53.0       22.0   \n",
       "        11        1001            64.0       426.0            36.0       19.0   \n",
       "\n",
       "                   plan  usd_monthly_pay  usd_per_gb  usd_per_message  \\\n",
       "user_id month                                                           \n",
       "1000    12     ultimate               70           7             0.01   \n",
       "1001    8          surf               20          10             0.03   \n",
       "        9          surf               20          10             0.03   \n",
       "        10         surf               20          10             0.03   \n",
       "        11         surf               20          10             0.03   \n",
       "\n",
       "               usd_per_minute  min_exceso  msj_exceso  gb_exceso  \n",
       "user_id month                                                     \n",
       "1000    12               0.01         0.0         0.0        0.0  \n",
       "1001    8                0.03         0.0         0.0        0.0  \n",
       "        9                0.03         0.0         0.0        0.0  \n",
       "        10               0.03         0.0         3.0        7.0  \n",
       "        11               0.03         0.0         0.0        4.0  "
      ]
     },
     "execution_count": 51,
     "metadata": {},
     "output_type": "execute_result"
    }
   ],
   "source": [
    "#eliminar columnas que ya no se van a usar para tener mejor visualización de todos los datos necesarios. \n",
    "resumen_final.drop(columns = ['messages_included', 'minutes_included', 'gb_included'], inplace = True)\n",
    "resumen_final.head()"
   ]
  },
  {
   "cell_type": "code",
   "execution_count": 52,
   "metadata": {},
   "outputs": [
    {
     "data": {
      "text/html": [
       "<div>\n",
       "<style scoped>\n",
       "    .dataframe tbody tr th:only-of-type {\n",
       "        vertical-align: middle;\n",
       "    }\n",
       "\n",
       "    .dataframe tbody tr th {\n",
       "        vertical-align: top;\n",
       "    }\n",
       "\n",
       "    .dataframe thead th {\n",
       "        text-align: right;\n",
       "    }\n",
       "</style>\n",
       "<table border=\"1\" class=\"dataframe\">\n",
       "  <thead>\n",
       "    <tr style=\"text-align: right;\">\n",
       "      <th></th>\n",
       "      <th></th>\n",
       "      <th>user_id</th>\n",
       "      <th>total_llamadas</th>\n",
       "      <th>min_usados</th>\n",
       "      <th>total_mensajes</th>\n",
       "      <th>gb_usados</th>\n",
       "      <th>plan</th>\n",
       "      <th>usd_monthly_pay</th>\n",
       "      <th>usd_per_gb</th>\n",
       "      <th>usd_per_message</th>\n",
       "      <th>usd_per_minute</th>\n",
       "      <th>min_exceso</th>\n",
       "      <th>msj_exceso</th>\n",
       "      <th>gb_exceso</th>\n",
       "      <th>usd_adicional</th>\n",
       "      <th>tarifa_final</th>\n",
       "    </tr>\n",
       "    <tr>\n",
       "      <th>user_id</th>\n",
       "      <th>month</th>\n",
       "      <th></th>\n",
       "      <th></th>\n",
       "      <th></th>\n",
       "      <th></th>\n",
       "      <th></th>\n",
       "      <th></th>\n",
       "      <th></th>\n",
       "      <th></th>\n",
       "      <th></th>\n",
       "      <th></th>\n",
       "      <th></th>\n",
       "      <th></th>\n",
       "      <th></th>\n",
       "      <th></th>\n",
       "      <th></th>\n",
       "    </tr>\n",
       "  </thead>\n",
       "  <tbody>\n",
       "    <tr>\n",
       "      <th>1000</th>\n",
       "      <th>12</th>\n",
       "      <td>1000</td>\n",
       "      <td>16.0</td>\n",
       "      <td>124.0</td>\n",
       "      <td>11.0</td>\n",
       "      <td>2.0</td>\n",
       "      <td>ultimate</td>\n",
       "      <td>70</td>\n",
       "      <td>7</td>\n",
       "      <td>0.01</td>\n",
       "      <td>0.01</td>\n",
       "      <td>0.0</td>\n",
       "      <td>0.0</td>\n",
       "      <td>0.0</td>\n",
       "      <td>0.00</td>\n",
       "      <td>70.00</td>\n",
       "    </tr>\n",
       "    <tr>\n",
       "      <th rowspan=\"4\" valign=\"top\">1001</th>\n",
       "      <th>8</th>\n",
       "      <td>1001</td>\n",
       "      <td>27.0</td>\n",
       "      <td>182.0</td>\n",
       "      <td>30.0</td>\n",
       "      <td>7.0</td>\n",
       "      <td>surf</td>\n",
       "      <td>20</td>\n",
       "      <td>10</td>\n",
       "      <td>0.03</td>\n",
       "      <td>0.03</td>\n",
       "      <td>0.0</td>\n",
       "      <td>0.0</td>\n",
       "      <td>0.0</td>\n",
       "      <td>0.00</td>\n",
       "      <td>20.00</td>\n",
       "    </tr>\n",
       "    <tr>\n",
       "      <th>9</th>\n",
       "      <td>1001</td>\n",
       "      <td>49.0</td>\n",
       "      <td>315.0</td>\n",
       "      <td>44.0</td>\n",
       "      <td>14.0</td>\n",
       "      <td>surf</td>\n",
       "      <td>20</td>\n",
       "      <td>10</td>\n",
       "      <td>0.03</td>\n",
       "      <td>0.03</td>\n",
       "      <td>0.0</td>\n",
       "      <td>0.0</td>\n",
       "      <td>0.0</td>\n",
       "      <td>0.00</td>\n",
       "      <td>20.00</td>\n",
       "    </tr>\n",
       "    <tr>\n",
       "      <th>10</th>\n",
       "      <td>1001</td>\n",
       "      <td>65.0</td>\n",
       "      <td>393.0</td>\n",
       "      <td>53.0</td>\n",
       "      <td>22.0</td>\n",
       "      <td>surf</td>\n",
       "      <td>20</td>\n",
       "      <td>10</td>\n",
       "      <td>0.03</td>\n",
       "      <td>0.03</td>\n",
       "      <td>0.0</td>\n",
       "      <td>3.0</td>\n",
       "      <td>7.0</td>\n",
       "      <td>70.09</td>\n",
       "      <td>90.09</td>\n",
       "    </tr>\n",
       "    <tr>\n",
       "      <th>11</th>\n",
       "      <td>1001</td>\n",
       "      <td>64.0</td>\n",
       "      <td>426.0</td>\n",
       "      <td>36.0</td>\n",
       "      <td>19.0</td>\n",
       "      <td>surf</td>\n",
       "      <td>20</td>\n",
       "      <td>10</td>\n",
       "      <td>0.03</td>\n",
       "      <td>0.03</td>\n",
       "      <td>0.0</td>\n",
       "      <td>0.0</td>\n",
       "      <td>4.0</td>\n",
       "      <td>40.00</td>\n",
       "      <td>60.00</td>\n",
       "    </tr>\n",
       "  </tbody>\n",
       "</table>\n",
       "</div>"
      ],
      "text/plain": [
       "               user_id  total_llamadas  min_usados  total_mensajes  gb_usados  \\\n",
       "user_id month                                                                   \n",
       "1000    12        1000            16.0       124.0            11.0        2.0   \n",
       "1001    8         1001            27.0       182.0            30.0        7.0   \n",
       "        9         1001            49.0       315.0            44.0       14.0   \n",
       "        10        1001            65.0       393.0            53.0       22.0   \n",
       "        11        1001            64.0       426.0            36.0       19.0   \n",
       "\n",
       "                   plan  usd_monthly_pay  usd_per_gb  usd_per_message  \\\n",
       "user_id month                                                           \n",
       "1000    12     ultimate               70           7             0.01   \n",
       "1001    8          surf               20          10             0.03   \n",
       "        9          surf               20          10             0.03   \n",
       "        10         surf               20          10             0.03   \n",
       "        11         surf               20          10             0.03   \n",
       "\n",
       "               usd_per_minute  min_exceso  msj_exceso  gb_exceso  \\\n",
       "user_id month                                                      \n",
       "1000    12               0.01         0.0         0.0        0.0   \n",
       "1001    8                0.03         0.0         0.0        0.0   \n",
       "        9                0.03         0.0         0.0        0.0   \n",
       "        10               0.03         0.0         3.0        7.0   \n",
       "        11               0.03         0.0         0.0        4.0   \n",
       "\n",
       "               usd_adicional  tarifa_final  \n",
       "user_id month                               \n",
       "1000    12              0.00         70.00  \n",
       "1001    8               0.00         20.00  \n",
       "        9               0.00         20.00  \n",
       "        10             70.09         90.09  \n",
       "        11             40.00         60.00  "
      ]
     },
     "execution_count": 52,
     "metadata": {},
     "output_type": "execute_result"
    }
   ],
   "source": [
    "#Se crea una nueva columna donde se calcula la tarifa final papaga mensualmente por cada usuario. se caclcula el precio adicional multiplicando el exceso por el precio extra de ese servicio y sumando todos,\n",
    "# y  para la tarifa final se suma la base original que ya se paga mas lo adicional. \n",
    "resumen_final ['usd_adicional'] = (resumen_final ['min_exceso'] * resumen_final ['usd_per_minute']) + (resumen_final['msj_exceso'] * resumen_final['usd_per_message']) + (resumen_final['gb_exceso'] * resumen_final ['usd_per_gb'])\n",
    "resumen_final ['tarifa_final'] = resumen_final ['usd_monthly_pay'] + resumen_final ['usd_adicional']\n",
    "resumen_final.head()"
   ]
  },
  {
   "cell_type": "code",
   "execution_count": 53,
   "metadata": {},
   "outputs": [
    {
     "data": {
      "text/html": [
       "<div>\n",
       "<style scoped>\n",
       "    .dataframe tbody tr th:only-of-type {\n",
       "        vertical-align: middle;\n",
       "    }\n",
       "\n",
       "    .dataframe tbody tr th {\n",
       "        vertical-align: top;\n",
       "    }\n",
       "\n",
       "    .dataframe thead th {\n",
       "        text-align: right;\n",
       "    }\n",
       "</style>\n",
       "<table border=\"1\" class=\"dataframe\">\n",
       "  <thead>\n",
       "    <tr style=\"text-align: right;\">\n",
       "      <th></th>\n",
       "      <th></th>\n",
       "      <th>user_id</th>\n",
       "      <th>total_llamadas</th>\n",
       "      <th>min_usados</th>\n",
       "      <th>total_mensajes</th>\n",
       "      <th>gb_usados</th>\n",
       "      <th>plan</th>\n",
       "      <th>min_exceso</th>\n",
       "      <th>msj_exceso</th>\n",
       "      <th>gb_exceso</th>\n",
       "      <th>usd_adicional</th>\n",
       "      <th>tarifa_final</th>\n",
       "    </tr>\n",
       "    <tr>\n",
       "      <th>user_id</th>\n",
       "      <th>month</th>\n",
       "      <th></th>\n",
       "      <th></th>\n",
       "      <th></th>\n",
       "      <th></th>\n",
       "      <th></th>\n",
       "      <th></th>\n",
       "      <th></th>\n",
       "      <th></th>\n",
       "      <th></th>\n",
       "      <th></th>\n",
       "      <th></th>\n",
       "    </tr>\n",
       "  </thead>\n",
       "  <tbody>\n",
       "    <tr>\n",
       "      <th>1000</th>\n",
       "      <th>12</th>\n",
       "      <td>1000</td>\n",
       "      <td>16.0</td>\n",
       "      <td>124.0</td>\n",
       "      <td>11.0</td>\n",
       "      <td>2.0</td>\n",
       "      <td>ultimate</td>\n",
       "      <td>0.0</td>\n",
       "      <td>0.0</td>\n",
       "      <td>0.0</td>\n",
       "      <td>0.00</td>\n",
       "      <td>70.00</td>\n",
       "    </tr>\n",
       "    <tr>\n",
       "      <th rowspan=\"5\" valign=\"top\">1001</th>\n",
       "      <th>8</th>\n",
       "      <td>1001</td>\n",
       "      <td>27.0</td>\n",
       "      <td>182.0</td>\n",
       "      <td>30.0</td>\n",
       "      <td>7.0</td>\n",
       "      <td>surf</td>\n",
       "      <td>0.0</td>\n",
       "      <td>0.0</td>\n",
       "      <td>0.0</td>\n",
       "      <td>0.00</td>\n",
       "      <td>20.00</td>\n",
       "    </tr>\n",
       "    <tr>\n",
       "      <th>9</th>\n",
       "      <td>1001</td>\n",
       "      <td>49.0</td>\n",
       "      <td>315.0</td>\n",
       "      <td>44.0</td>\n",
       "      <td>14.0</td>\n",
       "      <td>surf</td>\n",
       "      <td>0.0</td>\n",
       "      <td>0.0</td>\n",
       "      <td>0.0</td>\n",
       "      <td>0.00</td>\n",
       "      <td>20.00</td>\n",
       "    </tr>\n",
       "    <tr>\n",
       "      <th>10</th>\n",
       "      <td>1001</td>\n",
       "      <td>65.0</td>\n",
       "      <td>393.0</td>\n",
       "      <td>53.0</td>\n",
       "      <td>22.0</td>\n",
       "      <td>surf</td>\n",
       "      <td>0.0</td>\n",
       "      <td>3.0</td>\n",
       "      <td>7.0</td>\n",
       "      <td>70.09</td>\n",
       "      <td>90.09</td>\n",
       "    </tr>\n",
       "    <tr>\n",
       "      <th>11</th>\n",
       "      <td>1001</td>\n",
       "      <td>64.0</td>\n",
       "      <td>426.0</td>\n",
       "      <td>36.0</td>\n",
       "      <td>19.0</td>\n",
       "      <td>surf</td>\n",
       "      <td>0.0</td>\n",
       "      <td>0.0</td>\n",
       "      <td>4.0</td>\n",
       "      <td>40.00</td>\n",
       "      <td>60.00</td>\n",
       "    </tr>\n",
       "    <tr>\n",
       "      <th>12</th>\n",
       "      <td>1001</td>\n",
       "      <td>56.0</td>\n",
       "      <td>412.0</td>\n",
       "      <td>44.0</td>\n",
       "      <td>19.0</td>\n",
       "      <td>surf</td>\n",
       "      <td>0.0</td>\n",
       "      <td>0.0</td>\n",
       "      <td>4.0</td>\n",
       "      <td>40.00</td>\n",
       "      <td>60.00</td>\n",
       "    </tr>\n",
       "    <tr>\n",
       "      <th rowspan=\"3\" valign=\"top\">1002</th>\n",
       "      <th>10</th>\n",
       "      <td>1002</td>\n",
       "      <td>11.0</td>\n",
       "      <td>59.0</td>\n",
       "      <td>15.0</td>\n",
       "      <td>7.0</td>\n",
       "      <td>surf</td>\n",
       "      <td>0.0</td>\n",
       "      <td>0.0</td>\n",
       "      <td>0.0</td>\n",
       "      <td>0.00</td>\n",
       "      <td>20.00</td>\n",
       "    </tr>\n",
       "    <tr>\n",
       "      <th>11</th>\n",
       "      <td>1002</td>\n",
       "      <td>55.0</td>\n",
       "      <td>386.0</td>\n",
       "      <td>32.0</td>\n",
       "      <td>19.0</td>\n",
       "      <td>surf</td>\n",
       "      <td>0.0</td>\n",
       "      <td>0.0</td>\n",
       "      <td>4.0</td>\n",
       "      <td>40.00</td>\n",
       "      <td>60.00</td>\n",
       "    </tr>\n",
       "    <tr>\n",
       "      <th>12</th>\n",
       "      <td>1002</td>\n",
       "      <td>47.0</td>\n",
       "      <td>384.0</td>\n",
       "      <td>41.0</td>\n",
       "      <td>15.0</td>\n",
       "      <td>surf</td>\n",
       "      <td>0.0</td>\n",
       "      <td>0.0</td>\n",
       "      <td>0.0</td>\n",
       "      <td>0.00</td>\n",
       "      <td>20.00</td>\n",
       "    </tr>\n",
       "    <tr>\n",
       "      <th>1003</th>\n",
       "      <th>12</th>\n",
       "      <td>1003</td>\n",
       "      <td>149.0</td>\n",
       "      <td>1104.0</td>\n",
       "      <td>50.0</td>\n",
       "      <td>27.0</td>\n",
       "      <td>surf</td>\n",
       "      <td>604.0</td>\n",
       "      <td>0.0</td>\n",
       "      <td>12.0</td>\n",
       "      <td>138.12</td>\n",
       "      <td>158.12</td>\n",
       "    </tr>\n",
       "  </tbody>\n",
       "</table>\n",
       "</div>"
      ],
      "text/plain": [
       "               user_id  total_llamadas  min_usados  total_mensajes  gb_usados  \\\n",
       "user_id month                                                                   \n",
       "1000    12        1000            16.0       124.0            11.0        2.0   \n",
       "1001    8         1001            27.0       182.0            30.0        7.0   \n",
       "        9         1001            49.0       315.0            44.0       14.0   \n",
       "        10        1001            65.0       393.0            53.0       22.0   \n",
       "        11        1001            64.0       426.0            36.0       19.0   \n",
       "        12        1001            56.0       412.0            44.0       19.0   \n",
       "1002    10        1002            11.0        59.0            15.0        7.0   \n",
       "        11        1002            55.0       386.0            32.0       19.0   \n",
       "        12        1002            47.0       384.0            41.0       15.0   \n",
       "1003    12        1003           149.0      1104.0            50.0       27.0   \n",
       "\n",
       "                   plan  min_exceso  msj_exceso  gb_exceso  usd_adicional  \\\n",
       "user_id month                                                               \n",
       "1000    12     ultimate         0.0         0.0        0.0           0.00   \n",
       "1001    8          surf         0.0         0.0        0.0           0.00   \n",
       "        9          surf         0.0         0.0        0.0           0.00   \n",
       "        10         surf         0.0         3.0        7.0          70.09   \n",
       "        11         surf         0.0         0.0        4.0          40.00   \n",
       "        12         surf         0.0         0.0        4.0          40.00   \n",
       "1002    10         surf         0.0         0.0        0.0           0.00   \n",
       "        11         surf         0.0         0.0        4.0          40.00   \n",
       "        12         surf         0.0         0.0        0.0           0.00   \n",
       "1003    12         surf       604.0         0.0       12.0         138.12   \n",
       "\n",
       "               tarifa_final  \n",
       "user_id month                \n",
       "1000    12            70.00  \n",
       "1001    8             20.00  \n",
       "        9             20.00  \n",
       "        10            90.09  \n",
       "        11            60.00  \n",
       "        12            60.00  \n",
       "1002    10            20.00  \n",
       "        11            60.00  \n",
       "        12            20.00  \n",
       "1003    12           158.12  "
      ]
     },
     "execution_count": 53,
     "metadata": {},
     "output_type": "execute_result"
    }
   ],
   "source": [
    "#eliminar columnas que ya no se van a utilizar para mejorar la visualización de los datos necesarios. \n",
    "resumen_final.drop (columns = ['usd_monthly_pay', 'usd_per_gb', 'usd_per_message',\n",
    "       'usd_per_minute'], inplace = True)\n",
    "resumen_final.head(10)"
   ]
  },
  {
   "cell_type": "code",
   "execution_count": 54,
   "metadata": {},
   "outputs": [
    {
     "data": {
      "text/html": [
       "<div>\n",
       "<style scoped>\n",
       "    .dataframe tbody tr th:only-of-type {\n",
       "        vertical-align: middle;\n",
       "    }\n",
       "\n",
       "    .dataframe tbody tr th {\n",
       "        vertical-align: top;\n",
       "    }\n",
       "\n",
       "    .dataframe thead th {\n",
       "        text-align: right;\n",
       "    }\n",
       "</style>\n",
       "<table border=\"1\" class=\"dataframe\">\n",
       "  <thead>\n",
       "    <tr style=\"text-align: right;\">\n",
       "      <th></th>\n",
       "      <th>user_id</th>\n",
       "      <th>total_llamadas</th>\n",
       "      <th>min_usados</th>\n",
       "      <th>total_mensajes</th>\n",
       "      <th>gb_usados</th>\n",
       "      <th>min_exceso</th>\n",
       "      <th>msj_exceso</th>\n",
       "      <th>gb_exceso</th>\n",
       "      <th>usd_adicional</th>\n",
       "      <th>tarifa_final</th>\n",
       "    </tr>\n",
       "  </thead>\n",
       "  <tbody>\n",
       "    <tr>\n",
       "      <th>count</th>\n",
       "      <td>2293.000000</td>\n",
       "      <td>2293.000000</td>\n",
       "      <td>2293.000000</td>\n",
       "      <td>2293.000000</td>\n",
       "      <td>2293.000000</td>\n",
       "      <td>2293.000000</td>\n",
       "      <td>2293.000000</td>\n",
       "      <td>2293.000000</td>\n",
       "      <td>2293.000000</td>\n",
       "      <td>2293.000000</td>\n",
       "    </tr>\n",
       "    <tr>\n",
       "      <th>mean</th>\n",
       "      <td>1246.075883</td>\n",
       "      <td>60.067597</td>\n",
       "      <td>429.283471</td>\n",
       "      <td>33.166594</td>\n",
       "      <td>16.870475</td>\n",
       "      <td>42.160925</td>\n",
       "      <td>4.810728</td>\n",
       "      <td>2.755342</td>\n",
       "      <td>28.651191</td>\n",
       "      <td>64.351147</td>\n",
       "    </tr>\n",
       "    <tr>\n",
       "      <th>std</th>\n",
       "      <td>143.051927</td>\n",
       "      <td>32.402563</td>\n",
       "      <td>236.320077</td>\n",
       "      <td>34.070085</td>\n",
       "      <td>7.796174</td>\n",
       "      <td>107.799717</td>\n",
       "      <td>16.450516</td>\n",
       "      <td>4.884966</td>\n",
       "      <td>49.623494</td>\n",
       "      <td>46.624945</td>\n",
       "    </tr>\n",
       "    <tr>\n",
       "      <th>min</th>\n",
       "      <td>1000.000000</td>\n",
       "      <td>0.000000</td>\n",
       "      <td>0.000000</td>\n",
       "      <td>0.000000</td>\n",
       "      <td>0.000000</td>\n",
       "      <td>0.000000</td>\n",
       "      <td>0.000000</td>\n",
       "      <td>0.000000</td>\n",
       "      <td>0.000000</td>\n",
       "      <td>20.000000</td>\n",
       "    </tr>\n",
       "    <tr>\n",
       "      <th>25%</th>\n",
       "      <td>1122.000000</td>\n",
       "      <td>38.000000</td>\n",
       "      <td>265.000000</td>\n",
       "      <td>3.000000</td>\n",
       "      <td>12.000000</td>\n",
       "      <td>0.000000</td>\n",
       "      <td>0.000000</td>\n",
       "      <td>0.000000</td>\n",
       "      <td>0.000000</td>\n",
       "      <td>23.480000</td>\n",
       "    </tr>\n",
       "    <tr>\n",
       "      <th>50%</th>\n",
       "      <td>1245.000000</td>\n",
       "      <td>60.000000</td>\n",
       "      <td>425.000000</td>\n",
       "      <td>26.000000</td>\n",
       "      <td>17.000000</td>\n",
       "      <td>0.000000</td>\n",
       "      <td>0.000000</td>\n",
       "      <td>0.000000</td>\n",
       "      <td>0.420000</td>\n",
       "      <td>70.000000</td>\n",
       "    </tr>\n",
       "    <tr>\n",
       "      <th>75%</th>\n",
       "      <td>1368.000000</td>\n",
       "      <td>79.000000</td>\n",
       "      <td>572.000000</td>\n",
       "      <td>51.000000</td>\n",
       "      <td>21.000000</td>\n",
       "      <td>0.000000</td>\n",
       "      <td>0.000000</td>\n",
       "      <td>4.000000</td>\n",
       "      <td>41.200000</td>\n",
       "      <td>70.000000</td>\n",
       "    </tr>\n",
       "    <tr>\n",
       "      <th>max</th>\n",
       "      <td>1499.000000</td>\n",
       "      <td>205.000000</td>\n",
       "      <td>1510.000000</td>\n",
       "      <td>266.000000</td>\n",
       "      <td>70.000000</td>\n",
       "      <td>1010.000000</td>\n",
       "      <td>216.000000</td>\n",
       "      <td>55.000000</td>\n",
       "      <td>570.370000</td>\n",
       "      <td>590.370000</td>\n",
       "    </tr>\n",
       "  </tbody>\n",
       "</table>\n",
       "</div>"
      ],
      "text/plain": [
       "           user_id  total_llamadas   min_usados  total_mensajes    gb_usados  \\\n",
       "count  2293.000000     2293.000000  2293.000000     2293.000000  2293.000000   \n",
       "mean   1246.075883       60.067597   429.283471       33.166594    16.870475   \n",
       "std     143.051927       32.402563   236.320077       34.070085     7.796174   \n",
       "min    1000.000000        0.000000     0.000000        0.000000     0.000000   \n",
       "25%    1122.000000       38.000000   265.000000        3.000000    12.000000   \n",
       "50%    1245.000000       60.000000   425.000000       26.000000    17.000000   \n",
       "75%    1368.000000       79.000000   572.000000       51.000000    21.000000   \n",
       "max    1499.000000      205.000000  1510.000000      266.000000    70.000000   \n",
       "\n",
       "        min_exceso   msj_exceso    gb_exceso  usd_adicional  tarifa_final  \n",
       "count  2293.000000  2293.000000  2293.000000    2293.000000   2293.000000  \n",
       "mean     42.160925     4.810728     2.755342      28.651191     64.351147  \n",
       "std     107.799717    16.450516     4.884966      49.623494     46.624945  \n",
       "min       0.000000     0.000000     0.000000       0.000000     20.000000  \n",
       "25%       0.000000     0.000000     0.000000       0.000000     23.480000  \n",
       "50%       0.000000     0.000000     0.000000       0.420000     70.000000  \n",
       "75%       0.000000     0.000000     4.000000      41.200000     70.000000  \n",
       "max    1010.000000   216.000000    55.000000     570.370000    590.370000  "
      ]
     },
     "execution_count": 54,
     "metadata": {},
     "output_type": "execute_result"
    }
   ],
   "source": [
    "#se obtiene un resumen general de todos los datos para conocer generalmente cada variable y su comportamiento. \n",
    "resumen_final.describe()"
   ]
  },
  {
   "cell_type": "markdown",
   "metadata": {
    "id": "-jtyHzJb0q1I"
   },
   "source": [
    "## Estudia el comportamiento de usuario"
   ]
  },
  {
   "cell_type": "markdown",
   "metadata": {
    "id": "AxU3Y0N70q1J"
   },
   "source": [
    "Se realizarán histogramas principlamente para conocer a distribución de los datos y ver las diferencias entre los distintos planes. También se obtendrá la media, varianza y desviación estandar de cada variable a trabajar para tener estadíssticas descriptvas que nos digan como se comportan los usuarios. "
   ]
  },
  {
   "cell_type": "markdown",
   "metadata": {
    "id": "vtW4CJEe0q1J"
   },
   "source": [
    "### Llamadas"
   ]
  },
  {
   "cell_type": "code",
   "execution_count": 55,
   "metadata": {
    "id": "Jf5v5--k0q1J"
   },
   "outputs": [
    {
     "data": {
      "image/png": "[encoded data removed]",
      "text/plain": [
       "<Figure size 640x480 with 1 Axes>"
      ]
     },
     "metadata": {},
     "output_type": "display_data"
    }
   ],
   "source": [
    "# Compara la duración promedio de llamadas por cada plan y por cada mes. Traza un gráfico de barras para visualizarla.\n",
    "promedio=resumen_final.pivot_table (index = 'month', columns = 'plan', values = ['min_usados'], aggfunc = 'mean')\n",
    "promedio.plot (kind = 'bar', xlabel = 'Mes', ylabel = 'Promedio de min usados', \n",
    "               title = 'Comparación de Minutos Promedio Usados al Mes por Plan')\n",
    "plt.legend (['surf', 'ultimate'])\n",
    "plt.show()"
   ]
  },
  {
   "cell_type": "markdown",
   "metadata": {},
   "source": [
    "En el gráfico de barras anterior, se compara el promedio mensual de la duración de llamadas por minutos para el plan Surf y Ultimate. Se puede ver que en durante 6 meses al año se utilizan más minutos en el plan surf, y para los otros 6 meses los usuarios del plan ultimate utilizan más minutos al mes. Sin emabargo, la utilización entre ambos planes es similar. El único mes es febrero donde se ve una  gran diferencia, donde lso usuarios del plan ultimate utilzan más minutos.   \n",
    "Para el plan ultimate la utilización va aumentando conforme pasan los meses, donde diciembre es el mes que más utilizan. \n",
    "Para el plan surf llega a lo más alto en julio, de ahí baja relativamente un poco y en diciembre es el mes que más utilización tiene al igual que en el otro plan."
   ]
  },
  {
   "cell_type": "code",
   "execution_count": 56,
   "metadata": {
    "id": "QoLqW1S_0q1J"
   },
   "outputs": [
    {
     "data": {
      "image/png": "[encoded data removed]",
      "text/plain": [
       "<Figure size 640x480 with 1 Axes>"
      ]
     },
     "metadata": {},
     "output_type": "display_data"
    }
   ],
   "source": [
    "# Compara el número de minutos mensuales que necesitan los usuarios de cada plan. Traza un histograma.\n",
    "resumen_final[resumen_final['plan'] == 'surf']['min_usados'].plot (kind = 'hist', bins = 10)\n",
    "resumen_final[resumen_final['plan'] == 'ultimate']['min_usados'].plot (kind = 'hist', bins = 10, alpha = 0.5)\n",
    "plt.title('Histograma del Número de Minutos Mensuales por Plan')\n",
    "plt.xlabel('Minutos Usados')\n",
    "plt.ylabel('Frecuencia')\n",
    "plt.legend (['surf', 'ultimate'])\n",
    "plt.show()\n"
   ]
  },
  {
   "cell_type": "markdown",
   "metadata": {},
   "source": [
    "En el anterior histograma se puede ver una comparación en la distribución de los minutos usados por la cantidad de usuarios. Podemos observar que hay una mayor cantidad de personas que toman en plan surf. Sin embargo, para los 2 planes la mayor cantidad de personas utilizan entre 400 y 600 min al mes. Con este gráfico podemos ver que varios usuarios del plan surf utilizan bastante más de la cantidad total mensual de minutos incluidos que era 500, siendo 1400 la mayor cantidad de min usados.Mientras que para el plan ultimate no se presentan excesos en cuanto a los minutos usados respecto a lo incluido. "
   ]
  },
  {
   "cell_type": "code",
   "execution_count": 57,
   "metadata": {
    "id": "oSndbAnt0q1K"
   },
   "outputs": [
    {
     "name": "stdout",
     "output_type": "stream",
     "text": [
      "       plan       media      varianza  desviacion_estandar\n",
      "0      surf  428.749523  54968.279461           234.453150\n",
      "1  ultimate  430.450000  57844.464812           240.508762\n"
     ]
    }
   ],
   "source": [
    "# Calcula la media ,la varianza y la distribucion estandar de la duración mensual de llamadas.\n",
    "est_tarifas= resumen_final.groupby('plan')['min_usados'].agg(['mean', 'var', 'std']).reset_index()\n",
    "est_tarifas.rename(columns={'mean': 'media', 'var': 'varianza', 'std': 'desviacion_estandar'}, inplace=True)\n",
    "print(est_tarifas)"
   ]
  },
  {
   "cell_type": "markdown",
   "metadata": {},
   "source": [
    "Respecto a la media, varianza y desviación estandar para los minutos usados por plan. se puede ver que existe una diferencia entre estos planes. La varianza del plan ultimate es más grande que para el plan surf, lo que quiere decir que sus datos están más dispersos de la media de datos. A pesar de que no es una diferenza tan grande entre los resultados, de igualmente se dice que los usuarios se comportan distinto. "
   ]
  },
  {
   "cell_type": "code",
   "execution_count": 58,
   "metadata": {
    "id": "nZzoRUKc0q1K"
   },
   "outputs": [
    {
     "data": {
      "text/plain": [
       "Text(0.5, 1.0, 'Distribución de la Duración Mensual de Llamadas por Plan')"
      ]
     },
     "execution_count": 58,
     "metadata": {},
     "output_type": "execute_result"
    },
    {
     "data": {
      "image/png": "[encoded data removed]",
      "text/plain": [
       "<Figure size 640x480 with 1 Axes>"
      ]
     },
     "metadata": {},
     "output_type": "display_data"
    }
   ],
   "source": [
    "# Traza un diagrama de caja para visualizar la distribución de la duración mensual de llamadas\n",
    "sns.boxplot (x = 'plan', y = 'min_usados', data = resumen_final)\n",
    "plt.title('Distribución de la Duración Mensual de Llamadas por Plan')"
   ]
  },
  {
   "cell_type": "markdown",
   "metadata": {
    "id": "r627zBO50q1K"
   },
   "source": [
    "Se puede ver en le diagrama de caja que el comportamiento de los usuarios respecto a ambos planes es relativamente similar, mas no se puede decir que son iguales. A pesar de que el plan ultimate incluye muchos más minutos, tienen a usar una cantidad similar a los del plan surf. En ambos plaenes hay casos atípicos, pero se puede ver que un usuario del plan surf está muy por encima del 75% de los datos. La mediana en ambos casos es muy cercana entre si. "
   ]
  },
  {
   "cell_type": "markdown",
   "metadata": {
    "id": "8idKy8Wh0q1L"
   },
   "source": [
    "### Mensajes"
   ]
  },
  {
   "cell_type": "code",
   "execution_count": 59,
   "metadata": {
    "id": "NXLxiTit0q1L"
   },
   "outputs": [
    {
     "data": {
      "image/png": "[encoded data removed]",
      "text/plain": [
       "<Figure size 640x480 with 1 Axes>"
      ]
     },
     "metadata": {},
     "output_type": "display_data"
    }
   ],
   "source": [
    "# Comprara el número de mensajes que tienden a enviar cada mes los usuarios de cada plan. Se crea un histogrma\n",
    "resumen_final[resumen_final['plan'] == 'surf']['total_mensajes'].plot (kind = 'hist', bins = 10)\n",
    "resumen_final[resumen_final['plan'] == 'ultimate']['total_mensajes'].plot (kind = 'hist', bins = 10, alpha = 0.5)\n",
    "plt.title('Histograma del Número de Mensajes enviados por los usuarios mensualmente por Plan')\n",
    "plt.xlabel('Mensajes Enviados')\n",
    "plt.ylabel('Frecuencia')\n",
    "plt.legend (['surf', 'ultimate'])\n",
    "plt.show()"
   ]
  },
  {
   "cell_type": "markdown",
   "metadata": {},
   "source": [
    "El histograma \"Número de Mensajes enviados por los usuarios mensualmente por Plan\" nos da una perspectiva clara del comportamiento de los usuarios respecto a cuantos mensajes envian al mes. Como se puede ver, existe una mayor cantidad de personas que utilizan el plan Surf, sin embargo las distribuciones de ambos planes son relativamente similares, donde la mayor frecuencia en ambos se presenta entre o a 15-20 mensajes al mes. Esto tiene mucho sentido , ya que hoy en día el servicio de mensajería instantánea a sido reemplazada por los mensajes que se evían utilizando internet como por whatsapp.\n",
    "Sin embargo, para el plan surf hay usuarios que han utilizado hasta más de 250 mensajes al mes, esto se podría analizar más a profundidad dependiendo del tipo de trabajo que tenga esta persona, o la edad de la misma. "
   ]
  },
  {
   "cell_type": "code",
   "execution_count": 60,
   "metadata": {
    "id": "GRI_R7xF0q1L"
   },
   "outputs": [
    {
     "name": "stdout",
     "output_type": "stream",
     "text": [
      "       plan      media     varianza  desviacion_estandar\n",
      "0      surf  31.159568  1126.724522            33.566717\n",
      "1  ultimate  37.551389  1208.756744            34.767179\n"
     ]
    }
   ],
   "source": [
    "# Calcula la media, la varianza y la desviacion estandar del numero de mensajes al mes que tienden a enviar por plan\n",
    "est_tarifas= resumen_final.groupby('plan')['total_mensajes'].agg(['mean', 'var', 'std']).reset_index()\n",
    "est_tarifas.rename(columns={'mean': 'media', 'var': 'varianza', 'std': 'desviacion_estandar'}, inplace=True)\n",
    "print(est_tarifas)"
   ]
  },
  {
   "cell_type": "markdown",
   "metadata": {},
   "source": [
    "Estas estadísticas descriptivas, nos dicen que los usuarios de los diferentes planes si se comportan diferente. Para el plan ultimate, los datos se encuentran más dispersos a la media, esto se puede decir debido a que su varianza es más alta. "
   ]
  },
  {
   "cell_type": "code",
   "execution_count": 61,
   "metadata": {
    "id": "dtFwCGAp0q1M"
   },
   "outputs": [
    {
     "data": {
      "text/plain": [
       "Text(0.5, 1.0, 'Distribución de la Duración Mensual de Llamadas por Plan')"
      ]
     },
     "execution_count": 61,
     "metadata": {},
     "output_type": "execute_result"
    },
    {
     "data": {
      "image/png": "[encoded data removed]",
      "text/plain": [
       "<Figure size 640x480 with 1 Axes>"
      ]
     },
     "metadata": {},
     "output_type": "display_data"
    }
   ],
   "source": [
    "# Traza un diagrama de caja para visualizar la distribución del numero de mensajes al mes que tienden a enviar por plan\n",
    "sns.boxplot (x = 'plan', y = 'total_mensajes', data = resumen_final)\n",
    "plt.title('Distribución de la Duración Mensual de Llamadas por Plan')"
   ]
  },
  {
   "cell_type": "markdown",
   "metadata": {
    "id": "390SSL480q1M"
   },
   "source": [
    "Este diagrama nos permite concluir que el 75% de los datos del plan surf están por debajo del plan ultimate. Sin embargo, existe una alta cantidad de datos atípicos en el plan surf que nos dicen que estan fuera del rango. Esto nos podría decir que hay gente que todavía utiliza mucho los mensajes de texto, o que tal vez es necesario corroborar con la empresas que estos datos son correctos y no presentan un error de medición.  "
   ]
  },
  {
   "cell_type": "markdown",
   "metadata": {
    "id": "42YSypXz0q1M"
   },
   "source": [
    "### Internet"
   ]
  },
  {
   "cell_type": "code",
   "execution_count": 62,
   "metadata": {
    "id": "lSuKPtjh0q1M"
   },
   "outputs": [
    {
     "data": {
      "image/png": "[encoded data removed]",
      "text/plain": [
       "<Figure size 640x480 with 1 Axes>"
      ]
     },
     "metadata": {},
     "output_type": "display_data"
    }
   ],
   "source": [
    "# Compara la cantidad de tráfico de Internet consumido por usuarios por plan. se hace un histograma para ver la distribucion\n",
    "resumen_final[resumen_final['plan'] == 'surf']['gb_usados'].plot (kind = 'hist', bins = 10)\n",
    "resumen_final[resumen_final['plan'] == 'ultimate']['gb_usados'].plot (kind = 'hist', bins = 10, alpha = 0.5)\n",
    "plt.title('Histograma de la cantidad de Gb consumidos por los usuarios mensualmente por Plan')\n",
    "plt.xlabel('Gb consumidos')\n",
    "plt.ylabel('Frecuencia')\n",
    "plt.legend (['surf', 'ultimate'])\n",
    "plt.show()"
   ]
  },
  {
   "cell_type": "markdown",
   "metadata": {},
   "source": [
    "La distribución de la cantidad de GB consumidas por los usuarios de mbos planes se asemejan a una distribución normal. Se podría decir que el consumo de la mayoría de gente está entre las 15 a 25 gb, lo cual es una cantidad normal para la sociedad y las tendencias actuales. Al igual que en los anteriores análisis, muy pocos usuarios del plan surf llegan a consumir hasta 70 gb. Esto se podría analizar a que se dedica la persona como para consumir esa cantidad. "
   ]
  },
  {
   "cell_type": "code",
   "execution_count": 63,
   "metadata": {
    "id": "wnh8jYXi0q1N"
   },
   "outputs": [
    {
     "name": "stdout",
     "output_type": "stream",
     "text": [
      "       plan      media  varianza  desviacion_estandar\n",
      "0      surf  16.670693  61.58360             7.847522\n",
      "1  ultimate  17.306944  58.83055             7.670108\n"
     ]
    }
   ],
   "source": [
    "# Calcula la media, la varianza y la desviacion estandar de la cantidad de gb consumidos al mes por plan\n",
    "est_tarifas= resumen_final.groupby('plan')['gb_usados'].agg(['mean', 'var', 'std']).reset_index()\n",
    "est_tarifas.rename(columns={'mean': 'media', 'var': 'varianza', 'std': 'desviacion_estandar'}, inplace=True)\n",
    "print(est_tarifas)"
   ]
  },
  {
   "cell_type": "markdown",
   "metadata": {},
   "source": [
    "Estas medidas estadísticas son similares, sin embargo no se puede decir que iguales. Al tener una varianza diferente, se dice que el comportamiento de ambos grupos son diferentes, en donde los datos del plan surf estan más dispersos de la media como se pudo ver en el histograma. "
   ]
  },
  {
   "cell_type": "code",
   "execution_count": 64,
   "metadata": {
    "id": "5VlyJ9ry0q1N"
   },
   "outputs": [
    {
     "data": {
      "text/plain": [
       "Text(0.5, 1.0, 'Distribución de la Duración Mensual de Llamadas por Plan')"
      ]
     },
     "execution_count": 64,
     "metadata": {},
     "output_type": "execute_result"
    },
    {
     "data": {
      "image/png": "[encoded data removed]",
      "text/plain": [
       "<Figure size 640x480 with 1 Axes>"
      ]
     },
     "metadata": {},
     "output_type": "display_data"
    }
   ],
   "source": [
    "# Traza un diagrama de caja para visualizar la distribución del numero de gb consumidos por plan\n",
    "sns.boxplot (x = 'plan', y = 'gb_usados', data = resumen_final)\n",
    "plt.title('Distribución de la Duración Mensual de Llamadas por Plan')"
   ]
  },
  {
   "cell_type": "markdown",
   "metadata": {
    "id": "UN9zwuMP0q1N"
   },
   "source": [
    "Al igual que en el análisis de media, varianza y des estándar, se puede ver mediante los diagamas de caja que los comportamientos de los usuarios son similares en cuando a la cantidad de gb consumidos al mes. Sin embargo se encuentran datos atípicos para ambos planes, especialmente para surf donde estos dátos están mas disperzados del 75% de los mismos. Cabe mencionar que sería importante analizarlos para conocer más sobre el comportamiento de estos usuarios. "
   ]
  },
  {
   "cell_type": "markdown",
   "metadata": {
    "id": "tCijq3260q1N"
   },
   "source": [
    "## Ingreso"
   ]
  },
  {
   "cell_type": "code",
   "execution_count": 65,
   "metadata": {
    "id": "tz-dq_V00q1O"
   },
   "outputs": [
    {
     "data": {
      "image/png": "[encoded data removed]",
      "text/plain": [
       "<Figure size 640x480 with 1 Axes>"
      ]
     },
     "metadata": {},
     "output_type": "display_data"
    }
   ],
   "source": [
    "#se crea un histograma para ver la distribucion y el comportamiento respecto al ingreso por planes\n",
    "resumen_final[resumen_final['plan'] == 'surf']['tarifa_final'].plot (kind = 'hist', bins = 5)\n",
    "resumen_final[resumen_final['plan'] == 'ultimate']['tarifa_final'].plot (kind = 'hist', bins = 5, alpha = 0.5)\n",
    "plt.title('Histograma de la distribucion de los ingresos mensuales por Plan')\n",
    "plt.xlabel('Ingresos')\n",
    "plt.ylabel('Frecuencia')\n",
    "plt.legend (['surf', 'ultimate'])\n",
    "plt.show()"
   ]
  },
  {
   "cell_type": "markdown",
   "metadata": {},
   "source": [
    "Al graficar los ingresos que se obtienen mensualmente para cada plan, se puede evidenciar notoriamente que el plan surf aporta con una mayor cantidad de ingresos mensuales. No solo porque existe una mayor cantidad de personas que haces uso de este plan, sinó porque al ser un plan básico, hay gente que termina el més pagando una alta cantidad por los excesos en los diferentes servicios. Se podría decir que la distribución en cuando a que la mayor cantidad de personas en ambos planes pagan al rededor de $90 al mes, superando en gran cantidad la base mensual del plan surf. Los usuarios del plan surf tienen a pagar más por excesos que los del plan últimate.  "
   ]
  },
  {
   "cell_type": "code",
   "execution_count": 66,
   "metadata": {
    "id": "0Y1v8ZUz0q1P"
   },
   "outputs": [
    {
     "name": "stdout",
     "output_type": "stream",
     "text": [
      "       plan      media     varianza  desviacion_estandar\n",
      "0      surf  60.706408  3067.835152            55.388042\n",
      "1  ultimate  72.313889   129.848486            11.395108\n"
     ]
    }
   ],
   "source": [
    "#se calcula la media, varianza y desviacion estandar para analizar el comportamiento \n",
    "est_tarifas= resumen_final.groupby('plan')['tarifa_final'].agg(['mean', 'var', 'std']).reset_index()\n",
    "est_tarifas.rename(columns={'mean': 'media', 'var': 'varianza', 'std': 'desviacion_estandar'}, inplace=True)\n",
    "print(est_tarifas)"
   ]
  },
  {
   "cell_type": "markdown",
   "metadata": {},
   "source": [
    "Este análisis nos muestra que en promedio la tarifa de ambos planes estan relativamente cerca, sin embargo la varianza tan alta del plan surf, nos dice que hay una gran cantidad de usuarios que pagan una cantidad bastante mayor a la media. "
   ]
  },
  {
   "cell_type": "code",
   "execution_count": 67,
   "metadata": {
    "id": "bYmwxyVh0q1P"
   },
   "outputs": [
    {
     "data": {
      "text/plain": [
       "Text(0.5, 1.0, 'Distribución de la tarifa mensual de usuarios por plan')"
      ]
     },
     "execution_count": 67,
     "metadata": {},
     "output_type": "execute_result"
    },
    {
     "data": {
      "image/png": "[encoded data removed]",
      "text/plain": [
       "<Figure size 640x480 with 1 Axes>"
      ]
     },
     "metadata": {},
     "output_type": "display_data"
    }
   ],
   "source": [
    "# Traza un diagrama de caja para visualizar la distribución del numero de gb consumidos por plan\n",
    "sns.boxplot (x = 'plan', y = 'tarifa_final', data = resumen_final)\n",
    "plt.title('Distribución de la tarifa mensual de usuarios por plan')"
   ]
  },
  {
   "cell_type": "markdown",
   "metadata": {
    "id": "KAFidcXZ0q1P"
   },
   "source": [
    "Se puede ver que el ingreso entre los planes es muy distino. Muy pocas personas escogen el plan ultimate a pesar de que tiene una base mayor, sin embargo los excesos que pagan extras son muy pocos debido a la cantidad que se incluye de cada servicio en el plan. En el plan surf, el 75% de las personas pagan algo similar a los del plan ultimate, pero hay muchos datos atípicos que superan altamente el rango de lo que pagan los usuarios, siendo estos datos atípicos lo que le genera mayor ingreso a la empresa.  "
   ]
  },
  {
   "cell_type": "markdown",
   "metadata": {
    "id": "ajJ7VKeI0q1Q"
   },
   "source": [
    "## Prueba las hipótesis estadísticas"
   ]
  },
  {
   "cell_type": "markdown",
   "metadata": {
    "id": "AdXAZ-yL0q1Q"
   },
   "source": [
    "H0: Los ingresos promedio de los usuarios para los planes Surf y Ultimate son iguales\n",
    "\n",
    "Ha: Los ingresos promedio de los usuarios para los planes Surf y Ultimate difieren "
   ]
  },
  {
   "cell_type": "markdown",
   "metadata": {
    "id": "IQwa_hsh0q1Q"
   },
   "source": [
    "Se utiliza una prueba de dos colas ya que solo queremos saber si son diferentes, indiferentemente si una es mayor a otra.  Se usa una prueba st.ttest_ind ya que contamos con 2 muestras (surf y ultimate)"
   ]
  },
  {
   "cell_type": "markdown",
   "metadata": {},
   "source": [
    "Se utiliza un valor de alpha 0.05, como umbral de significancia estadistica el cual es lo suficientemente representativo para poder aceptar o rechazar la hipotesis nula"
   ]
  },
  {
   "cell_type": "code",
   "execution_count": 68,
   "metadata": {
    "id": "nFoPNlPq0q1R"
   },
   "outputs": [
    {
     "name": "stdout",
     "output_type": "stream",
     "text": [
      "valor p: 3.1703905481135734e-15\n",
      "Rechazamos la hipotesis nula\n"
     ]
    }
   ],
   "source": [
    "# Prueba las hipótesis\n",
    "alpha = 0.05 \n",
    "results = st.ttest_ind (\n",
    "    resumen_final[resumen_final['plan'] == 'surf'] ['tarifa_final'], \n",
    "    resumen_final[resumen_final['plan'] == 'ultimate'] ['tarifa_final'], \n",
    "    equal_var = False)\n",
    "\n",
    "print ('valor p:', results.pvalue)\n",
    "\n",
    "if results.pvalue < alpha:\n",
    "    print ('Rechazamos la hipotesis nula')\n",
    "else:\n",
    "    print ('No podemos rechazar la hipotesis nula')"
   ]
  },
  {
   "cell_type": "markdown",
   "metadata": {},
   "source": [
    "Después de realizar una prueba de hipótesis, donde la H0 era que los ingresos promedio de ambos planes son similares, se puede decir que se rechaza la hipótesis nula. Es decir que los ingresos entre planes son diferentes. Esto se corrobora con los análisis previos realizados. "
   ]
  },
  {
   "cell_type": "markdown",
   "metadata": {
    "id": "LsBgitqj0q1R"
   },
   "source": [
    "El ingreso promedio de los usuarios en el área de estados Nueva York-Nueva Jersey es diferente al de los usuarios de otras regiones."
   ]
  },
  {
   "cell_type": "code",
   "execution_count": 79,
   "metadata": {},
   "outputs": [
    {
     "data": {
      "text/html": [
       "<div>\n",
       "<style scoped>\n",
       "    .dataframe tbody tr th:only-of-type {\n",
       "        vertical-align: middle;\n",
       "    }\n",
       "\n",
       "    .dataframe tbody tr th {\n",
       "        vertical-align: top;\n",
       "    }\n",
       "\n",
       "    .dataframe thead th {\n",
       "        text-align: right;\n",
       "    }\n",
       "</style>\n",
       "<table border=\"1\" class=\"dataframe\">\n",
       "  <thead>\n",
       "    <tr style=\"text-align: right;\">\n",
       "      <th></th>\n",
       "      <th></th>\n",
       "      <th>total_llamadas</th>\n",
       "      <th>min_usados</th>\n",
       "      <th>total_mensajes</th>\n",
       "      <th>gb_usados</th>\n",
       "      <th>plan</th>\n",
       "      <th>min_exceso</th>\n",
       "      <th>msj_exceso</th>\n",
       "      <th>gb_exceso</th>\n",
       "      <th>usd_adicional</th>\n",
       "      <th>tarifa_final</th>\n",
       "    </tr>\n",
       "    <tr>\n",
       "      <th>user_id</th>\n",
       "      <th>month</th>\n",
       "      <th></th>\n",
       "      <th></th>\n",
       "      <th></th>\n",
       "      <th></th>\n",
       "      <th></th>\n",
       "      <th></th>\n",
       "      <th></th>\n",
       "      <th></th>\n",
       "      <th></th>\n",
       "      <th></th>\n",
       "    </tr>\n",
       "  </thead>\n",
       "  <tbody>\n",
       "    <tr>\n",
       "      <th>1000</th>\n",
       "      <th>12</th>\n",
       "      <td>16.0</td>\n",
       "      <td>124.0</td>\n",
       "      <td>11.0</td>\n",
       "      <td>2.0</td>\n",
       "      <td>ultimate</td>\n",
       "      <td>0.0</td>\n",
       "      <td>0.0</td>\n",
       "      <td>0.0</td>\n",
       "      <td>0.00</td>\n",
       "      <td>70.00</td>\n",
       "    </tr>\n",
       "    <tr>\n",
       "      <th rowspan=\"4\" valign=\"top\">1001</th>\n",
       "      <th>8</th>\n",
       "      <td>27.0</td>\n",
       "      <td>182.0</td>\n",
       "      <td>30.0</td>\n",
       "      <td>7.0</td>\n",
       "      <td>surf</td>\n",
       "      <td>0.0</td>\n",
       "      <td>0.0</td>\n",
       "      <td>0.0</td>\n",
       "      <td>0.00</td>\n",
       "      <td>20.00</td>\n",
       "    </tr>\n",
       "    <tr>\n",
       "      <th>9</th>\n",
       "      <td>49.0</td>\n",
       "      <td>315.0</td>\n",
       "      <td>44.0</td>\n",
       "      <td>14.0</td>\n",
       "      <td>surf</td>\n",
       "      <td>0.0</td>\n",
       "      <td>0.0</td>\n",
       "      <td>0.0</td>\n",
       "      <td>0.00</td>\n",
       "      <td>20.00</td>\n",
       "    </tr>\n",
       "    <tr>\n",
       "      <th>10</th>\n",
       "      <td>65.0</td>\n",
       "      <td>393.0</td>\n",
       "      <td>53.0</td>\n",
       "      <td>22.0</td>\n",
       "      <td>surf</td>\n",
       "      <td>0.0</td>\n",
       "      <td>3.0</td>\n",
       "      <td>7.0</td>\n",
       "      <td>70.09</td>\n",
       "      <td>90.09</td>\n",
       "    </tr>\n",
       "    <tr>\n",
       "      <th>11</th>\n",
       "      <td>64.0</td>\n",
       "      <td>426.0</td>\n",
       "      <td>36.0</td>\n",
       "      <td>19.0</td>\n",
       "      <td>surf</td>\n",
       "      <td>0.0</td>\n",
       "      <td>0.0</td>\n",
       "      <td>4.0</td>\n",
       "      <td>40.00</td>\n",
       "      <td>60.00</td>\n",
       "    </tr>\n",
       "    <tr>\n",
       "      <th>...</th>\n",
       "      <th>...</th>\n",
       "      <td>...</td>\n",
       "      <td>...</td>\n",
       "      <td>...</td>\n",
       "      <td>...</td>\n",
       "      <td>...</td>\n",
       "      <td>...</td>\n",
       "      <td>...</td>\n",
       "      <td>...</td>\n",
       "      <td>...</td>\n",
       "      <td>...</td>\n",
       "    </tr>\n",
       "    <tr>\n",
       "      <th>1349</th>\n",
       "      <th>12</th>\n",
       "      <td>0.0</td>\n",
       "      <td>0.0</td>\n",
       "      <td>61.0</td>\n",
       "      <td>13.0</td>\n",
       "      <td>surf</td>\n",
       "      <td>0.0</td>\n",
       "      <td>11.0</td>\n",
       "      <td>0.0</td>\n",
       "      <td>0.33</td>\n",
       "      <td>20.33</td>\n",
       "    </tr>\n",
       "    <tr>\n",
       "      <th>1361</th>\n",
       "      <th>5</th>\n",
       "      <td>0.0</td>\n",
       "      <td>0.0</td>\n",
       "      <td>2.0</td>\n",
       "      <td>2.0</td>\n",
       "      <td>surf</td>\n",
       "      <td>0.0</td>\n",
       "      <td>0.0</td>\n",
       "      <td>0.0</td>\n",
       "      <td>0.00</td>\n",
       "      <td>20.00</td>\n",
       "    </tr>\n",
       "    <tr>\n",
       "      <th>1482</th>\n",
       "      <th>10</th>\n",
       "      <td>0.0</td>\n",
       "      <td>0.0</td>\n",
       "      <td>2.0</td>\n",
       "      <td>0.0</td>\n",
       "      <td>ultimate</td>\n",
       "      <td>0.0</td>\n",
       "      <td>0.0</td>\n",
       "      <td>0.0</td>\n",
       "      <td>0.00</td>\n",
       "      <td>70.00</td>\n",
       "    </tr>\n",
       "    <tr>\n",
       "      <th>1108</th>\n",
       "      <th>12</th>\n",
       "      <td>0.0</td>\n",
       "      <td>0.0</td>\n",
       "      <td>0.0</td>\n",
       "      <td>1.0</td>\n",
       "      <td>ultimate</td>\n",
       "      <td>0.0</td>\n",
       "      <td>0.0</td>\n",
       "      <td>0.0</td>\n",
       "      <td>0.00</td>\n",
       "      <td>70.00</td>\n",
       "    </tr>\n",
       "    <tr>\n",
       "      <th>1311</th>\n",
       "      <th>6</th>\n",
       "      <td>0.0</td>\n",
       "      <td>0.0</td>\n",
       "      <td>0.0</td>\n",
       "      <td>2.0</td>\n",
       "      <td>ultimate</td>\n",
       "      <td>0.0</td>\n",
       "      <td>0.0</td>\n",
       "      <td>0.0</td>\n",
       "      <td>0.00</td>\n",
       "      <td>70.00</td>\n",
       "    </tr>\n",
       "  </tbody>\n",
       "</table>\n",
       "<p>2293 rows × 10 columns</p>\n",
       "</div>"
      ],
      "text/plain": [
       "               total_llamadas  min_usados  total_mensajes  gb_usados  \\\n",
       "user_id month                                                          \n",
       "1000    12               16.0       124.0            11.0        2.0   \n",
       "1001    8                27.0       182.0            30.0        7.0   \n",
       "        9                49.0       315.0            44.0       14.0   \n",
       "        10               65.0       393.0            53.0       22.0   \n",
       "        11               64.0       426.0            36.0       19.0   \n",
       "...                       ...         ...             ...        ...   \n",
       "1349    12                0.0         0.0            61.0       13.0   \n",
       "1361    5                 0.0         0.0             2.0        2.0   \n",
       "1482    10                0.0         0.0             2.0        0.0   \n",
       "1108    12                0.0         0.0             0.0        1.0   \n",
       "1311    6                 0.0         0.0             0.0        2.0   \n",
       "\n",
       "                   plan  min_exceso  msj_exceso  gb_exceso  usd_adicional  \\\n",
       "user_id month                                                               \n",
       "1000    12     ultimate         0.0         0.0        0.0           0.00   \n",
       "1001    8          surf         0.0         0.0        0.0           0.00   \n",
       "        9          surf         0.0         0.0        0.0           0.00   \n",
       "        10         surf         0.0         3.0        7.0          70.09   \n",
       "        11         surf         0.0         0.0        4.0          40.00   \n",
       "...                 ...         ...         ...        ...            ...   \n",
       "1349    12         surf         0.0        11.0        0.0           0.33   \n",
       "1361    5          surf         0.0         0.0        0.0           0.00   \n",
       "1482    10     ultimate         0.0         0.0        0.0           0.00   \n",
       "1108    12     ultimate         0.0         0.0        0.0           0.00   \n",
       "1311    6      ultimate         0.0         0.0        0.0           0.00   \n",
       "\n",
       "               tarifa_final  \n",
       "user_id month                \n",
       "1000    12            70.00  \n",
       "1001    8             20.00  \n",
       "        9             20.00  \n",
       "        10            90.09  \n",
       "        11            60.00  \n",
       "...                     ...  \n",
       "1349    12            20.33  \n",
       "1361    5             20.00  \n",
       "1482    10            70.00  \n",
       "1108    12            70.00  \n",
       "1311    6             70.00  \n",
       "\n",
       "[2293 rows x 10 columns]"
      ]
     },
     "execution_count": 79,
     "metadata": {},
     "output_type": "execute_result"
    }
   ],
   "source": [
    "#elimino la columna user_id de mi tabla resumen final para poder unir la columna ciudad de mi tabla usuarios. Ya que al tener como index y columna se hace ambiguo para unir. \n",
    "resumen_f = resumen_final.drop(columns = ['user_id'])\n",
    "resumen_f"
   ]
  },
  {
   "cell_type": "code",
   "execution_count": 70,
   "metadata": {},
   "outputs": [
    {
     "data": {
      "text/html": [
       "<div>\n",
       "<style scoped>\n",
       "    .dataframe tbody tr th:only-of-type {\n",
       "        vertical-align: middle;\n",
       "    }\n",
       "\n",
       "    .dataframe tbody tr th {\n",
       "        vertical-align: top;\n",
       "    }\n",
       "\n",
       "    .dataframe thead th {\n",
       "        text-align: right;\n",
       "    }\n",
       "</style>\n",
       "<table border=\"1\" class=\"dataframe\">\n",
       "  <thead>\n",
       "    <tr style=\"text-align: right;\">\n",
       "      <th></th>\n",
       "      <th></th>\n",
       "      <th>user_id</th>\n",
       "      <th>total_llamadas</th>\n",
       "      <th>min_usados</th>\n",
       "      <th>total_mensajes</th>\n",
       "      <th>gb_usados</th>\n",
       "      <th>plan</th>\n",
       "      <th>min_exceso</th>\n",
       "      <th>msj_exceso</th>\n",
       "      <th>gb_exceso</th>\n",
       "      <th>usd_adicional</th>\n",
       "      <th>tarifa_final</th>\n",
       "      <th>city</th>\n",
       "    </tr>\n",
       "    <tr>\n",
       "      <th>user_id</th>\n",
       "      <th>month</th>\n",
       "      <th></th>\n",
       "      <th></th>\n",
       "      <th></th>\n",
       "      <th></th>\n",
       "      <th></th>\n",
       "      <th></th>\n",
       "      <th></th>\n",
       "      <th></th>\n",
       "      <th></th>\n",
       "      <th></th>\n",
       "      <th></th>\n",
       "      <th></th>\n",
       "    </tr>\n",
       "  </thead>\n",
       "  <tbody>\n",
       "    <tr>\n",
       "      <th>1000</th>\n",
       "      <th>12</th>\n",
       "      <td>1000</td>\n",
       "      <td>16.0</td>\n",
       "      <td>124.0</td>\n",
       "      <td>11.0</td>\n",
       "      <td>2.0</td>\n",
       "      <td>ultimate</td>\n",
       "      <td>0.0</td>\n",
       "      <td>0.0</td>\n",
       "      <td>0.0</td>\n",
       "      <td>0.00</td>\n",
       "      <td>70.00</td>\n",
       "      <td>Atlanta-Sandy Springs-Roswell, GA MSA</td>\n",
       "    </tr>\n",
       "    <tr>\n",
       "      <th rowspan=\"4\" valign=\"top\">1001</th>\n",
       "      <th>8</th>\n",
       "      <td>1001</td>\n",
       "      <td>27.0</td>\n",
       "      <td>182.0</td>\n",
       "      <td>30.0</td>\n",
       "      <td>7.0</td>\n",
       "      <td>surf</td>\n",
       "      <td>0.0</td>\n",
       "      <td>0.0</td>\n",
       "      <td>0.0</td>\n",
       "      <td>0.00</td>\n",
       "      <td>20.00</td>\n",
       "      <td>Seattle-Tacoma-Bellevue, WA MSA</td>\n",
       "    </tr>\n",
       "    <tr>\n",
       "      <th>9</th>\n",
       "      <td>1001</td>\n",
       "      <td>49.0</td>\n",
       "      <td>315.0</td>\n",
       "      <td>44.0</td>\n",
       "      <td>14.0</td>\n",
       "      <td>surf</td>\n",
       "      <td>0.0</td>\n",
       "      <td>0.0</td>\n",
       "      <td>0.0</td>\n",
       "      <td>0.00</td>\n",
       "      <td>20.00</td>\n",
       "      <td>Seattle-Tacoma-Bellevue, WA MSA</td>\n",
       "    </tr>\n",
       "    <tr>\n",
       "      <th>10</th>\n",
       "      <td>1001</td>\n",
       "      <td>65.0</td>\n",
       "      <td>393.0</td>\n",
       "      <td>53.0</td>\n",
       "      <td>22.0</td>\n",
       "      <td>surf</td>\n",
       "      <td>0.0</td>\n",
       "      <td>3.0</td>\n",
       "      <td>7.0</td>\n",
       "      <td>70.09</td>\n",
       "      <td>90.09</td>\n",
       "      <td>Seattle-Tacoma-Bellevue, WA MSA</td>\n",
       "    </tr>\n",
       "    <tr>\n",
       "      <th>11</th>\n",
       "      <td>1001</td>\n",
       "      <td>64.0</td>\n",
       "      <td>426.0</td>\n",
       "      <td>36.0</td>\n",
       "      <td>19.0</td>\n",
       "      <td>surf</td>\n",
       "      <td>0.0</td>\n",
       "      <td>0.0</td>\n",
       "      <td>4.0</td>\n",
       "      <td>40.00</td>\n",
       "      <td>60.00</td>\n",
       "      <td>Seattle-Tacoma-Bellevue, WA MSA</td>\n",
       "    </tr>\n",
       "  </tbody>\n",
       "</table>\n",
       "</div>"
      ],
      "text/plain": [
       "               user_id  total_llamadas  min_usados  total_mensajes  gb_usados  \\\n",
       "user_id month                                                                   \n",
       "1000    12        1000            16.0       124.0            11.0        2.0   \n",
       "1001    8         1001            27.0       182.0            30.0        7.0   \n",
       "        9         1001            49.0       315.0            44.0       14.0   \n",
       "        10        1001            65.0       393.0            53.0       22.0   \n",
       "        11        1001            64.0       426.0            36.0       19.0   \n",
       "\n",
       "                   plan  min_exceso  msj_exceso  gb_exceso  usd_adicional  \\\n",
       "user_id month                                                               \n",
       "1000    12     ultimate         0.0         0.0        0.0           0.00   \n",
       "1001    8          surf         0.0         0.0        0.0           0.00   \n",
       "        9          surf         0.0         0.0        0.0           0.00   \n",
       "        10         surf         0.0         3.0        7.0          70.09   \n",
       "        11         surf         0.0         0.0        4.0          40.00   \n",
       "\n",
       "               tarifa_final                                   city  \n",
       "user_id month                                                       \n",
       "1000    12            70.00  Atlanta-Sandy Springs-Roswell, GA MSA  \n",
       "1001    8             20.00        Seattle-Tacoma-Bellevue, WA MSA  \n",
       "        9             20.00        Seattle-Tacoma-Bellevue, WA MSA  \n",
       "        10            90.09        Seattle-Tacoma-Bellevue, WA MSA  \n",
       "        11            60.00        Seattle-Tacoma-Bellevue, WA MSA  "
      ]
     },
     "execution_count": 70,
     "metadata": {},
     "output_type": "execute_result"
    }
   ],
   "source": [
    "#uno el dataframe resumen_final con la informacion de ciudad por user_id del dataframe usuarios. \n",
    "resumen_ciudad = resumen_f.merge (usuarios[['city', 'user_id']], \n",
    "                                on = 'user_id', \n",
    "                                how = 'left').set_index(resumen_final.index)\n",
    "resumen_ciudad.head()"
   ]
  },
  {
   "cell_type": "code",
   "execution_count": 71,
   "metadata": {},
   "outputs": [
    {
     "name": "stdout",
     "output_type": "stream",
     "text": [
      "<class 'pandas.core.frame.DataFrame'>\n",
      "MultiIndex: 2293 entries, (1000, 12) to (1311, 6)\n",
      "Data columns (total 12 columns):\n",
      " #   Column          Non-Null Count  Dtype  \n",
      "---  ------          --------------  -----  \n",
      " 0   user_id         2293 non-null   int64  \n",
      " 1   total_llamadas  2293 non-null   float64\n",
      " 2   min_usados      2293 non-null   float64\n",
      " 3   total_mensajes  2293 non-null   float64\n",
      " 4   gb_usados       2293 non-null   float64\n",
      " 5   plan            2293 non-null   object \n",
      " 6   min_exceso      2293 non-null   float64\n",
      " 7   msj_exceso      2293 non-null   float64\n",
      " 8   gb_exceso       2293 non-null   float64\n",
      " 9   usd_adicional   2293 non-null   float64\n",
      " 10  tarifa_final    2293 non-null   float64\n",
      " 11  city            2293 non-null   object \n",
      "dtypes: float64(9), int64(1), object(2)\n",
      "memory usage: 242.2+ KB\n"
     ]
    }
   ],
   "source": [
    "#verifico que no tenga valores nulos \n",
    "resumen_ciudad.info()"
   ]
  },
  {
   "cell_type": "code",
   "execution_count": 72,
   "metadata": {},
   "outputs": [
    {
     "data": {
      "text/html": [
       "<div>\n",
       "<style scoped>\n",
       "    .dataframe tbody tr th:only-of-type {\n",
       "        vertical-align: middle;\n",
       "    }\n",
       "\n",
       "    .dataframe tbody tr th {\n",
       "        vertical-align: top;\n",
       "    }\n",
       "\n",
       "    .dataframe thead th {\n",
       "        text-align: right;\n",
       "    }\n",
       "</style>\n",
       "<table border=\"1\" class=\"dataframe\">\n",
       "  <thead>\n",
       "    <tr style=\"text-align: right;\">\n",
       "      <th></th>\n",
       "      <th></th>\n",
       "      <th>user_id</th>\n",
       "      <th>total_llamadas</th>\n",
       "      <th>min_usados</th>\n",
       "      <th>total_mensajes</th>\n",
       "      <th>gb_usados</th>\n",
       "      <th>plan</th>\n",
       "      <th>min_exceso</th>\n",
       "      <th>msj_exceso</th>\n",
       "      <th>gb_exceso</th>\n",
       "      <th>usd_adicional</th>\n",
       "      <th>tarifa_final</th>\n",
       "      <th>city</th>\n",
       "    </tr>\n",
       "    <tr>\n",
       "      <th>user_id</th>\n",
       "      <th>month</th>\n",
       "      <th></th>\n",
       "      <th></th>\n",
       "      <th></th>\n",
       "      <th></th>\n",
       "      <th></th>\n",
       "      <th></th>\n",
       "      <th></th>\n",
       "      <th></th>\n",
       "      <th></th>\n",
       "      <th></th>\n",
       "      <th></th>\n",
       "      <th></th>\n",
       "    </tr>\n",
       "  </thead>\n",
       "  <tbody>\n",
       "    <tr>\n",
       "      <th rowspan=\"2\" valign=\"top\">1014</th>\n",
       "      <th>11</th>\n",
       "      <td>1014</td>\n",
       "      <td>28.0</td>\n",
       "      <td>163.0</td>\n",
       "      <td>9.0</td>\n",
       "      <td>2.0</td>\n",
       "      <td>surf</td>\n",
       "      <td>0.0</td>\n",
       "      <td>0.0</td>\n",
       "      <td>0.0</td>\n",
       "      <td>0.00</td>\n",
       "      <td>20.00</td>\n",
       "      <td>New York-Newark-Jersey City, NY-NJ-PA MSA</td>\n",
       "    </tr>\n",
       "    <tr>\n",
       "      <th>12</th>\n",
       "      <td>1014</td>\n",
       "      <td>150.0</td>\n",
       "      <td>1114.0</td>\n",
       "      <td>64.0</td>\n",
       "      <td>8.0</td>\n",
       "      <td>surf</td>\n",
       "      <td>614.0</td>\n",
       "      <td>14.0</td>\n",
       "      <td>0.0</td>\n",
       "      <td>18.84</td>\n",
       "      <td>38.84</td>\n",
       "      <td>New York-Newark-Jersey City, NY-NJ-PA MSA</td>\n",
       "    </tr>\n",
       "    <tr>\n",
       "      <th rowspan=\"3\" valign=\"top\">1022</th>\n",
       "      <th>5</th>\n",
       "      <td>1022</td>\n",
       "      <td>39.0</td>\n",
       "      <td>302.0</td>\n",
       "      <td>0.0</td>\n",
       "      <td>5.0</td>\n",
       "      <td>surf</td>\n",
       "      <td>0.0</td>\n",
       "      <td>0.0</td>\n",
       "      <td>0.0</td>\n",
       "      <td>0.00</td>\n",
       "      <td>20.00</td>\n",
       "      <td>New York-Newark-Jersey City, NY-NJ-PA MSA</td>\n",
       "    </tr>\n",
       "    <tr>\n",
       "      <th>6</th>\n",
       "      <td>1022</td>\n",
       "      <td>76.0</td>\n",
       "      <td>490.0</td>\n",
       "      <td>0.0</td>\n",
       "      <td>23.0</td>\n",
       "      <td>surf</td>\n",
       "      <td>0.0</td>\n",
       "      <td>0.0</td>\n",
       "      <td>8.0</td>\n",
       "      <td>80.00</td>\n",
       "      <td>100.00</td>\n",
       "      <td>New York-Newark-Jersey City, NY-NJ-PA MSA</td>\n",
       "    </tr>\n",
       "    <tr>\n",
       "      <th>7</th>\n",
       "      <td>1022</td>\n",
       "      <td>70.0</td>\n",
       "      <td>475.0</td>\n",
       "      <td>0.0</td>\n",
       "      <td>10.0</td>\n",
       "      <td>surf</td>\n",
       "      <td>0.0</td>\n",
       "      <td>0.0</td>\n",
       "      <td>0.0</td>\n",
       "      <td>0.00</td>\n",
       "      <td>20.00</td>\n",
       "      <td>New York-Newark-Jersey City, NY-NJ-PA MSA</td>\n",
       "    </tr>\n",
       "  </tbody>\n",
       "</table>\n",
       "</div>"
      ],
      "text/plain": [
       "               user_id  total_llamadas  min_usados  total_mensajes  gb_usados  \\\n",
       "user_id month                                                                   \n",
       "1014    11        1014            28.0       163.0             9.0        2.0   \n",
       "        12        1014           150.0      1114.0            64.0        8.0   \n",
       "1022    5         1022            39.0       302.0             0.0        5.0   \n",
       "        6         1022            76.0       490.0             0.0       23.0   \n",
       "        7         1022            70.0       475.0             0.0       10.0   \n",
       "\n",
       "               plan  min_exceso  msj_exceso  gb_exceso  usd_adicional  \\\n",
       "user_id month                                                           \n",
       "1014    11     surf         0.0         0.0        0.0           0.00   \n",
       "        12     surf       614.0        14.0        0.0          18.84   \n",
       "1022    5      surf         0.0         0.0        0.0           0.00   \n",
       "        6      surf         0.0         0.0        8.0          80.00   \n",
       "        7      surf         0.0         0.0        0.0           0.00   \n",
       "\n",
       "               tarifa_final                                       city  \n",
       "user_id month                                                           \n",
       "1014    11            20.00  New York-Newark-Jersey City, NY-NJ-PA MSA  \n",
       "        12            38.84  New York-Newark-Jersey City, NY-NJ-PA MSA  \n",
       "1022    5             20.00  New York-Newark-Jersey City, NY-NJ-PA MSA  \n",
       "        6            100.00  New York-Newark-Jersey City, NY-NJ-PA MSA  \n",
       "        7             20.00  New York-Newark-Jersey City, NY-NJ-PA MSA  "
      ]
     },
     "execution_count": 72,
     "metadata": {},
     "output_type": "execute_result"
    }
   ],
   "source": [
    "#Crear una nueva tabla con los datos que contienen solo la ciudad NY-NY\n",
    "NY_NJ = resumen_ciudad[resumen_ciudad['city'].str.contains('NY-NJ')]\n",
    "NY_NJ.head()"
   ]
  },
  {
   "cell_type": "code",
   "execution_count": 73,
   "metadata": {},
   "outputs": [],
   "source": [
    "#calcular la media, var, y std para la tarifa final de los datos que tienen la ciudad NY-NJ\n",
    "media_tarifa = NY_NJ['tarifa_final'].mean()\n",
    "varianza_tarifa = NY_NJ['tarifa_final'].var()\n",
    "desviacion_estandar_tarifa = NY_NJ['tarifa_final'].std()"
   ]
  },
  {
   "cell_type": "code",
   "execution_count": 74,
   "metadata": {},
   "outputs": [
    {
     "name": "stdout",
     "output_type": "stream",
     "text": [
      "59.921352785145885\n",
      "1895.5456899204246\n",
      "43.537865013346995\n"
     ]
    }
   ],
   "source": [
    "print (media_tarifa)\n",
    "print (varianza_tarifa )\n",
    "print (desviacion_estandar_tarifa )"
   ]
  },
  {
   "cell_type": "code",
   "execution_count": 75,
   "metadata": {},
   "outputs": [
    {
     "data": {
      "text/html": [
       "<div>\n",
       "<style scoped>\n",
       "    .dataframe tbody tr th:only-of-type {\n",
       "        vertical-align: middle;\n",
       "    }\n",
       "\n",
       "    .dataframe tbody tr th {\n",
       "        vertical-align: top;\n",
       "    }\n",
       "\n",
       "    .dataframe thead th {\n",
       "        text-align: right;\n",
       "    }\n",
       "</style>\n",
       "<table border=\"1\" class=\"dataframe\">\n",
       "  <thead>\n",
       "    <tr style=\"text-align: right;\">\n",
       "      <th></th>\n",
       "      <th></th>\n",
       "      <th>user_id</th>\n",
       "      <th>total_llamadas</th>\n",
       "      <th>min_usados</th>\n",
       "      <th>total_mensajes</th>\n",
       "      <th>gb_usados</th>\n",
       "      <th>plan</th>\n",
       "      <th>min_exceso</th>\n",
       "      <th>msj_exceso</th>\n",
       "      <th>gb_exceso</th>\n",
       "      <th>usd_adicional</th>\n",
       "      <th>tarifa_final</th>\n",
       "      <th>city</th>\n",
       "    </tr>\n",
       "    <tr>\n",
       "      <th>user_id</th>\n",
       "      <th>month</th>\n",
       "      <th></th>\n",
       "      <th></th>\n",
       "      <th></th>\n",
       "      <th></th>\n",
       "      <th></th>\n",
       "      <th></th>\n",
       "      <th></th>\n",
       "      <th></th>\n",
       "      <th></th>\n",
       "      <th></th>\n",
       "      <th></th>\n",
       "      <th></th>\n",
       "    </tr>\n",
       "  </thead>\n",
       "  <tbody>\n",
       "    <tr>\n",
       "      <th>1000</th>\n",
       "      <th>12</th>\n",
       "      <td>1000</td>\n",
       "      <td>16.0</td>\n",
       "      <td>124.0</td>\n",
       "      <td>11.0</td>\n",
       "      <td>2.0</td>\n",
       "      <td>ultimate</td>\n",
       "      <td>0.0</td>\n",
       "      <td>0.0</td>\n",
       "      <td>0.0</td>\n",
       "      <td>0.00</td>\n",
       "      <td>70.00</td>\n",
       "      <td>Atlanta-Sandy Springs-Roswell, GA MSA</td>\n",
       "    </tr>\n",
       "    <tr>\n",
       "      <th rowspan=\"4\" valign=\"top\">1001</th>\n",
       "      <th>8</th>\n",
       "      <td>1001</td>\n",
       "      <td>27.0</td>\n",
       "      <td>182.0</td>\n",
       "      <td>30.0</td>\n",
       "      <td>7.0</td>\n",
       "      <td>surf</td>\n",
       "      <td>0.0</td>\n",
       "      <td>0.0</td>\n",
       "      <td>0.0</td>\n",
       "      <td>0.00</td>\n",
       "      <td>20.00</td>\n",
       "      <td>Seattle-Tacoma-Bellevue, WA MSA</td>\n",
       "    </tr>\n",
       "    <tr>\n",
       "      <th>9</th>\n",
       "      <td>1001</td>\n",
       "      <td>49.0</td>\n",
       "      <td>315.0</td>\n",
       "      <td>44.0</td>\n",
       "      <td>14.0</td>\n",
       "      <td>surf</td>\n",
       "      <td>0.0</td>\n",
       "      <td>0.0</td>\n",
       "      <td>0.0</td>\n",
       "      <td>0.00</td>\n",
       "      <td>20.00</td>\n",
       "      <td>Seattle-Tacoma-Bellevue, WA MSA</td>\n",
       "    </tr>\n",
       "    <tr>\n",
       "      <th>10</th>\n",
       "      <td>1001</td>\n",
       "      <td>65.0</td>\n",
       "      <td>393.0</td>\n",
       "      <td>53.0</td>\n",
       "      <td>22.0</td>\n",
       "      <td>surf</td>\n",
       "      <td>0.0</td>\n",
       "      <td>3.0</td>\n",
       "      <td>7.0</td>\n",
       "      <td>70.09</td>\n",
       "      <td>90.09</td>\n",
       "      <td>Seattle-Tacoma-Bellevue, WA MSA</td>\n",
       "    </tr>\n",
       "    <tr>\n",
       "      <th>11</th>\n",
       "      <td>1001</td>\n",
       "      <td>64.0</td>\n",
       "      <td>426.0</td>\n",
       "      <td>36.0</td>\n",
       "      <td>19.0</td>\n",
       "      <td>surf</td>\n",
       "      <td>0.0</td>\n",
       "      <td>0.0</td>\n",
       "      <td>4.0</td>\n",
       "      <td>40.00</td>\n",
       "      <td>60.00</td>\n",
       "      <td>Seattle-Tacoma-Bellevue, WA MSA</td>\n",
       "    </tr>\n",
       "  </tbody>\n",
       "</table>\n",
       "</div>"
      ],
      "text/plain": [
       "               user_id  total_llamadas  min_usados  total_mensajes  gb_usados  \\\n",
       "user_id month                                                                   \n",
       "1000    12        1000            16.0       124.0            11.0        2.0   \n",
       "1001    8         1001            27.0       182.0            30.0        7.0   \n",
       "        9         1001            49.0       315.0            44.0       14.0   \n",
       "        10        1001            65.0       393.0            53.0       22.0   \n",
       "        11        1001            64.0       426.0            36.0       19.0   \n",
       "\n",
       "                   plan  min_exceso  msj_exceso  gb_exceso  usd_adicional  \\\n",
       "user_id month                                                               \n",
       "1000    12     ultimate         0.0         0.0        0.0           0.00   \n",
       "1001    8          surf         0.0         0.0        0.0           0.00   \n",
       "        9          surf         0.0         0.0        0.0           0.00   \n",
       "        10         surf         0.0         3.0        7.0          70.09   \n",
       "        11         surf         0.0         0.0        4.0          40.00   \n",
       "\n",
       "               tarifa_final                                   city  \n",
       "user_id month                                                       \n",
       "1000    12            70.00  Atlanta-Sandy Springs-Roswell, GA MSA  \n",
       "1001    8             20.00        Seattle-Tacoma-Bellevue, WA MSA  \n",
       "        9             20.00        Seattle-Tacoma-Bellevue, WA MSA  \n",
       "        10            90.09        Seattle-Tacoma-Bellevue, WA MSA  \n",
       "        11            60.00        Seattle-Tacoma-Bellevue, WA MSA  "
      ]
     },
     "execution_count": 75,
     "metadata": {},
     "output_type": "execute_result"
    }
   ],
   "source": [
    "#crear una tabla nueva con todos los datos que no contienen a la ciudad NY-NJ\n",
    "Not_NY_NJ = resumen_ciudad.query('city not in @NY_NJ.city')\n",
    "Not_NY_NJ.head()"
   ]
  },
  {
   "cell_type": "code",
   "execution_count": 76,
   "metadata": {},
   "outputs": [],
   "source": [
    "#calculo la media, var, y std para la tarifa final de los datos que no tienen la ciudad NY-NJ\n",
    "media_NotNY = Not_NY_NJ['tarifa_final'].mean()\n",
    "varianza_NotNY = Not_NY_NJ['tarifa_final'].var()\n",
    "desviacion_NotNY = Not_NY_NJ['tarifa_final'].std()"
   ]
  },
  {
   "cell_type": "code",
   "execution_count": 77,
   "metadata": {
    "scrolled": true
   },
   "outputs": [
    {
     "name": "stdout",
     "output_type": "stream",
     "text": [
      "65.2227713987474\n",
      "2225.0479943518917\n",
      "47.170414396652184\n"
     ]
    }
   ],
   "source": [
    "print (media_NotNY)\n",
    "print (varianza_NotNY)\n",
    "print (desviacion_NotNY)"
   ]
  },
  {
   "cell_type": "markdown",
   "metadata": {},
   "source": [
    "Puedo comprobar que las varianzar de ambas muestras son diferentes, lo que me permite establecer mi parámetro equal var  como False en mi prueba de hipótesis. "
   ]
  },
  {
   "cell_type": "markdown",
   "metadata": {
    "id": "tCcAruM60q1R"
   },
   "source": [
    "H0: El ingreso promedio de los usuarios del área NY-NJ es igual al de los usuarios de otras regiones.\n",
    "\n",
    "Ha: El ingreso promedio de los usuarios del área NY-NJ es diferente al de los usuarios de otras regiones."
   ]
  },
  {
   "cell_type": "markdown",
   "metadata": {},
   "source": [
    "Se selecciona una prueba de dos colas ya que solo quiero si es diferente, no ni es mayor o menor. Se realiza una prueba st.ttest.ind ya que contamos con 2 muestras (NY-NJ, todo lo demas).\n",
    "Se selecciona un nivel de significancia de 0.05 para poder concluir si se acepta o rechaza la hipotesis nula, siendo lo suficientemente representativo."
   ]
  },
  {
   "cell_type": "code",
   "execution_count": 78,
   "metadata": {
    "id": "Cqcj7wrZ0q1S"
   },
   "outputs": [
    {
     "name": "stdout",
     "output_type": "stream",
     "text": [
      "valor p: 0.0335256158853001\n",
      "Rechazamos la hipotesis nula\n"
     ]
    }
   ],
   "source": [
    "# Prueba las hipótesis\n",
    "alpha = 0.05 \n",
    "result2 = st.ttest_ind(\n",
    "          NY_NJ ['tarifa_final'],\n",
    "        Not_NY_NJ['tarifa_final'],\n",
    "        equal_var = False )\n",
    "\n",
    "print ('valor p:', result2.pvalue)\n",
    "\n",
    "if result2.pvalue < alpha:\n",
    "    print ('Rechazamos la hipotesis nula')\n",
    "else:\n",
    "    print ('No podemos rechazar la hipotesis nula')"
   ]
  },
  {
   "cell_type": "markdown",
   "metadata": {},
   "source": [
    "Se rechaza la hipótesis nula, es decir los ingresos entre NY-NJ son diferentes a los ingresos del resto de ciudades donde se tienen clientes. Esto tiene sentido ya que para que los ingresos sean iguales, la mayor cantidad de usuarios deberían estan en NY-NJ. "
   ]
  },
  {
   "cell_type": "markdown",
   "metadata": {
    "id": "bbTR8UQO0q1T"
   },
   "source": [
    "## Conclusión general\n",
    "\n",
    "- Después de realizar un análisis exahustivo para la empresa Megaline para los planes surf y ultimate, se puede concluir que la mayor cantidad de usuarios utilizan en plan surf.\n",
    "- A pesar de que surf tiene una base menor a ultimate, los ingresos que este plan representa son significativamente mayores a los ingresos del plan ultimate. \n",
    "- Los usuarios del plan surf tienden a pagar más por los excesos utilizados de los servicios ofrecidos dentro de este plan, siendo lo que mayor cantidad de ingresos le representa a la empresa. Los usuarios del plan ultimate casi no pagan exceso por la cantidad de minutos, msj y gb que se incluye en el plan. \n",
    "- Se debe promocionar más el plan surf para que una mayor cantidad de usuarios decidan hacer uso del mismo. \n",
    "- Se pudo evidenciar que los comportamientos de los usuarios eran distintos para cada plan, sin embargo sus distribuciones se comportaban de manera similar. \n",
    "- Los ingresos del área de NY-NJ son distintos a los ingresos del resto de áreas donde se ofrece el servicio. Esto hace sentido ya que solo es 1 área comparada con todas las demás. Para que sean iguales, la mayor cantidad de usuarios deberían estan ubicados el en área de NY-NJ."
   ]
  }
 ],
 "metadata": {
  "ExecuteTimeLog": [
   {
    "duration": 828,
    "start_time": "2021-11-16T09:21:11.304Z"
   },
   {
    "duration": 893,
    "start_time": "2021-11-16T09:21:17.728Z"
   },
   {
    "duration": 1150,
    "start_time": "2021-11-16T09:21:29.568Z"
   },
   {
    "duration": 3,
    "start_time": "2021-11-16T09:24:14.495Z"
   },
   {
    "duration": 120,
    "start_time": "2021-11-16T09:24:46.630Z"
   },
   {
    "duration": 3,
    "start_time": "2021-11-16T09:28:27.882Z"
   },
   {
    "duration": 4,
    "start_time": "2021-11-16T09:29:54.281Z"
   },
   {
    "duration": 3,
    "start_time": "2021-11-16T09:30:45.936Z"
   },
   {
    "duration": 4,
    "start_time": "2021-11-16T09:31:06.300Z"
   },
   {
    "duration": 113,
    "start_time": "2021-11-16T09:31:37.208Z"
   },
   {
    "duration": 143,
    "start_time": "2021-11-16T09:31:48.656Z"
   },
   {
    "duration": 98,
    "start_time": "2021-11-16T09:31:55.678Z"
   },
   {
    "duration": 3,
    "start_time": "2021-11-16T09:32:08.535Z"
   },
   {
    "duration": 111,
    "start_time": "2021-11-16T09:32:10.120Z"
   },
   {
    "duration": 3,
    "start_time": "2021-11-16T09:32:15.732Z"
   },
   {
    "duration": 4,
    "start_time": "2021-11-16T09:32:29.423Z"
   },
   {
    "duration": 3,
    "start_time": "2021-11-16T10:03:03.074Z"
   },
   {
    "duration": 3,
    "start_time": "2021-11-16T10:10:01.288Z"
   },
   {
    "duration": 3,
    "start_time": "2021-11-16T10:10:46.923Z"
   },
   {
    "duration": 121,
    "start_time": "2021-11-16T10:37:46.494Z"
   },
   {
    "duration": 125,
    "start_time": "2021-11-16T10:38:20.632Z"
   },
   {
    "duration": 112,
    "start_time": "2021-11-16T10:46:53.001Z"
   },
   {
    "duration": 110,
    "start_time": "2021-11-16T10:48:25.775Z"
   },
   {
    "duration": 3,
    "start_time": "2021-11-16T10:50:18.720Z"
   },
   {
    "duration": 4,
    "start_time": "2021-11-16T10:50:37.649Z"
   },
   {
    "duration": 2,
    "start_time": "2021-11-16T10:50:51.884Z"
   },
   {
    "duration": 3,
    "start_time": "2021-11-16T10:51:56.237Z"
   },
   {
    "duration": 101,
    "start_time": "2021-11-16T10:53:13.791Z"
   },
   {
    "duration": 3,
    "start_time": "2021-11-16T10:55:59.186Z"
   },
   {
    "duration": 3,
    "start_time": "2021-11-16T10:56:10.751Z"
   },
   {
    "duration": 3,
    "start_time": "2021-11-16T10:56:49.038Z"
   },
   {
    "duration": 3,
    "start_time": "2021-11-16T10:56:49.174Z"
   },
   {
    "duration": 4,
    "start_time": "2021-11-16T10:56:49.414Z"
   },
   {
    "duration": 3,
    "start_time": "2021-11-16T10:56:49.680Z"
   },
   {
    "duration": 3,
    "start_time": "2021-11-16T10:56:50.370Z"
   },
   {
    "duration": 114,
    "start_time": "2021-11-16T10:59:34.518Z"
   },
   {
    "duration": 3,
    "start_time": "2021-11-16T11:01:41.201Z"
   },
   {
    "duration": 116,
    "start_time": "2021-11-16T11:01:48.754Z"
   },
   {
    "duration": 3,
    "start_time": "2021-11-16T11:02:16.685Z"
   },
   {
    "duration": 3,
    "start_time": "2021-11-16T11:02:19.479Z"
   },
   {
    "duration": 3,
    "start_time": "2021-11-16T11:02:47.067Z"
   },
   {
    "duration": 3,
    "start_time": "2021-11-16T11:02:49.353Z"
   },
   {
    "duration": 3,
    "start_time": "2021-11-16T11:03:07.835Z"
   },
   {
    "duration": 3,
    "start_time": "2021-11-16T11:03:07.953Z"
   },
   {
    "duration": 112,
    "start_time": "2021-11-16T11:07:52.072Z"
   },
   {
    "duration": 187,
    "start_time": "2021-11-16T11:09:23.468Z"
   },
   {
    "duration": 4,
    "start_time": "2021-11-16T11:10:01.455Z"
   },
   {
    "duration": 3,
    "start_time": "2021-11-16T11:10:05.069Z"
   },
   {
    "duration": 4,
    "start_time": "2021-11-16T11:10:13.376Z"
   },
   {
    "duration": 3,
    "start_time": "2021-11-16T11:10:14.434Z"
   },
   {
    "duration": 3,
    "start_time": "2021-11-16T11:10:22.853Z"
   },
   {
    "duration": 4,
    "start_time": "2021-11-16T11:27:29.279Z"
   },
   {
    "duration": 4,
    "start_time": "2021-11-16T11:29:08.919Z"
   },
   {
    "duration": 118,
    "start_time": "2021-11-16T11:29:46.703Z"
   },
   {
    "duration": 437,
    "start_time": "2021-11-16T11:36:02.181Z"
   },
   {
    "duration": 157,
    "start_time": "2021-11-16T11:36:14.388Z"
   },
   {
    "duration": 207,
    "start_time": "2021-11-16T11:47:15.898Z"
   },
   {
    "duration": 3,
    "start_time": "2021-11-16T11:53:52.092Z"
   },
   {
    "duration": 3,
    "start_time": "2021-11-16T11:53:52.236Z"
   },
   {
    "duration": 3,
    "start_time": "2021-11-16T11:59:12.005Z"
   },
   {
    "duration": 112,
    "start_time": "2021-11-16T12:00:33.446Z"
   },
   {
    "duration": 3,
    "start_time": "2021-11-16T12:02:14.453Z"
   },
   {
    "duration": 3,
    "start_time": "2021-11-16T12:02:39.512Z"
   },
   {
    "duration": 106,
    "start_time": "2021-11-16T12:03:03.460Z"
   },
   {
    "duration": 3,
    "start_time": "2021-11-17T20:37:21.139Z"
   },
   {
    "duration": 3,
    "start_time": "2021-11-17T20:37:22.229Z"
   },
   {
    "duration": 3,
    "start_time": "2021-11-17T20:38:38.806Z"
   },
   {
    "duration": 3,
    "start_time": "2021-11-17T20:38:41.958Z"
   },
   {
    "duration": 3,
    "start_time": "2021-11-17T20:43:46.551Z"
   },
   {
    "duration": 4,
    "start_time": "2021-11-17T20:58:21.835Z"
   },
   {
    "duration": 3,
    "start_time": "2021-11-17T20:59:21.872Z"
   },
   {
    "duration": 4,
    "start_time": "2021-11-17T20:59:45.352Z"
   },
   {
    "duration": 4,
    "start_time": "2021-11-17T20:59:49.646Z"
   },
   {
    "duration": 159,
    "start_time": "2021-11-17T21:02:26.949Z"
   },
   {
    "duration": 3,
    "start_time": "2021-11-17T21:03:53.461Z"
   },
   {
    "duration": 3,
    "start_time": "2021-11-17T21:03:53.694Z"
   },
   {
    "duration": 3,
    "start_time": "2021-11-17T21:05:28.145Z"
   },
   {
    "duration": 116,
    "start_time": "2021-11-17T21:05:57.787Z"
   },
   {
    "duration": 3,
    "start_time": "2021-11-17T21:06:37.993Z"
   },
   {
    "duration": 3,
    "start_time": "2021-11-17T21:06:38.261Z"
   },
   {
    "duration": 3,
    "start_time": "2021-11-17T21:11:54.358Z"
   },
   {
    "duration": 3,
    "start_time": "2021-11-17T21:12:43.846Z"
   },
   {
    "duration": 4,
    "start_time": "2021-11-17T21:13:08.773Z"
   },
   {
    "duration": 3,
    "start_time": "2021-11-17T21:14:44.441Z"
   },
   {
    "duration": 3,
    "start_time": "2021-11-17T21:15:42.059Z"
   },
   {
    "duration": 4,
    "start_time": "2021-11-17T21:15:51.995Z"
   },
   {
    "duration": 3,
    "start_time": "2021-11-17T21:15:53.923Z"
   },
   {
    "duration": 3,
    "start_time": "2021-11-17T21:15:55.282Z"
   },
   {
    "duration": 3,
    "start_time": "2021-11-17T21:16:28.492Z"
   },
   {
    "duration": 3,
    "start_time": "2021-11-17T21:16:32.603Z"
   },
   {
    "duration": 3,
    "start_time": "2021-11-17T21:17:06.941Z"
   },
   {
    "duration": 98,
    "start_time": "2021-11-17T21:18:05.733Z"
   },
   {
    "duration": 4,
    "start_time": "2021-11-17T21:21:35.255Z"
   },
   {
    "duration": 3,
    "start_time": "2021-11-17T21:21:37.804Z"
   },
   {
    "duration": 4,
    "start_time": "2021-11-17T21:23:06.071Z"
   },
   {
    "duration": 3,
    "start_time": "2021-11-17T21:23:24.799Z"
   },
   {
    "duration": 3,
    "start_time": "2021-11-17T21:23:32.591Z"
   },
   {
    "duration": 98,
    "start_time": "2021-11-17T21:28:31.559Z"
   },
   {
    "duration": 3,
    "start_time": "2021-11-17T21:28:45.448Z"
   },
   {
    "duration": 3,
    "start_time": "2021-11-17T21:29:17.303Z"
   },
   {
    "duration": 3,
    "start_time": "2021-11-17T21:29:29.617Z"
   },
   {
    "duration": 3,
    "start_time": "2021-11-17T21:29:32.681Z"
   },
   {
    "duration": 3,
    "start_time": "2021-11-17T21:36:11.474Z"
   },
   {
    "duration": 3,
    "start_time": "2021-11-17T21:36:14.791Z"
   },
   {
    "duration": 3,
    "start_time": "2021-11-17T21:36:53.943Z"
   },
   {
    "duration": 3,
    "start_time": "2021-11-17T21:36:56.165Z"
   },
   {
    "duration": 4,
    "start_time": "2021-11-17T21:37:16.590Z"
   },
   {
    "duration": 3,
    "start_time": "2021-11-17T21:37:22.702Z"
   },
   {
    "duration": 4,
    "start_time": "2021-11-17T21:38:03.479Z"
   },
   {
    "duration": 3,
    "start_time": "2021-11-17T21:38:08.601Z"
   },
   {
    "duration": 3,
    "start_time": "2021-11-17T21:38:12.928Z"
   },
   {
    "duration": 3,
    "start_time": "2021-11-17T21:38:48.896Z"
   },
   {
    "duration": 2,
    "start_time": "2021-11-17T21:38:49.171Z"
   },
   {
    "duration": 4,
    "start_time": "2021-11-17T21:39:57.889Z"
   },
   {
    "duration": 3,
    "start_time": "2021-11-17T21:39:58.057Z"
   },
   {
    "duration": 3,
    "start_time": "2021-11-17T21:41:20.108Z"
   },
   {
    "duration": 3,
    "start_time": "2021-11-17T21:41:20.629Z"
   },
   {
    "duration": 3,
    "start_time": "2021-11-17T21:42:49.136Z"
   },
   {
    "duration": 3,
    "start_time": "2021-11-17T21:43:15.137Z"
   },
   {
    "duration": 4,
    "start_time": "2021-11-17T21:43:16.766Z"
   },
   {
    "duration": 4,
    "start_time": "2021-11-17T21:43:31.711Z"
   },
   {
    "duration": 3,
    "start_time": "2021-11-17T21:43:36.312Z"
   },
   {
    "duration": 4,
    "start_time": "2021-11-17T21:45:08.825Z"
   },
   {
    "duration": 4,
    "start_time": "2021-11-17T21:45:10.119Z"
   },
   {
    "duration": 4,
    "start_time": "2021-11-17T21:45:13.748Z"
   },
   {
    "duration": 3,
    "start_time": "2021-11-17T21:45:22.219Z"
   },
   {
    "duration": 3,
    "start_time": "2021-11-17T21:45:33.412Z"
   },
   {
    "duration": 2,
    "start_time": "2021-11-17T21:46:01.885Z"
   },
   {
    "duration": 3,
    "start_time": "2021-11-17T21:46:03.628Z"
   },
   {
    "duration": 107,
    "start_time": "2021-11-17T21:47:32.512Z"
   },
   {
    "duration": 103,
    "start_time": "2021-11-17T21:50:36.243Z"
   },
   {
    "duration": 3,
    "start_time": "2021-11-18T06:28:31.440Z"
   },
   {
    "duration": 3,
    "start_time": "2021-11-18T06:29:00.168Z"
   },
   {
    "duration": 3,
    "start_time": "2021-11-18T06:31:27.008Z"
   },
   {
    "duration": 2,
    "start_time": "2021-11-18T06:35:34.288Z"
   },
   {
    "duration": 2,
    "start_time": "2021-11-18T06:38:04.527Z"
   },
   {
    "duration": 4885,
    "start_time": "2024-08-20T20:18:04.381Z"
   },
   {
    "duration": 1160,
    "start_time": "2024-08-20T20:28:22.135Z"
   },
   {
    "duration": 338,
    "start_time": "2024-08-20T20:31:24.955Z"
   },
   {
    "duration": 18,
    "start_time": "2024-08-20T20:33:28.782Z"
   },
   {
    "duration": 16,
    "start_time": "2024-08-20T20:34:05.711Z"
   },
   {
    "duration": 37,
    "start_time": "2024-08-20T20:49:23.894Z"
   },
   {
    "duration": 309,
    "start_time": "2024-08-21T14:19:44.915Z"
   },
   {
    "duration": 4945,
    "start_time": "2024-08-21T14:19:55.726Z"
   },
   {
    "duration": 360,
    "start_time": "2024-08-21T14:20:00.674Z"
   },
   {
    "duration": 16,
    "start_time": "2024-08-21T14:20:01.037Z"
   },
   {
    "duration": 17,
    "start_time": "2024-08-21T14:20:01.057Z"
   },
   {
    "duration": 37,
    "start_time": "2024-08-21T14:20:01.076Z"
   },
   {
    "duration": 4,
    "start_time": "2024-08-21T14:20:01.116Z"
   },
   {
    "duration": 5,
    "start_time": "2024-08-21T14:20:01.123Z"
   },
   {
    "duration": 3,
    "start_time": "2024-08-21T14:20:01.132Z"
   },
   {
    "duration": 3,
    "start_time": "2024-08-21T14:20:01.139Z"
   },
   {
    "duration": 3,
    "start_time": "2024-08-21T14:20:01.149Z"
   },
   {
    "duration": 4,
    "start_time": "2024-08-21T14:20:01.205Z"
   },
   {
    "duration": 4,
    "start_time": "2024-08-21T14:20:01.212Z"
   },
   {
    "duration": 3,
    "start_time": "2024-08-21T14:20:01.220Z"
   },
   {
    "duration": 3,
    "start_time": "2024-08-21T14:20:01.227Z"
   },
   {
    "duration": 4,
    "start_time": "2024-08-21T14:20:01.233Z"
   },
   {
    "duration": 4,
    "start_time": "2024-08-21T14:20:01.240Z"
   },
   {
    "duration": 3,
    "start_time": "2024-08-21T14:20:01.247Z"
   },
   {
    "duration": 4,
    "start_time": "2024-08-21T14:20:01.308Z"
   },
   {
    "duration": 4,
    "start_time": "2024-08-21T14:20:01.314Z"
   },
   {
    "duration": 3,
    "start_time": "2024-08-21T14:20:01.321Z"
   },
   {
    "duration": 4,
    "start_time": "2024-08-21T14:20:01.328Z"
   },
   {
    "duration": 3,
    "start_time": "2024-08-21T14:20:01.336Z"
   },
   {
    "duration": 3,
    "start_time": "2024-08-21T14:20:01.343Z"
   },
   {
    "duration": 57,
    "start_time": "2024-08-21T14:20:01.351Z"
   },
   {
    "duration": 4,
    "start_time": "2024-08-21T14:20:01.411Z"
   },
   {
    "duration": 5,
    "start_time": "2024-08-21T14:20:01.417Z"
   },
   {
    "duration": 6,
    "start_time": "2024-08-21T14:20:01.425Z"
   },
   {
    "duration": 3,
    "start_time": "2024-08-21T14:20:01.438Z"
   },
   {
    "duration": 14,
    "start_time": "2024-08-21T14:20:16.368Z"
   },
   {
    "duration": 8,
    "start_time": "2024-08-21T14:27:20.081Z"
   },
   {
    "duration": 14,
    "start_time": "2024-08-21T14:27:42.270Z"
   },
   {
    "duration": 19,
    "start_time": "2024-08-21T14:33:00.425Z"
   },
   {
    "duration": 28,
    "start_time": "2024-08-21T14:34:58.798Z"
   },
   {
    "duration": 403,
    "start_time": "2024-08-21T14:35:16.459Z"
   },
   {
    "duration": 12,
    "start_time": "2024-08-21T14:35:24.895Z"
   },
   {
    "duration": 27,
    "start_time": "2024-08-21T14:38:37.103Z"
   },
   {
    "duration": 7,
    "start_time": "2024-08-21T14:41:33.235Z"
   },
   {
    "duration": 28,
    "start_time": "2024-08-21T14:41:51.180Z"
   },
   {
    "duration": 23,
    "start_time": "2024-08-21T14:43:15.067Z"
   },
   {
    "duration": 22,
    "start_time": "2024-08-21T14:43:18.910Z"
   },
   {
    "duration": 23,
    "start_time": "2024-08-21T14:44:30.864Z"
   },
   {
    "duration": 5,
    "start_time": "2024-08-21T14:44:34.771Z"
   },
   {
    "duration": 19,
    "start_time": "2024-08-21T14:44:55.087Z"
   },
   {
    "duration": 6,
    "start_time": "2024-08-21T14:53:39.213Z"
   },
   {
    "duration": 22,
    "start_time": "2024-08-21T14:55:10.978Z"
   },
   {
    "duration": 13,
    "start_time": "2024-08-21T14:55:16.390Z"
   },
   {
    "duration": 27,
    "start_time": "2024-08-21T14:59:16.951Z"
   },
   {
    "duration": 13,
    "start_time": "2024-08-21T14:59:20.146Z"
   },
   {
    "duration": 14,
    "start_time": "2024-08-21T14:59:27.214Z"
   },
   {
    "duration": 13,
    "start_time": "2024-08-21T14:59:37.171Z"
   },
   {
    "duration": 15,
    "start_time": "2024-08-21T14:59:54.660Z"
   },
   {
    "duration": 13,
    "start_time": "2024-08-21T14:59:56.694Z"
   },
   {
    "duration": 20,
    "start_time": "2024-08-21T15:01:03.442Z"
   },
   {
    "duration": 10,
    "start_time": "2024-08-21T15:01:30.091Z"
   },
   {
    "duration": 20,
    "start_time": "2024-08-21T15:03:35.850Z"
   },
   {
    "duration": 18,
    "start_time": "2024-08-21T15:03:44.937Z"
   },
   {
    "duration": 46,
    "start_time": "2024-08-21T15:07:45.098Z"
   },
   {
    "duration": 43,
    "start_time": "2024-08-21T15:08:31.981Z"
   },
   {
    "duration": 22,
    "start_time": "2024-08-21T15:13:52.653Z"
   },
   {
    "duration": 9,
    "start_time": "2024-08-21T15:14:15.284Z"
   },
   {
    "duration": 11,
    "start_time": "2024-08-21T15:14:25.328Z"
   },
   {
    "duration": 30,
    "start_time": "2024-08-21T15:16:11.467Z"
   },
   {
    "duration": 22,
    "start_time": "2024-08-21T15:16:14.495Z"
   },
   {
    "duration": 15,
    "start_time": "2024-08-21T15:16:35.341Z"
   },
   {
    "duration": 11,
    "start_time": "2024-08-21T15:16:43.561Z"
   },
   {
    "duration": 25,
    "start_time": "2024-08-21T15:22:36.618Z"
   },
   {
    "duration": 40,
    "start_time": "2024-08-21T15:22:42.093Z"
   },
   {
    "duration": 21,
    "start_time": "2024-08-21T15:22:45.856Z"
   },
   {
    "duration": 19,
    "start_time": "2024-08-21T15:22:53.614Z"
   },
   {
    "duration": 3,
    "start_time": "2024-08-21T15:28:50.561Z"
   },
   {
    "duration": 11,
    "start_time": "2024-08-21T15:29:45.389Z"
   },
   {
    "duration": 13,
    "start_time": "2024-08-21T15:29:55.594Z"
   },
   {
    "duration": 24,
    "start_time": "2024-08-21T15:30:45.000Z"
   },
   {
    "duration": 13,
    "start_time": "2024-08-21T15:30:53.455Z"
   },
   {
    "duration": 12,
    "start_time": "2024-08-27T00:21:12.175Z"
   },
   {
    "duration": 4965,
    "start_time": "2024-08-27T00:21:27.978Z"
   },
   {
    "duration": 397,
    "start_time": "2024-08-27T00:21:32.947Z"
   },
   {
    "duration": 17,
    "start_time": "2024-08-27T00:21:33.346Z"
   },
   {
    "duration": 18,
    "start_time": "2024-08-27T00:21:33.367Z"
   },
   {
    "duration": 6,
    "start_time": "2024-08-27T00:21:33.389Z"
   },
   {
    "duration": 0,
    "start_time": "2024-08-27T00:21:33.434Z"
   },
   {
    "duration": 0,
    "start_time": "2024-08-27T00:21:33.435Z"
   },
   {
    "duration": 0,
    "start_time": "2024-08-27T00:21:33.437Z"
   },
   {
    "duration": 0,
    "start_time": "2024-08-27T00:21:33.439Z"
   },
   {
    "duration": 0,
    "start_time": "2024-08-27T00:21:33.441Z"
   },
   {
    "duration": 0,
    "start_time": "2024-08-27T00:21:33.443Z"
   },
   {
    "duration": 0,
    "start_time": "2024-08-27T00:21:33.444Z"
   },
   {
    "duration": 0,
    "start_time": "2024-08-27T00:21:33.447Z"
   },
   {
    "duration": 0,
    "start_time": "2024-08-27T00:21:33.449Z"
   },
   {
    "duration": 0,
    "start_time": "2024-08-27T00:21:33.451Z"
   },
   {
    "duration": 0,
    "start_time": "2024-08-27T00:21:33.453Z"
   },
   {
    "duration": 0,
    "start_time": "2024-08-27T00:21:33.455Z"
   },
   {
    "duration": 0,
    "start_time": "2024-08-27T00:21:33.457Z"
   },
   {
    "duration": 0,
    "start_time": "2024-08-27T00:21:33.459Z"
   },
   {
    "duration": 0,
    "start_time": "2024-08-27T00:21:33.461Z"
   },
   {
    "duration": 0,
    "start_time": "2024-08-27T00:21:33.462Z"
   },
   {
    "duration": 0,
    "start_time": "2024-08-27T00:21:33.463Z"
   },
   {
    "duration": 0,
    "start_time": "2024-08-27T00:21:33.465Z"
   },
   {
    "duration": 0,
    "start_time": "2024-08-27T00:21:33.471Z"
   },
   {
    "duration": 0,
    "start_time": "2024-08-27T00:21:33.474Z"
   },
   {
    "duration": 0,
    "start_time": "2024-08-27T00:21:33.533Z"
   },
   {
    "duration": 0,
    "start_time": "2024-08-27T00:21:33.534Z"
   },
   {
    "duration": 0,
    "start_time": "2024-08-27T00:21:33.537Z"
   },
   {
    "duration": 0,
    "start_time": "2024-08-27T00:21:33.539Z"
   },
   {
    "duration": 0,
    "start_time": "2024-08-27T00:21:33.541Z"
   },
   {
    "duration": 0,
    "start_time": "2024-08-27T00:21:33.543Z"
   },
   {
    "duration": 0,
    "start_time": "2024-08-27T00:21:33.546Z"
   },
   {
    "duration": 0,
    "start_time": "2024-08-27T00:21:33.548Z"
   },
   {
    "duration": 0,
    "start_time": "2024-08-27T00:21:33.550Z"
   },
   {
    "duration": 0,
    "start_time": "2024-08-27T00:21:33.552Z"
   },
   {
    "duration": 0,
    "start_time": "2024-08-27T00:21:33.553Z"
   },
   {
    "duration": 0,
    "start_time": "2024-08-27T00:21:33.555Z"
   },
   {
    "duration": 0,
    "start_time": "2024-08-27T00:21:33.558Z"
   },
   {
    "duration": 0,
    "start_time": "2024-08-27T00:21:33.560Z"
   },
   {
    "duration": 0,
    "start_time": "2024-08-27T00:21:33.562Z"
   },
   {
    "duration": 0,
    "start_time": "2024-08-27T00:21:33.566Z"
   },
   {
    "duration": 0,
    "start_time": "2024-08-27T00:21:33.569Z"
   },
   {
    "duration": 0,
    "start_time": "2024-08-27T00:21:33.571Z"
   },
   {
    "duration": 0,
    "start_time": "2024-08-27T00:21:33.633Z"
   },
   {
    "duration": 0,
    "start_time": "2024-08-27T00:21:33.636Z"
   },
   {
    "duration": 0,
    "start_time": "2024-08-27T00:21:33.638Z"
   },
   {
    "duration": 0,
    "start_time": "2024-08-27T00:21:33.641Z"
   },
   {
    "duration": 6,
    "start_time": "2024-08-27T00:21:46.871Z"
   },
   {
    "duration": 15,
    "start_time": "2024-08-27T00:22:09.958Z"
   },
   {
    "duration": 6,
    "start_time": "2024-08-27T00:22:19.276Z"
   },
   {
    "duration": 5,
    "start_time": "2024-08-27T00:22:38.235Z"
   },
   {
    "duration": 1203,
    "start_time": "2024-08-27T00:22:46.820Z"
   },
   {
    "duration": 87,
    "start_time": "2024-08-27T00:23:05.268Z"
   },
   {
    "duration": 1287,
    "start_time": "2024-08-27T00:23:23.383Z"
   },
   {
    "duration": 274,
    "start_time": "2024-08-27T00:23:24.673Z"
   },
   {
    "duration": 15,
    "start_time": "2024-08-27T00:23:24.950Z"
   },
   {
    "duration": 16,
    "start_time": "2024-08-27T00:23:24.970Z"
   },
   {
    "duration": 49,
    "start_time": "2024-08-27T00:23:24.989Z"
   },
   {
    "duration": 16,
    "start_time": "2024-08-27T00:23:25.040Z"
   },
   {
    "duration": 14,
    "start_time": "2024-08-27T00:23:25.059Z"
   },
   {
    "duration": 8,
    "start_time": "2024-08-27T00:23:25.076Z"
   },
   {
    "duration": 57,
    "start_time": "2024-08-27T00:23:25.088Z"
   },
   {
    "duration": 18,
    "start_time": "2024-08-27T00:23:25.151Z"
   },
   {
    "duration": 24,
    "start_time": "2024-08-27T00:23:25.173Z"
   },
   {
    "duration": 12,
    "start_time": "2024-08-27T00:23:25.233Z"
   },
   {
    "duration": 31,
    "start_time": "2024-08-27T00:23:25.247Z"
   },
   {
    "duration": 54,
    "start_time": "2024-08-27T00:23:25.280Z"
   },
   {
    "duration": 5,
    "start_time": "2024-08-27T00:23:25.337Z"
   },
   {
    "duration": 12,
    "start_time": "2024-08-27T00:23:25.346Z"
   },
   {
    "duration": 16,
    "start_time": "2024-08-27T00:23:25.362Z"
   },
   {
    "duration": 51,
    "start_time": "2024-08-27T00:23:25.381Z"
   },
   {
    "duration": 51,
    "start_time": "2024-08-27T00:23:25.435Z"
   },
   {
    "duration": 51,
    "start_time": "2024-08-27T00:23:25.489Z"
   },
   {
    "duration": 10,
    "start_time": "2024-08-27T00:23:25.543Z"
   },
   {
    "duration": 19,
    "start_time": "2024-08-27T00:23:25.556Z"
   },
   {
    "duration": 18,
    "start_time": "2024-08-27T00:23:25.577Z"
   },
   {
    "duration": 10,
    "start_time": "2024-08-27T00:23:25.634Z"
   },
   {
    "duration": 11,
    "start_time": "2024-08-27T00:23:25.646Z"
   },
   {
    "duration": 23,
    "start_time": "2024-08-27T00:23:25.660Z"
   },
   {
    "duration": 49,
    "start_time": "2024-08-27T00:23:25.686Z"
   },
   {
    "duration": 22,
    "start_time": "2024-08-27T00:23:25.743Z"
   },
   {
    "duration": 19,
    "start_time": "2024-08-27T00:23:25.768Z"
   },
   {
    "duration": 43,
    "start_time": "2024-08-27T00:23:25.790Z"
   },
   {
    "duration": 12,
    "start_time": "2024-08-27T00:23:25.836Z"
   },
   {
    "duration": 14,
    "start_time": "2024-08-27T00:23:25.851Z"
   },
   {
    "duration": 4,
    "start_time": "2024-08-27T00:23:25.868Z"
   },
   {
    "duration": 3,
    "start_time": "2024-08-27T00:23:25.876Z"
   },
   {
    "duration": 3,
    "start_time": "2024-08-27T00:23:25.883Z"
   },
   {
    "duration": 3,
    "start_time": "2024-08-27T00:23:25.934Z"
   },
   {
    "duration": 4,
    "start_time": "2024-08-27T00:23:25.940Z"
   },
   {
    "duration": 3,
    "start_time": "2024-08-27T00:23:25.948Z"
   },
   {
    "duration": 3,
    "start_time": "2024-08-27T00:23:25.955Z"
   },
   {
    "duration": 4,
    "start_time": "2024-08-27T00:23:25.961Z"
   },
   {
    "duration": 4,
    "start_time": "2024-08-27T00:23:25.968Z"
   },
   {
    "duration": 58,
    "start_time": "2024-08-27T00:23:25.975Z"
   },
   {
    "duration": 4,
    "start_time": "2024-08-27T00:23:26.036Z"
   },
   {
    "duration": 3,
    "start_time": "2024-08-27T00:23:26.043Z"
   },
   {
    "duration": 3,
    "start_time": "2024-08-27T00:23:26.049Z"
   },
   {
    "duration": 3,
    "start_time": "2024-08-27T00:23:26.056Z"
   },
   {
    "duration": 4,
    "start_time": "2024-08-27T00:23:26.062Z"
   },
   {
    "duration": 15,
    "start_time": "2024-08-27T00:23:45.752Z"
   },
   {
    "duration": 4,
    "start_time": "2024-08-27T00:26:08.073Z"
   },
   {
    "duration": 14,
    "start_time": "2024-08-27T00:26:15.027Z"
   },
   {
    "duration": 2670,
    "start_time": "2024-08-27T02:26:23.086Z"
   },
   {
    "duration": 292,
    "start_time": "2024-08-27T02:26:25.758Z"
   },
   {
    "duration": 14,
    "start_time": "2024-08-27T02:26:26.052Z"
   },
   {
    "duration": 10,
    "start_time": "2024-08-27T02:26:26.068Z"
   },
   {
    "duration": 8,
    "start_time": "2024-08-27T02:26:26.079Z"
   },
   {
    "duration": 8,
    "start_time": "2024-08-27T02:26:26.089Z"
   },
   {
    "duration": 7,
    "start_time": "2024-08-27T02:26:26.099Z"
   },
   {
    "duration": 41,
    "start_time": "2024-08-27T02:26:26.108Z"
   },
   {
    "duration": 9,
    "start_time": "2024-08-27T02:26:26.152Z"
   },
   {
    "duration": 5,
    "start_time": "2024-08-27T02:26:26.164Z"
   },
   {
    "duration": 10,
    "start_time": "2024-08-27T02:26:26.170Z"
   },
   {
    "duration": 10,
    "start_time": "2024-08-27T02:26:26.182Z"
   },
   {
    "duration": 15,
    "start_time": "2024-08-27T02:26:26.193Z"
   },
   {
    "duration": 16,
    "start_time": "2024-08-27T02:26:26.209Z"
   },
   {
    "duration": 34,
    "start_time": "2024-08-27T02:26:26.226Z"
   },
   {
    "duration": 15,
    "start_time": "2024-08-27T02:26:26.262Z"
   },
   {
    "duration": 4,
    "start_time": "2024-08-27T02:26:26.279Z"
   },
   {
    "duration": 9,
    "start_time": "2024-08-27T02:26:26.285Z"
   },
   {
    "duration": 9,
    "start_time": "2024-08-27T02:26:26.296Z"
   },
   {
    "duration": 31,
    "start_time": "2024-08-27T02:26:26.310Z"
   },
   {
    "duration": 28,
    "start_time": "2024-08-27T02:26:26.343Z"
   },
   {
    "duration": 11,
    "start_time": "2024-08-27T02:26:26.373Z"
   },
   {
    "duration": 6,
    "start_time": "2024-08-27T02:26:26.385Z"
   },
   {
    "duration": 10,
    "start_time": "2024-08-27T02:26:26.392Z"
   },
   {
    "duration": 23,
    "start_time": "2024-08-27T02:26:26.403Z"
   },
   {
    "duration": 12,
    "start_time": "2024-08-27T02:26:26.437Z"
   },
   {
    "duration": 6,
    "start_time": "2024-08-27T02:26:26.451Z"
   },
   {
    "duration": 13,
    "start_time": "2024-08-27T02:26:26.462Z"
   },
   {
    "duration": 5,
    "start_time": "2024-08-27T02:26:26.477Z"
   },
   {
    "duration": 12,
    "start_time": "2024-08-27T02:26:26.484Z"
   },
   {
    "duration": 12,
    "start_time": "2024-08-27T02:26:26.497Z"
   },
   {
    "duration": 20,
    "start_time": "2024-08-27T02:26:26.529Z"
   },
   {
    "duration": 8,
    "start_time": "2024-08-27T02:26:26.550Z"
   },
   {
    "duration": 6,
    "start_time": "2024-08-27T02:26:26.560Z"
   },
   {
    "duration": 2,
    "start_time": "2024-08-27T02:26:26.568Z"
   },
   {
    "duration": 3,
    "start_time": "2024-08-27T02:26:26.572Z"
   },
   {
    "duration": 3,
    "start_time": "2024-08-27T02:26:26.576Z"
   },
   {
    "duration": 3,
    "start_time": "2024-08-27T02:26:26.581Z"
   },
   {
    "duration": 3,
    "start_time": "2024-08-27T02:26:26.585Z"
   },
   {
    "duration": 3,
    "start_time": "2024-08-27T02:26:26.589Z"
   },
   {
    "duration": 3,
    "start_time": "2024-08-27T02:26:26.593Z"
   },
   {
    "duration": 3,
    "start_time": "2024-08-27T02:26:26.597Z"
   },
   {
    "duration": 4,
    "start_time": "2024-08-27T02:26:26.626Z"
   },
   {
    "duration": 3,
    "start_time": "2024-08-27T02:26:26.633Z"
   },
   {
    "duration": 6,
    "start_time": "2024-08-27T02:26:26.637Z"
   },
   {
    "duration": 4,
    "start_time": "2024-08-27T02:26:26.648Z"
   },
   {
    "duration": 2,
    "start_time": "2024-08-27T02:26:26.654Z"
   },
   {
    "duration": 3,
    "start_time": "2024-08-27T02:26:26.658Z"
   },
   {
    "duration": 3,
    "start_time": "2024-08-27T02:26:26.662Z"
   },
   {
    "duration": 20,
    "start_time": "2024-08-27T02:35:41.256Z"
   },
   {
    "duration": 26,
    "start_time": "2024-08-27T02:35:47.903Z"
   },
   {
    "duration": 256,
    "start_time": "2024-08-27T02:38:45.305Z"
   },
   {
    "duration": 98,
    "start_time": "2024-08-27T02:38:53.451Z"
   },
   {
    "duration": 5,
    "start_time": "2024-08-27T02:39:51.876Z"
   },
   {
    "duration": 801,
    "start_time": "2024-08-27T02:39:58.465Z"
   },
   {
    "duration": 182,
    "start_time": "2024-08-27T02:39:59.267Z"
   },
   {
    "duration": 11,
    "start_time": "2024-08-27T02:39:59.451Z"
   },
   {
    "duration": 9,
    "start_time": "2024-08-27T02:39:59.464Z"
   },
   {
    "duration": 9,
    "start_time": "2024-08-27T02:39:59.474Z"
   },
   {
    "duration": 8,
    "start_time": "2024-08-27T02:39:59.485Z"
   },
   {
    "duration": 8,
    "start_time": "2024-08-27T02:39:59.495Z"
   },
   {
    "duration": 41,
    "start_time": "2024-08-27T02:39:59.504Z"
   },
   {
    "duration": 10,
    "start_time": "2024-08-27T02:39:59.546Z"
   },
   {
    "duration": 5,
    "start_time": "2024-08-27T02:39:59.560Z"
   },
   {
    "duration": 9,
    "start_time": "2024-08-27T02:39:59.567Z"
   },
   {
    "duration": 11,
    "start_time": "2024-08-27T02:39:59.577Z"
   },
   {
    "duration": 15,
    "start_time": "2024-08-27T02:39:59.590Z"
   },
   {
    "duration": 7,
    "start_time": "2024-08-27T02:39:59.606Z"
   },
   {
    "duration": 18,
    "start_time": "2024-08-27T02:39:59.637Z"
   },
   {
    "duration": 12,
    "start_time": "2024-08-27T02:39:59.657Z"
   },
   {
    "duration": 4,
    "start_time": "2024-08-27T02:39:59.671Z"
   },
   {
    "duration": 8,
    "start_time": "2024-08-27T02:39:59.676Z"
   },
   {
    "duration": 8,
    "start_time": "2024-08-27T02:39:59.685Z"
   },
   {
    "duration": 7,
    "start_time": "2024-08-27T02:39:59.694Z"
   },
   {
    "duration": 50,
    "start_time": "2024-08-27T02:39:59.703Z"
   },
   {
    "duration": 14,
    "start_time": "2024-08-27T02:39:59.755Z"
   },
   {
    "duration": 6,
    "start_time": "2024-08-27T02:39:59.770Z"
   },
   {
    "duration": 9,
    "start_time": "2024-08-27T02:39:59.778Z"
   },
   {
    "duration": 10,
    "start_time": "2024-08-27T02:39:59.788Z"
   },
   {
    "duration": 12,
    "start_time": "2024-08-27T02:39:59.821Z"
   },
   {
    "duration": 16,
    "start_time": "2024-08-27T02:39:59.834Z"
   },
   {
    "duration": 13,
    "start_time": "2024-08-27T02:39:59.854Z"
   },
   {
    "duration": 6,
    "start_time": "2024-08-27T02:39:59.869Z"
   },
   {
    "duration": 12,
    "start_time": "2024-08-27T02:39:59.877Z"
   },
   {
    "duration": 10,
    "start_time": "2024-08-27T02:39:59.891Z"
   },
   {
    "duration": 42,
    "start_time": "2024-08-27T02:39:59.903Z"
   },
   {
    "duration": 10,
    "start_time": "2024-08-27T02:39:59.946Z"
   },
   {
    "duration": 7,
    "start_time": "2024-08-27T02:39:59.958Z"
   },
   {
    "duration": 23,
    "start_time": "2024-08-27T02:39:59.966Z"
   },
   {
    "duration": 2,
    "start_time": "2024-08-27T02:39:59.992Z"
   },
   {
    "duration": 2,
    "start_time": "2024-08-27T02:39:59.996Z"
   },
   {
    "duration": 3,
    "start_time": "2024-08-27T02:40:00.000Z"
   },
   {
    "duration": 37,
    "start_time": "2024-08-27T02:40:00.004Z"
   },
   {
    "duration": 3,
    "start_time": "2024-08-27T02:40:00.045Z"
   },
   {
    "duration": 2,
    "start_time": "2024-08-27T02:40:00.050Z"
   },
   {
    "duration": 2,
    "start_time": "2024-08-27T02:40:00.054Z"
   },
   {
    "duration": 3,
    "start_time": "2024-08-27T02:40:00.058Z"
   },
   {
    "duration": 3,
    "start_time": "2024-08-27T02:40:00.063Z"
   },
   {
    "duration": 4,
    "start_time": "2024-08-27T02:40:00.067Z"
   },
   {
    "duration": 2,
    "start_time": "2024-08-27T02:40:00.073Z"
   },
   {
    "duration": 3,
    "start_time": "2024-08-27T02:40:00.077Z"
   },
   {
    "duration": 2,
    "start_time": "2024-08-27T02:40:00.082Z"
   },
   {
    "duration": 2,
    "start_time": "2024-08-27T02:40:00.086Z"
   },
   {
    "duration": 19,
    "start_time": "2024-08-27T02:40:37.679Z"
   },
   {
    "duration": 753,
    "start_time": "2024-08-27T02:43:13.020Z"
   },
   {
    "duration": 89,
    "start_time": "2024-08-27T02:44:10.365Z"
   },
   {
    "duration": 28,
    "start_time": "2024-08-27T02:45:03.896Z"
   },
   {
    "duration": 17,
    "start_time": "2024-08-27T02:46:54.575Z"
   },
   {
    "duration": 16,
    "start_time": "2024-08-27T02:49:20.794Z"
   },
   {
    "duration": 34,
    "start_time": "2024-08-27T02:50:36.716Z"
   },
   {
    "duration": 8,
    "start_time": "2024-08-27T02:51:29.590Z"
   },
   {
    "duration": 8,
    "start_time": "2024-08-27T02:51:46.789Z"
   },
   {
    "duration": 8,
    "start_time": "2024-08-27T02:52:32.542Z"
   },
   {
    "duration": 2,
    "start_time": "2024-08-27T02:52:37.589Z"
   },
   {
    "duration": 7,
    "start_time": "2024-08-27T02:52:58.848Z"
   },
   {
    "duration": 15,
    "start_time": "2024-08-27T02:53:21.650Z"
   },
   {
    "duration": 12,
    "start_time": "2024-08-27T02:53:40.217Z"
   },
   {
    "duration": 11,
    "start_time": "2024-08-27T02:54:14.138Z"
   },
   {
    "duration": 8,
    "start_time": "2024-08-27T02:54:56.896Z"
   },
   {
    "duration": 16,
    "start_time": "2024-08-27T02:56:42.990Z"
   },
   {
    "duration": 18,
    "start_time": "2024-08-27T02:56:50.527Z"
   },
   {
    "duration": 11,
    "start_time": "2024-08-27T02:58:00.690Z"
   },
   {
    "duration": 215,
    "start_time": "2024-08-27T02:58:08.894Z"
   },
   {
    "duration": 46,
    "start_time": "2024-08-27T02:58:18.113Z"
   },
   {
    "duration": 792,
    "start_time": "2024-08-27T02:58:54.678Z"
   },
   {
    "duration": 197,
    "start_time": "2024-08-27T02:58:55.472Z"
   },
   {
    "duration": 9,
    "start_time": "2024-08-27T02:58:55.670Z"
   },
   {
    "duration": 9,
    "start_time": "2024-08-27T02:58:55.682Z"
   },
   {
    "duration": 9,
    "start_time": "2024-08-27T02:58:55.692Z"
   },
   {
    "duration": 8,
    "start_time": "2024-08-27T02:58:55.703Z"
   },
   {
    "duration": 10,
    "start_time": "2024-08-27T02:58:55.737Z"
   },
   {
    "duration": 9,
    "start_time": "2024-08-27T02:58:55.748Z"
   },
   {
    "duration": 8,
    "start_time": "2024-08-27T02:58:55.759Z"
   },
   {
    "duration": 5,
    "start_time": "2024-08-27T02:58:55.770Z"
   },
   {
    "duration": 9,
    "start_time": "2024-08-27T02:58:55.776Z"
   },
   {
    "duration": 11,
    "start_time": "2024-08-27T02:58:55.786Z"
   },
   {
    "duration": 51,
    "start_time": "2024-08-27T02:58:55.798Z"
   },
   {
    "duration": 8,
    "start_time": "2024-08-27T02:58:55.850Z"
   },
   {
    "duration": 16,
    "start_time": "2024-08-27T02:58:55.861Z"
   },
   {
    "duration": 12,
    "start_time": "2024-08-27T02:58:55.878Z"
   },
   {
    "duration": 5,
    "start_time": "2024-08-27T02:58:55.892Z"
   },
   {
    "duration": 8,
    "start_time": "2024-08-27T02:58:55.899Z"
   },
   {
    "duration": 33,
    "start_time": "2024-08-27T02:58:55.908Z"
   },
   {
    "duration": 8,
    "start_time": "2024-08-27T02:58:55.946Z"
   },
   {
    "duration": 29,
    "start_time": "2024-08-27T02:58:55.955Z"
   },
   {
    "duration": 12,
    "start_time": "2024-08-27T02:58:55.986Z"
   },
   {
    "duration": 6,
    "start_time": "2024-08-27T02:58:55.999Z"
   },
   {
    "duration": 39,
    "start_time": "2024-08-27T02:58:56.006Z"
   },
   {
    "duration": 12,
    "start_time": "2024-08-27T02:58:56.053Z"
   },
   {
    "duration": 5,
    "start_time": "2024-08-27T02:58:56.066Z"
   },
   {
    "duration": 6,
    "start_time": "2024-08-27T02:58:56.073Z"
   },
   {
    "duration": 13,
    "start_time": "2024-08-27T02:58:56.084Z"
   },
   {
    "duration": 6,
    "start_time": "2024-08-27T02:58:56.099Z"
   },
   {
    "duration": 46,
    "start_time": "2024-08-27T02:58:56.107Z"
   },
   {
    "duration": 13,
    "start_time": "2024-08-27T02:58:56.155Z"
   },
   {
    "duration": 6,
    "start_time": "2024-08-27T02:58:56.170Z"
   },
   {
    "duration": 8,
    "start_time": "2024-08-27T02:58:56.178Z"
   },
   {
    "duration": 9,
    "start_time": "2024-08-27T02:58:56.187Z"
   },
   {
    "duration": 53,
    "start_time": "2024-08-27T02:58:56.197Z"
   },
   {
    "duration": 20,
    "start_time": "2024-08-27T02:58:56.252Z"
   },
   {
    "duration": 23,
    "start_time": "2024-08-27T02:58:56.275Z"
   },
   {
    "duration": 16,
    "start_time": "2024-08-27T02:58:56.299Z"
   },
   {
    "duration": 29,
    "start_time": "2024-08-27T02:58:56.317Z"
   },
   {
    "duration": 8,
    "start_time": "2024-08-27T02:58:56.348Z"
   },
   {
    "duration": 10,
    "start_time": "2024-08-27T02:58:56.357Z"
   },
   {
    "duration": 2,
    "start_time": "2024-08-27T02:58:56.368Z"
   },
   {
    "duration": 3,
    "start_time": "2024-08-27T02:58:56.372Z"
   },
   {
    "duration": 3,
    "start_time": "2024-08-27T02:58:56.376Z"
   },
   {
    "duration": 3,
    "start_time": "2024-08-27T02:58:56.381Z"
   },
   {
    "duration": 3,
    "start_time": "2024-08-27T02:58:56.385Z"
   },
   {
    "duration": 3,
    "start_time": "2024-08-27T02:58:56.390Z"
   },
   {
    "duration": 35,
    "start_time": "2024-08-27T02:58:56.394Z"
   },
   {
    "duration": 3,
    "start_time": "2024-08-27T02:58:56.430Z"
   },
   {
    "duration": 7,
    "start_time": "2024-08-27T02:58:56.434Z"
   },
   {
    "duration": 7,
    "start_time": "2024-08-27T02:58:56.442Z"
   },
   {
    "duration": 2,
    "start_time": "2024-08-27T02:58:56.451Z"
   },
   {
    "duration": 966,
    "start_time": "2024-08-27T02:59:04.703Z"
   },
   {
    "duration": 847,
    "start_time": "2024-08-27T02:59:22.786Z"
   },
   {
    "duration": 170,
    "start_time": "2024-08-27T02:59:23.634Z"
   },
   {
    "duration": 9,
    "start_time": "2024-08-27T02:59:23.806Z"
   },
   {
    "duration": 25,
    "start_time": "2024-08-27T02:59:23.817Z"
   },
   {
    "duration": 14,
    "start_time": "2024-08-27T02:59:23.843Z"
   },
   {
    "duration": 9,
    "start_time": "2024-08-27T02:59:23.858Z"
   },
   {
    "duration": 8,
    "start_time": "2024-08-27T02:59:23.868Z"
   },
   {
    "duration": 8,
    "start_time": "2024-08-27T02:59:23.878Z"
   },
   {
    "duration": 8,
    "start_time": "2024-08-27T02:59:23.888Z"
   },
   {
    "duration": 42,
    "start_time": "2024-08-27T02:59:23.899Z"
   },
   {
    "duration": 13,
    "start_time": "2024-08-27T02:59:23.942Z"
   },
   {
    "duration": 13,
    "start_time": "2024-08-27T02:59:23.959Z"
   },
   {
    "duration": 20,
    "start_time": "2024-08-27T02:59:23.975Z"
   },
   {
    "duration": 6,
    "start_time": "2024-08-27T02:59:23.997Z"
   },
   {
    "duration": 24,
    "start_time": "2024-08-27T02:59:24.004Z"
   },
   {
    "duration": 13,
    "start_time": "2024-08-27T02:59:24.029Z"
   },
   {
    "duration": 5,
    "start_time": "2024-08-27T02:59:24.043Z"
   },
   {
    "duration": 7,
    "start_time": "2024-08-27T02:59:24.050Z"
   },
   {
    "duration": 8,
    "start_time": "2024-08-27T02:59:24.059Z"
   },
   {
    "duration": 8,
    "start_time": "2024-08-27T02:59:24.068Z"
   },
   {
    "duration": 70,
    "start_time": "2024-08-27T02:59:24.077Z"
   },
   {
    "duration": 14,
    "start_time": "2024-08-27T02:59:24.157Z"
   },
   {
    "duration": 8,
    "start_time": "2024-08-27T02:59:24.173Z"
   },
   {
    "duration": 9,
    "start_time": "2024-08-27T02:59:24.183Z"
   },
   {
    "duration": 9,
    "start_time": "2024-08-27T02:59:24.194Z"
   },
   {
    "duration": 5,
    "start_time": "2024-08-27T02:59:24.205Z"
   },
   {
    "duration": 18,
    "start_time": "2024-08-27T02:59:24.211Z"
   },
   {
    "duration": 16,
    "start_time": "2024-08-27T02:59:24.248Z"
   },
   {
    "duration": 7,
    "start_time": "2024-08-27T02:59:24.266Z"
   },
   {
    "duration": 13,
    "start_time": "2024-08-27T02:59:24.274Z"
   },
   {
    "duration": 11,
    "start_time": "2024-08-27T02:59:24.289Z"
   },
   {
    "duration": 6,
    "start_time": "2024-08-27T02:59:24.302Z"
   },
   {
    "duration": 38,
    "start_time": "2024-08-27T02:59:24.309Z"
   },
   {
    "duration": 8,
    "start_time": "2024-08-27T02:59:24.349Z"
   },
   {
    "duration": 25,
    "start_time": "2024-08-27T02:59:24.359Z"
   },
   {
    "duration": 19,
    "start_time": "2024-08-27T02:59:24.385Z"
   },
   {
    "duration": 43,
    "start_time": "2024-08-27T02:59:24.406Z"
   },
   {
    "duration": 17,
    "start_time": "2024-08-27T02:59:24.451Z"
   },
   {
    "duration": 8,
    "start_time": "2024-08-27T02:59:24.470Z"
   },
   {
    "duration": 12,
    "start_time": "2024-08-27T02:59:24.480Z"
   },
   {
    "duration": 6,
    "start_time": "2024-08-27T02:59:24.494Z"
   },
   {
    "duration": 2,
    "start_time": "2024-08-27T02:59:24.502Z"
   },
   {
    "duration": 2,
    "start_time": "2024-08-27T02:59:24.506Z"
   },
   {
    "duration": 2,
    "start_time": "2024-08-27T02:59:24.510Z"
   },
   {
    "duration": 3,
    "start_time": "2024-08-27T02:59:24.522Z"
   },
   {
    "duration": 2,
    "start_time": "2024-08-27T02:59:24.527Z"
   },
   {
    "duration": 3,
    "start_time": "2024-08-27T02:59:24.531Z"
   },
   {
    "duration": 3,
    "start_time": "2024-08-27T02:59:24.536Z"
   },
   {
    "duration": 9,
    "start_time": "2024-08-27T02:59:24.540Z"
   },
   {
    "duration": 3,
    "start_time": "2024-08-27T02:59:24.550Z"
   },
   {
    "duration": 2,
    "start_time": "2024-08-27T02:59:24.555Z"
   },
   {
    "duration": 3,
    "start_time": "2024-08-27T02:59:24.559Z"
   },
   {
    "duration": 4,
    "start_time": "2024-08-27T03:00:02.765Z"
   },
   {
    "duration": 9,
    "start_time": "2024-08-27T03:00:10.655Z"
   },
   {
    "duration": 15,
    "start_time": "2024-08-27T03:52:03.348Z"
   },
   {
    "duration": 22,
    "start_time": "2024-08-27T03:52:20.377Z"
   },
   {
    "duration": 39,
    "start_time": "2024-08-27T03:52:27.410Z"
   },
   {
    "duration": 237,
    "start_time": "2024-08-27T04:02:49.100Z"
   },
   {
    "duration": 15,
    "start_time": "2024-08-27T04:06:05.295Z"
   },
   {
    "duration": 60,
    "start_time": "2024-08-27T04:06:10.634Z"
   },
   {
    "duration": 31,
    "start_time": "2024-08-27T04:06:16.469Z"
   },
   {
    "duration": 9,
    "start_time": "2024-08-27T04:07:22.546Z"
   },
   {
    "duration": 31,
    "start_time": "2024-08-27T04:11:33.350Z"
   },
   {
    "duration": 15,
    "start_time": "2024-08-27T04:11:39.764Z"
   },
   {
    "duration": 2,
    "start_time": "2024-08-27T04:18:59.266Z"
   },
   {
    "duration": 6,
    "start_time": "2024-08-27T04:22:59.374Z"
   },
   {
    "duration": 41,
    "start_time": "2024-08-27T04:23:13.909Z"
   },
   {
    "duration": 23,
    "start_time": "2024-08-27T04:23:20.230Z"
   },
   {
    "duration": 13,
    "start_time": "2024-08-27T04:25:00.174Z"
   },
   {
    "duration": 30,
    "start_time": "2024-08-27T04:25:22.211Z"
   },
   {
    "duration": 31,
    "start_time": "2024-08-27T04:25:31.354Z"
   },
   {
    "duration": 26,
    "start_time": "2024-08-27T04:25:34.354Z"
   },
   {
    "duration": 34,
    "start_time": "2024-08-27T04:25:41.719Z"
   },
   {
    "duration": 903,
    "start_time": "2024-08-27T04:25:51.188Z"
   },
   {
    "duration": 203,
    "start_time": "2024-08-27T04:25:52.093Z"
   },
   {
    "duration": 9,
    "start_time": "2024-08-27T04:25:52.298Z"
   },
   {
    "duration": 10,
    "start_time": "2024-08-27T04:25:52.309Z"
   },
   {
    "duration": 22,
    "start_time": "2024-08-27T04:25:52.320Z"
   },
   {
    "duration": 9,
    "start_time": "2024-08-27T04:25:52.345Z"
   },
   {
    "duration": 8,
    "start_time": "2024-08-27T04:25:52.356Z"
   },
   {
    "duration": 15,
    "start_time": "2024-08-27T04:25:52.365Z"
   },
   {
    "duration": 9,
    "start_time": "2024-08-27T04:25:52.387Z"
   },
   {
    "duration": 4,
    "start_time": "2024-08-27T04:25:52.399Z"
   },
   {
    "duration": 9,
    "start_time": "2024-08-27T04:25:52.405Z"
   },
   {
    "duration": 22,
    "start_time": "2024-08-27T04:25:52.415Z"
   },
   {
    "duration": 34,
    "start_time": "2024-08-27T04:25:52.438Z"
   },
   {
    "duration": 9,
    "start_time": "2024-08-27T04:25:52.477Z"
   },
   {
    "duration": 20,
    "start_time": "2024-08-27T04:25:52.487Z"
   },
   {
    "duration": 11,
    "start_time": "2024-08-27T04:25:52.509Z"
   },
   {
    "duration": 18,
    "start_time": "2024-08-27T04:25:52.531Z"
   },
   {
    "duration": 18,
    "start_time": "2024-08-27T04:25:52.551Z"
   },
   {
    "duration": 11,
    "start_time": "2024-08-27T04:25:52.570Z"
   },
   {
    "duration": 8,
    "start_time": "2024-08-27T04:25:52.583Z"
   },
   {
    "duration": 27,
    "start_time": "2024-08-27T04:25:52.593Z"
   },
   {
    "duration": 27,
    "start_time": "2024-08-27T04:25:52.622Z"
   },
   {
    "duration": 12,
    "start_time": "2024-08-27T04:25:52.650Z"
   },
   {
    "duration": 18,
    "start_time": "2024-08-27T04:25:52.664Z"
   },
   {
    "duration": 9,
    "start_time": "2024-08-27T04:25:52.684Z"
   },
   {
    "duration": 5,
    "start_time": "2024-08-27T04:25:52.695Z"
   },
   {
    "duration": 6,
    "start_time": "2024-08-27T04:25:52.701Z"
   },
   {
    "duration": 20,
    "start_time": "2024-08-27T04:25:52.713Z"
   },
   {
    "duration": 15,
    "start_time": "2024-08-27T04:25:52.734Z"
   },
   {
    "duration": 39,
    "start_time": "2024-08-27T04:25:52.750Z"
   },
   {
    "duration": 10,
    "start_time": "2024-08-27T04:25:52.791Z"
   },
   {
    "duration": 6,
    "start_time": "2024-08-27T04:25:52.803Z"
   },
   {
    "duration": 7,
    "start_time": "2024-08-27T04:25:52.810Z"
   },
   {
    "duration": 19,
    "start_time": "2024-08-27T04:25:52.820Z"
   },
   {
    "duration": 48,
    "start_time": "2024-08-27T04:25:52.840Z"
   },
   {
    "duration": 19,
    "start_time": "2024-08-27T04:25:52.891Z"
   },
   {
    "duration": 51,
    "start_time": "2024-08-27T04:25:52.911Z"
   },
   {
    "duration": 18,
    "start_time": "2024-08-27T04:25:52.974Z"
   },
   {
    "duration": 9,
    "start_time": "2024-08-27T04:25:52.993Z"
   },
   {
    "duration": 8,
    "start_time": "2024-08-27T04:25:53.003Z"
   },
   {
    "duration": 6,
    "start_time": "2024-08-27T04:25:53.013Z"
   },
   {
    "duration": 41,
    "start_time": "2024-08-27T04:25:53.020Z"
   },
   {
    "duration": 20,
    "start_time": "2024-08-27T04:25:53.077Z"
   },
   {
    "duration": 4,
    "start_time": "2024-08-27T04:25:53.098Z"
   },
   {
    "duration": 0,
    "start_time": "2024-08-27T04:25:53.103Z"
   },
   {
    "duration": 0,
    "start_time": "2024-08-27T04:25:53.104Z"
   },
   {
    "duration": 0,
    "start_time": "2024-08-27T04:25:53.105Z"
   },
   {
    "duration": 0,
    "start_time": "2024-08-27T04:25:53.106Z"
   },
   {
    "duration": 0,
    "start_time": "2024-08-27T04:25:53.107Z"
   },
   {
    "duration": 0,
    "start_time": "2024-08-27T04:25:53.108Z"
   },
   {
    "duration": 0,
    "start_time": "2024-08-27T04:25:53.109Z"
   },
   {
    "duration": 0,
    "start_time": "2024-08-27T04:25:53.110Z"
   },
   {
    "duration": 0,
    "start_time": "2024-08-27T04:25:53.112Z"
   },
   {
    "duration": 0,
    "start_time": "2024-08-27T04:25:53.113Z"
   },
   {
    "duration": 0,
    "start_time": "2024-08-27T04:25:53.115Z"
   },
   {
    "duration": 0,
    "start_time": "2024-08-27T04:25:53.116Z"
   },
   {
    "duration": 0,
    "start_time": "2024-08-27T04:25:53.118Z"
   },
   {
    "duration": 40,
    "start_time": "2024-08-27T04:26:07.017Z"
   },
   {
    "duration": 861,
    "start_time": "2024-08-27T04:26:15.777Z"
   },
   {
    "duration": 242,
    "start_time": "2024-08-27T04:26:16.640Z"
   },
   {
    "duration": 10,
    "start_time": "2024-08-27T04:26:16.883Z"
   },
   {
    "duration": 9,
    "start_time": "2024-08-27T04:26:16.895Z"
   },
   {
    "duration": 8,
    "start_time": "2024-08-27T04:26:16.906Z"
   },
   {
    "duration": 31,
    "start_time": "2024-08-27T04:26:16.916Z"
   },
   {
    "duration": 15,
    "start_time": "2024-08-27T04:26:16.949Z"
   },
   {
    "duration": 10,
    "start_time": "2024-08-27T04:26:16.973Z"
   },
   {
    "duration": 7,
    "start_time": "2024-08-27T04:26:16.986Z"
   },
   {
    "duration": 6,
    "start_time": "2024-08-27T04:26:16.998Z"
   },
   {
    "duration": 8,
    "start_time": "2024-08-27T04:26:17.007Z"
   },
   {
    "duration": 28,
    "start_time": "2024-08-27T04:26:17.017Z"
   },
   {
    "duration": 34,
    "start_time": "2024-08-27T04:26:17.047Z"
   },
   {
    "duration": 8,
    "start_time": "2024-08-27T04:26:17.083Z"
   },
   {
    "duration": 16,
    "start_time": "2024-08-27T04:26:17.093Z"
   },
   {
    "duration": 28,
    "start_time": "2024-08-27T04:26:17.111Z"
   },
   {
    "duration": 16,
    "start_time": "2024-08-27T04:26:17.141Z"
   },
   {
    "duration": 8,
    "start_time": "2024-08-27T04:26:17.159Z"
   },
   {
    "duration": 9,
    "start_time": "2024-08-27T04:26:17.169Z"
   },
   {
    "duration": 8,
    "start_time": "2024-08-27T04:26:17.180Z"
   },
   {
    "duration": 28,
    "start_time": "2024-08-27T04:26:17.190Z"
   },
   {
    "duration": 53,
    "start_time": "2024-08-27T04:26:17.220Z"
   },
   {
    "duration": 7,
    "start_time": "2024-08-27T04:26:17.277Z"
   },
   {
    "duration": 10,
    "start_time": "2024-08-27T04:26:17.285Z"
   },
   {
    "duration": 10,
    "start_time": "2024-08-27T04:26:17.297Z"
   },
   {
    "duration": 5,
    "start_time": "2024-08-27T04:26:17.308Z"
   },
   {
    "duration": 10,
    "start_time": "2024-08-27T04:26:17.315Z"
   },
   {
    "duration": 29,
    "start_time": "2024-08-27T04:26:17.333Z"
   },
   {
    "duration": 14,
    "start_time": "2024-08-27T04:26:17.364Z"
   },
   {
    "duration": 17,
    "start_time": "2024-08-27T04:26:17.380Z"
   },
   {
    "duration": 11,
    "start_time": "2024-08-27T04:26:17.399Z"
   },
   {
    "duration": 8,
    "start_time": "2024-08-27T04:26:17.412Z"
   },
   {
    "duration": 28,
    "start_time": "2024-08-27T04:26:17.425Z"
   },
   {
    "duration": 17,
    "start_time": "2024-08-27T04:26:17.454Z"
   },
   {
    "duration": 30,
    "start_time": "2024-08-27T04:26:17.472Z"
   },
   {
    "duration": 33,
    "start_time": "2024-08-27T04:26:17.504Z"
   },
   {
    "duration": 35,
    "start_time": "2024-08-27T04:26:17.538Z"
   },
   {
    "duration": 19,
    "start_time": "2024-08-27T04:26:17.575Z"
   },
   {
    "duration": 8,
    "start_time": "2024-08-27T04:26:17.595Z"
   },
   {
    "duration": 8,
    "start_time": "2024-08-27T04:26:17.604Z"
   },
   {
    "duration": 39,
    "start_time": "2024-08-27T04:26:17.614Z"
   },
   {
    "duration": 11,
    "start_time": "2024-08-27T04:26:17.666Z"
   },
   {
    "duration": 19,
    "start_time": "2024-08-27T04:26:17.678Z"
   },
   {
    "duration": 18,
    "start_time": "2024-08-27T04:26:17.698Z"
   },
   {
    "duration": 43,
    "start_time": "2024-08-27T04:26:17.718Z"
   },
   {
    "duration": 13,
    "start_time": "2024-08-27T04:26:17.774Z"
   },
   {
    "duration": 3,
    "start_time": "2024-08-27T04:26:17.788Z"
   },
   {
    "duration": 13,
    "start_time": "2024-08-27T04:26:17.793Z"
   },
   {
    "duration": 28,
    "start_time": "2024-08-27T04:26:17.809Z"
   },
   {
    "duration": 2,
    "start_time": "2024-08-27T04:26:17.846Z"
   },
   {
    "duration": 2,
    "start_time": "2024-08-27T04:26:17.850Z"
   },
   {
    "duration": 3,
    "start_time": "2024-08-27T04:26:17.854Z"
   },
   {
    "duration": 6,
    "start_time": "2024-08-27T04:26:17.859Z"
   },
   {
    "duration": 4,
    "start_time": "2024-08-27T04:26:17.867Z"
   },
   {
    "duration": 7,
    "start_time": "2024-08-27T04:26:17.872Z"
   },
   {
    "duration": 2,
    "start_time": "2024-08-27T04:26:17.881Z"
   },
   {
    "duration": 2,
    "start_time": "2024-08-27T04:26:17.885Z"
   },
   {
    "duration": 20,
    "start_time": "2024-08-27T04:27:21.537Z"
   },
   {
    "duration": 36,
    "start_time": "2024-08-27T04:30:17.613Z"
   },
   {
    "duration": 14,
    "start_time": "2024-08-27T04:40:21.564Z"
   },
   {
    "duration": 4,
    "start_time": "2024-08-27T04:42:56.674Z"
   },
   {
    "duration": 885,
    "start_time": "2024-08-27T04:43:06.453Z"
   },
   {
    "duration": 36,
    "start_time": "2024-08-27T04:43:34.572Z"
   },
   {
    "duration": 37,
    "start_time": "2024-08-27T04:43:40.526Z"
   },
   {
    "duration": 35,
    "start_time": "2024-08-27T04:44:38.969Z"
   },
   {
    "duration": 2,
    "start_time": "2024-08-27T04:45:07.621Z"
   },
   {
    "duration": 33,
    "start_time": "2024-08-27T04:45:48.649Z"
   },
   {
    "duration": 4,
    "start_time": "2024-08-27T04:46:47.996Z"
   },
   {
    "duration": 87,
    "start_time": "2024-08-27T04:46:59.774Z"
   },
   {
    "duration": 824,
    "start_time": "2024-08-27T04:47:18.155Z"
   },
   {
    "duration": 158,
    "start_time": "2024-08-27T04:47:18.981Z"
   },
   {
    "duration": 9,
    "start_time": "2024-08-27T04:47:19.141Z"
   },
   {
    "duration": 10,
    "start_time": "2024-08-27T04:47:19.153Z"
   },
   {
    "duration": 8,
    "start_time": "2024-08-27T04:47:19.165Z"
   },
   {
    "duration": 8,
    "start_time": "2024-08-27T04:47:19.175Z"
   },
   {
    "duration": 8,
    "start_time": "2024-08-27T04:47:19.184Z"
   },
   {
    "duration": 35,
    "start_time": "2024-08-27T04:47:19.193Z"
   },
   {
    "duration": 8,
    "start_time": "2024-08-27T04:47:19.229Z"
   },
   {
    "duration": 4,
    "start_time": "2024-08-27T04:47:19.240Z"
   },
   {
    "duration": 8,
    "start_time": "2024-08-27T04:47:19.246Z"
   },
   {
    "duration": 10,
    "start_time": "2024-08-27T04:47:19.256Z"
   },
   {
    "duration": 14,
    "start_time": "2024-08-27T04:47:19.267Z"
   },
   {
    "duration": 39,
    "start_time": "2024-08-27T04:47:19.283Z"
   },
   {
    "duration": 16,
    "start_time": "2024-08-27T04:47:19.324Z"
   },
   {
    "duration": 13,
    "start_time": "2024-08-27T04:47:19.341Z"
   },
   {
    "duration": 4,
    "start_time": "2024-08-27T04:47:19.356Z"
   },
   {
    "duration": 7,
    "start_time": "2024-08-27T04:47:19.362Z"
   },
   {
    "duration": 8,
    "start_time": "2024-08-27T04:47:19.371Z"
   },
   {
    "duration": 7,
    "start_time": "2024-08-27T04:47:19.380Z"
   },
   {
    "duration": 28,
    "start_time": "2024-08-27T04:47:19.421Z"
   },
   {
    "duration": 13,
    "start_time": "2024-08-27T04:47:19.451Z"
   },
   {
    "duration": 6,
    "start_time": "2024-08-27T04:47:19.465Z"
   },
   {
    "duration": 10,
    "start_time": "2024-08-27T04:47:19.473Z"
   },
   {
    "duration": 40,
    "start_time": "2024-08-27T04:47:19.484Z"
   },
   {
    "duration": 5,
    "start_time": "2024-08-27T04:47:19.527Z"
   },
   {
    "duration": 8,
    "start_time": "2024-08-27T04:47:19.533Z"
   },
   {
    "duration": 14,
    "start_time": "2024-08-27T04:47:19.545Z"
   },
   {
    "duration": 6,
    "start_time": "2024-08-27T04:47:19.561Z"
   },
   {
    "duration": 12,
    "start_time": "2024-08-27T04:47:19.568Z"
   },
   {
    "duration": 40,
    "start_time": "2024-08-27T04:47:19.582Z"
   },
   {
    "duration": 6,
    "start_time": "2024-08-27T04:47:19.624Z"
   },
   {
    "duration": 7,
    "start_time": "2024-08-27T04:47:19.631Z"
   },
   {
    "duration": 7,
    "start_time": "2024-08-27T04:47:19.640Z"
   },
   {
    "duration": 24,
    "start_time": "2024-08-27T04:47:19.648Z"
   },
   {
    "duration": 51,
    "start_time": "2024-08-27T04:47:19.674Z"
   },
   {
    "duration": 17,
    "start_time": "2024-08-27T04:47:19.727Z"
   },
   {
    "duration": 15,
    "start_time": "2024-08-27T04:47:19.746Z"
   },
   {
    "duration": 8,
    "start_time": "2024-08-27T04:47:19.763Z"
   },
   {
    "duration": 8,
    "start_time": "2024-08-27T04:47:19.773Z"
   },
   {
    "duration": 7,
    "start_time": "2024-08-27T04:47:19.782Z"
   },
   {
    "duration": 7,
    "start_time": "2024-08-27T04:47:19.821Z"
   },
   {
    "duration": 19,
    "start_time": "2024-08-27T04:47:19.829Z"
   },
   {
    "duration": 23,
    "start_time": "2024-08-27T04:47:19.850Z"
   },
   {
    "duration": 10,
    "start_time": "2024-08-27T04:47:19.876Z"
   },
   {
    "duration": 36,
    "start_time": "2024-08-27T04:47:19.888Z"
   },
   {
    "duration": 4,
    "start_time": "2024-08-27T04:47:19.926Z"
   },
   {
    "duration": 13,
    "start_time": "2024-08-27T04:47:19.931Z"
   },
   {
    "duration": 14,
    "start_time": "2024-08-27T04:47:19.947Z"
   },
   {
    "duration": 14,
    "start_time": "2024-08-27T04:47:19.963Z"
   },
   {
    "duration": 43,
    "start_time": "2024-08-27T04:47:19.978Z"
   },
   {
    "duration": 15,
    "start_time": "2024-08-27T04:47:20.023Z"
   },
   {
    "duration": 4,
    "start_time": "2024-08-27T04:47:20.039Z"
   },
   {
    "duration": 2,
    "start_time": "2024-08-27T04:47:20.045Z"
   },
   {
    "duration": 2,
    "start_time": "2024-08-27T04:47:20.049Z"
   },
   {
    "duration": 3,
    "start_time": "2024-08-27T04:47:20.053Z"
   },
   {
    "duration": 3,
    "start_time": "2024-08-27T04:47:20.057Z"
   },
   {
    "duration": 3,
    "start_time": "2024-08-27T04:47:20.061Z"
   },
   {
    "duration": 3,
    "start_time": "2024-08-27T04:47:20.065Z"
   },
   {
    "duration": 3,
    "start_time": "2024-08-27T04:47:20.069Z"
   },
   {
    "duration": 3,
    "start_time": "2024-08-27T04:47:20.074Z"
   },
   {
    "duration": 12,
    "start_time": "2024-08-27T04:48:21.700Z"
   },
   {
    "duration": 867,
    "start_time": "2024-08-27T04:48:36.208Z"
   },
   {
    "duration": 803,
    "start_time": "2024-08-27T04:48:48.089Z"
   },
   {
    "duration": 159,
    "start_time": "2024-08-27T04:48:48.895Z"
   },
   {
    "duration": 9,
    "start_time": "2024-08-27T04:48:49.056Z"
   },
   {
    "duration": 9,
    "start_time": "2024-08-27T04:48:49.068Z"
   },
   {
    "duration": 8,
    "start_time": "2024-08-27T04:48:49.079Z"
   },
   {
    "duration": 32,
    "start_time": "2024-08-27T04:48:49.089Z"
   },
   {
    "duration": 8,
    "start_time": "2024-08-27T04:48:49.123Z"
   },
   {
    "duration": 8,
    "start_time": "2024-08-27T04:48:49.133Z"
   },
   {
    "duration": 8,
    "start_time": "2024-08-27T04:48:49.142Z"
   },
   {
    "duration": 6,
    "start_time": "2024-08-27T04:48:49.153Z"
   },
   {
    "duration": 9,
    "start_time": "2024-08-27T04:48:49.161Z"
   },
   {
    "duration": 11,
    "start_time": "2024-08-27T04:48:49.171Z"
   },
   {
    "duration": 51,
    "start_time": "2024-08-27T04:48:49.183Z"
   },
   {
    "duration": 6,
    "start_time": "2024-08-27T04:48:49.236Z"
   },
   {
    "duration": 16,
    "start_time": "2024-08-27T04:48:49.244Z"
   },
   {
    "duration": 12,
    "start_time": "2024-08-27T04:48:49.261Z"
   },
   {
    "duration": 4,
    "start_time": "2024-08-27T04:48:49.275Z"
   },
   {
    "duration": 7,
    "start_time": "2024-08-27T04:48:49.281Z"
   },
   {
    "duration": 7,
    "start_time": "2024-08-27T04:48:49.322Z"
   },
   {
    "duration": 7,
    "start_time": "2024-08-27T04:48:49.331Z"
   },
   {
    "duration": 28,
    "start_time": "2024-08-27T04:48:49.340Z"
   },
   {
    "duration": 12,
    "start_time": "2024-08-27T04:48:49.369Z"
   },
   {
    "duration": 5,
    "start_time": "2024-08-27T04:48:49.383Z"
   },
   {
    "duration": 10,
    "start_time": "2024-08-27T04:48:49.421Z"
   },
   {
    "duration": 9,
    "start_time": "2024-08-27T04:48:49.432Z"
   },
   {
    "duration": 6,
    "start_time": "2024-08-27T04:48:49.443Z"
   },
   {
    "duration": 7,
    "start_time": "2024-08-27T04:48:49.450Z"
   },
   {
    "duration": 14,
    "start_time": "2024-08-27T04:48:49.462Z"
   },
   {
    "duration": 7,
    "start_time": "2024-08-27T04:48:49.477Z"
   },
   {
    "duration": 44,
    "start_time": "2024-08-27T04:48:49.486Z"
   },
   {
    "duration": 11,
    "start_time": "2024-08-27T04:48:49.532Z"
   },
   {
    "duration": 7,
    "start_time": "2024-08-27T04:48:49.544Z"
   },
   {
    "duration": 8,
    "start_time": "2024-08-27T04:48:49.552Z"
   },
   {
    "duration": 6,
    "start_time": "2024-08-27T04:48:49.563Z"
   },
   {
    "duration": 52,
    "start_time": "2024-08-27T04:48:49.571Z"
   },
   {
    "duration": 18,
    "start_time": "2024-08-27T04:48:49.625Z"
   },
   {
    "duration": 17,
    "start_time": "2024-08-27T04:48:49.645Z"
   },
   {
    "duration": 15,
    "start_time": "2024-08-27T04:48:49.664Z"
   },
   {
    "duration": 7,
    "start_time": "2024-08-27T04:48:49.681Z"
   },
   {
    "duration": 8,
    "start_time": "2024-08-27T04:48:49.722Z"
   },
   {
    "duration": 6,
    "start_time": "2024-08-27T04:48:49.732Z"
   },
   {
    "duration": 6,
    "start_time": "2024-08-27T04:48:49.739Z"
   },
   {
    "duration": 19,
    "start_time": "2024-08-27T04:48:49.746Z"
   },
   {
    "duration": 17,
    "start_time": "2024-08-27T04:48:49.767Z"
   },
   {
    "duration": 42,
    "start_time": "2024-08-27T04:48:49.785Z"
   },
   {
    "duration": 11,
    "start_time": "2024-08-27T04:48:49.830Z"
   },
   {
    "duration": 2,
    "start_time": "2024-08-27T04:48:49.843Z"
   },
   {
    "duration": 14,
    "start_time": "2024-08-27T04:48:49.847Z"
   },
   {
    "duration": 14,
    "start_time": "2024-08-27T04:48:49.863Z"
   },
   {
    "duration": 44,
    "start_time": "2024-08-27T04:48:49.879Z"
   },
   {
    "duration": 13,
    "start_time": "2024-08-27T04:48:49.925Z"
   },
   {
    "duration": 19,
    "start_time": "2024-08-27T04:48:49.940Z"
   },
   {
    "duration": 16,
    "start_time": "2024-08-27T04:48:49.962Z"
   },
   {
    "duration": 2,
    "start_time": "2024-08-27T04:48:49.980Z"
   },
   {
    "duration": 3,
    "start_time": "2024-08-27T04:48:49.984Z"
   },
   {
    "duration": 34,
    "start_time": "2024-08-27T04:48:49.988Z"
   },
   {
    "duration": 3,
    "start_time": "2024-08-27T04:48:50.023Z"
   },
   {
    "duration": 3,
    "start_time": "2024-08-27T04:48:50.028Z"
   },
   {
    "duration": 2,
    "start_time": "2024-08-27T04:48:50.033Z"
   },
   {
    "duration": 2,
    "start_time": "2024-08-27T04:48:50.037Z"
   },
   {
    "duration": 2,
    "start_time": "2024-08-27T04:48:50.041Z"
   },
   {
    "duration": 24,
    "start_time": "2024-08-27T05:08:58.970Z"
   },
   {
    "duration": 2692,
    "start_time": "2024-08-27T14:12:55.563Z"
   },
   {
    "duration": 246,
    "start_time": "2024-08-27T14:12:58.257Z"
   },
   {
    "duration": 10,
    "start_time": "2024-08-27T14:12:58.504Z"
   },
   {
    "duration": 10,
    "start_time": "2024-08-27T14:12:58.516Z"
   },
   {
    "duration": 17,
    "start_time": "2024-08-27T14:12:58.527Z"
   },
   {
    "duration": 8,
    "start_time": "2024-08-27T14:12:58.546Z"
   },
   {
    "duration": 8,
    "start_time": "2024-08-27T14:12:58.556Z"
   },
   {
    "duration": 10,
    "start_time": "2024-08-27T14:12:58.566Z"
   },
   {
    "duration": 8,
    "start_time": "2024-08-27T14:12:58.578Z"
   },
   {
    "duration": 5,
    "start_time": "2024-08-27T14:12:58.589Z"
   },
   {
    "duration": 8,
    "start_time": "2024-08-27T14:12:58.596Z"
   },
   {
    "duration": 12,
    "start_time": "2024-08-27T14:12:58.642Z"
   },
   {
    "duration": 16,
    "start_time": "2024-08-27T14:12:58.657Z"
   },
   {
    "duration": 7,
    "start_time": "2024-08-27T14:12:58.675Z"
   },
   {
    "duration": 17,
    "start_time": "2024-08-27T14:12:58.684Z"
   },
   {
    "duration": 45,
    "start_time": "2024-08-27T14:12:58.703Z"
   },
   {
    "duration": 4,
    "start_time": "2024-08-27T14:12:58.750Z"
   },
   {
    "duration": 8,
    "start_time": "2024-08-27T14:12:58.756Z"
   },
   {
    "duration": 8,
    "start_time": "2024-08-27T14:12:58.766Z"
   },
   {
    "duration": 7,
    "start_time": "2024-08-27T14:12:58.776Z"
   },
   {
    "duration": 61,
    "start_time": "2024-08-27T14:12:58.786Z"
   },
   {
    "duration": 15,
    "start_time": "2024-08-27T14:12:58.848Z"
   },
   {
    "duration": 9,
    "start_time": "2024-08-27T14:12:58.867Z"
   },
   {
    "duration": 11,
    "start_time": "2024-08-27T14:12:58.878Z"
   },
   {
    "duration": 12,
    "start_time": "2024-08-27T14:12:58.891Z"
   },
   {
    "duration": 7,
    "start_time": "2024-08-27T14:12:58.905Z"
   },
   {
    "duration": 34,
    "start_time": "2024-08-27T14:12:58.914Z"
   },
   {
    "duration": 14,
    "start_time": "2024-08-27T14:12:58.954Z"
   },
   {
    "duration": 7,
    "start_time": "2024-08-27T14:12:58.969Z"
   },
   {
    "duration": 11,
    "start_time": "2024-08-27T14:12:58.978Z"
   },
   {
    "duration": 11,
    "start_time": "2024-08-27T14:12:58.991Z"
   },
   {
    "duration": 39,
    "start_time": "2024-08-27T14:12:59.004Z"
   },
   {
    "duration": 7,
    "start_time": "2024-08-27T14:12:59.045Z"
   },
   {
    "duration": 10,
    "start_time": "2024-08-27T14:12:59.054Z"
   },
   {
    "duration": 23,
    "start_time": "2024-08-27T14:12:59.066Z"
   },
   {
    "duration": 18,
    "start_time": "2024-08-27T14:12:59.090Z"
   },
   {
    "duration": 48,
    "start_time": "2024-08-27T14:12:59.110Z"
   },
   {
    "duration": 16,
    "start_time": "2024-08-27T14:12:59.160Z"
   },
   {
    "duration": 7,
    "start_time": "2024-08-27T14:12:59.178Z"
   },
   {
    "duration": 8,
    "start_time": "2024-08-27T14:12:59.186Z"
   },
   {
    "duration": 7,
    "start_time": "2024-08-27T14:12:59.195Z"
   },
   {
    "duration": 44,
    "start_time": "2024-08-27T14:12:59.204Z"
   },
   {
    "duration": 21,
    "start_time": "2024-08-27T14:12:59.250Z"
   },
   {
    "duration": 18,
    "start_time": "2024-08-27T14:12:59.273Z"
   },
   {
    "duration": 10,
    "start_time": "2024-08-27T14:12:59.292Z"
   },
   {
    "duration": 39,
    "start_time": "2024-08-27T14:12:59.304Z"
   },
   {
    "duration": 3,
    "start_time": "2024-08-27T14:12:59.346Z"
   },
   {
    "duration": 15,
    "start_time": "2024-08-27T14:12:59.350Z"
   },
   {
    "duration": 14,
    "start_time": "2024-08-27T14:12:59.367Z"
   },
   {
    "duration": 14,
    "start_time": "2024-08-27T14:12:59.383Z"
   },
   {
    "duration": 47,
    "start_time": "2024-08-27T14:12:59.399Z"
   },
   {
    "duration": 16,
    "start_time": "2024-08-27T14:12:59.448Z"
   },
   {
    "duration": 15,
    "start_time": "2024-08-27T14:12:59.466Z"
   },
   {
    "duration": 26,
    "start_time": "2024-08-27T14:12:59.482Z"
   },
   {
    "duration": 2,
    "start_time": "2024-08-27T14:12:59.510Z"
   },
   {
    "duration": 3,
    "start_time": "2024-08-27T14:12:59.543Z"
   },
   {
    "duration": 2,
    "start_time": "2024-08-27T14:12:59.548Z"
   },
   {
    "duration": 3,
    "start_time": "2024-08-27T14:12:59.551Z"
   },
   {
    "duration": 3,
    "start_time": "2024-08-27T14:12:59.555Z"
   },
   {
    "duration": 2,
    "start_time": "2024-08-27T14:12:59.560Z"
   },
   {
    "duration": 2,
    "start_time": "2024-08-27T14:12:59.565Z"
   },
   {
    "duration": 2,
    "start_time": "2024-08-27T14:12:59.569Z"
   },
   {
    "duration": 125,
    "start_time": "2024-08-27T14:27:48.011Z"
   },
   {
    "duration": 106,
    "start_time": "2024-08-27T14:27:59.977Z"
   },
   {
    "duration": 9,
    "start_time": "2024-08-27T14:28:08.061Z"
   },
   {
    "duration": 17,
    "start_time": "2024-08-27T14:33:48.608Z"
   },
   {
    "duration": 205,
    "start_time": "2024-08-27T14:33:53.207Z"
   },
   {
    "duration": 862,
    "start_time": "2024-08-27T14:34:50.574Z"
   },
   {
    "duration": 155,
    "start_time": "2024-08-27T14:34:51.439Z"
   },
   {
    "duration": 9,
    "start_time": "2024-08-27T14:34:51.596Z"
   },
   {
    "duration": 10,
    "start_time": "2024-08-27T14:34:51.608Z"
   },
   {
    "duration": 22,
    "start_time": "2024-08-27T14:34:51.620Z"
   },
   {
    "duration": 8,
    "start_time": "2024-08-27T14:34:51.644Z"
   },
   {
    "duration": 8,
    "start_time": "2024-08-27T14:34:51.654Z"
   },
   {
    "duration": 8,
    "start_time": "2024-08-27T14:34:51.663Z"
   },
   {
    "duration": 8,
    "start_time": "2024-08-27T14:34:51.673Z"
   },
   {
    "duration": 4,
    "start_time": "2024-08-27T14:34:51.684Z"
   },
   {
    "duration": 8,
    "start_time": "2024-08-27T14:34:51.690Z"
   },
   {
    "duration": 49,
    "start_time": "2024-08-27T14:34:51.700Z"
   },
   {
    "duration": 15,
    "start_time": "2024-08-27T14:34:51.752Z"
   },
   {
    "duration": 7,
    "start_time": "2024-08-27T14:34:51.769Z"
   },
   {
    "duration": 16,
    "start_time": "2024-08-27T14:34:51.778Z"
   },
   {
    "duration": 13,
    "start_time": "2024-08-27T14:34:51.795Z"
   },
   {
    "duration": 37,
    "start_time": "2024-08-27T14:34:51.809Z"
   },
   {
    "duration": 8,
    "start_time": "2024-08-27T14:34:51.847Z"
   },
   {
    "duration": 8,
    "start_time": "2024-08-27T14:34:51.857Z"
   },
   {
    "duration": 9,
    "start_time": "2024-08-27T14:34:51.866Z"
   },
   {
    "duration": 28,
    "start_time": "2024-08-27T14:34:51.876Z"
   },
   {
    "duration": 46,
    "start_time": "2024-08-27T14:34:51.905Z"
   },
   {
    "duration": 9,
    "start_time": "2024-08-27T14:34:51.952Z"
   },
   {
    "duration": 10,
    "start_time": "2024-08-27T14:34:51.963Z"
   },
   {
    "duration": 11,
    "start_time": "2024-08-27T14:34:51.975Z"
   },
   {
    "duration": 5,
    "start_time": "2024-08-27T14:34:51.988Z"
   },
   {
    "duration": 7,
    "start_time": "2024-08-27T14:34:51.994Z"
   },
   {
    "duration": 47,
    "start_time": "2024-08-27T14:34:52.007Z"
   },
   {
    "duration": 9,
    "start_time": "2024-08-27T14:34:52.056Z"
   },
   {
    "duration": 12,
    "start_time": "2024-08-27T14:34:52.066Z"
   },
   {
    "duration": 11,
    "start_time": "2024-08-27T14:34:52.080Z"
   },
   {
    "duration": 6,
    "start_time": "2024-08-27T14:34:52.093Z"
   },
   {
    "duration": 8,
    "start_time": "2024-08-27T14:34:52.101Z"
   },
   {
    "duration": 8,
    "start_time": "2024-08-27T14:34:52.142Z"
   },
   {
    "duration": 23,
    "start_time": "2024-08-27T14:34:52.152Z"
   },
   {
    "duration": 17,
    "start_time": "2024-08-27T14:34:52.177Z"
   },
   {
    "duration": 19,
    "start_time": "2024-08-27T14:34:52.196Z"
   },
   {
    "duration": 41,
    "start_time": "2024-08-27T14:34:52.216Z"
   },
   {
    "duration": 7,
    "start_time": "2024-08-27T14:34:52.260Z"
   },
   {
    "duration": 7,
    "start_time": "2024-08-27T14:34:52.269Z"
   },
   {
    "duration": 7,
    "start_time": "2024-08-27T14:34:52.278Z"
   },
   {
    "duration": 7,
    "start_time": "2024-08-27T14:34:52.286Z"
   },
   {
    "duration": 54,
    "start_time": "2024-08-27T14:34:52.294Z"
   },
   {
    "duration": 18,
    "start_time": "2024-08-27T14:34:52.350Z"
   },
   {
    "duration": 10,
    "start_time": "2024-08-27T14:34:52.370Z"
   },
   {
    "duration": 13,
    "start_time": "2024-08-27T14:34:52.381Z"
   },
   {
    "duration": 2,
    "start_time": "2024-08-27T14:34:52.396Z"
   },
   {
    "duration": 49,
    "start_time": "2024-08-27T14:34:52.400Z"
   },
   {
    "duration": 17,
    "start_time": "2024-08-27T14:34:52.451Z"
   },
   {
    "duration": 15,
    "start_time": "2024-08-27T14:34:52.470Z"
   },
   {
    "duration": 13,
    "start_time": "2024-08-27T14:34:52.487Z"
   },
   {
    "duration": 45,
    "start_time": "2024-08-27T14:34:52.502Z"
   },
   {
    "duration": 15,
    "start_time": "2024-08-27T14:34:52.549Z"
   },
   {
    "duration": 30,
    "start_time": "2024-08-27T14:34:52.565Z"
   },
   {
    "duration": 498,
    "start_time": "2024-08-27T14:34:52.597Z"
   },
   {
    "duration": 0,
    "start_time": "2024-08-27T14:34:53.097Z"
   },
   {
    "duration": 0,
    "start_time": "2024-08-27T14:34:53.098Z"
   },
   {
    "duration": 0,
    "start_time": "2024-08-27T14:34:53.099Z"
   },
   {
    "duration": 0,
    "start_time": "2024-08-27T14:34:53.101Z"
   },
   {
    "duration": 0,
    "start_time": "2024-08-27T14:34:53.102Z"
   },
   {
    "duration": 0,
    "start_time": "2024-08-27T14:34:53.103Z"
   },
   {
    "duration": 0,
    "start_time": "2024-08-27T14:34:53.104Z"
   },
   {
    "duration": 202,
    "start_time": "2024-08-27T14:35:01.120Z"
   },
   {
    "duration": 197,
    "start_time": "2024-08-27T14:35:29.506Z"
   },
   {
    "duration": 863,
    "start_time": "2024-08-27T14:36:14.543Z"
   },
   {
    "duration": 155,
    "start_time": "2024-08-27T14:36:15.408Z"
   },
   {
    "duration": 10,
    "start_time": "2024-08-27T14:36:15.565Z"
   },
   {
    "duration": 10,
    "start_time": "2024-08-27T14:36:15.578Z"
   },
   {
    "duration": 10,
    "start_time": "2024-08-27T14:36:15.590Z"
   },
   {
    "duration": 8,
    "start_time": "2024-08-27T14:36:15.602Z"
   },
   {
    "duration": 34,
    "start_time": "2024-08-27T14:36:15.611Z"
   },
   {
    "duration": 9,
    "start_time": "2024-08-27T14:36:15.647Z"
   },
   {
    "duration": 9,
    "start_time": "2024-08-27T14:36:15.658Z"
   },
   {
    "duration": 5,
    "start_time": "2024-08-27T14:36:15.671Z"
   },
   {
    "duration": 9,
    "start_time": "2024-08-27T14:36:15.678Z"
   },
   {
    "duration": 11,
    "start_time": "2024-08-27T14:36:15.689Z"
   },
   {
    "duration": 56,
    "start_time": "2024-08-27T14:36:15.701Z"
   },
   {
    "duration": 7,
    "start_time": "2024-08-27T14:36:15.759Z"
   },
   {
    "duration": 16,
    "start_time": "2024-08-27T14:36:15.768Z"
   },
   {
    "duration": 14,
    "start_time": "2024-08-27T14:36:15.786Z"
   },
   {
    "duration": 5,
    "start_time": "2024-08-27T14:36:15.801Z"
   },
   {
    "duration": 41,
    "start_time": "2024-08-27T14:36:15.808Z"
   },
   {
    "duration": 9,
    "start_time": "2024-08-27T14:36:15.851Z"
   },
   {
    "duration": 8,
    "start_time": "2024-08-27T14:36:15.862Z"
   },
   {
    "duration": 29,
    "start_time": "2024-08-27T14:36:15.871Z"
   },
   {
    "duration": 41,
    "start_time": "2024-08-27T14:36:15.902Z"
   },
   {
    "duration": 7,
    "start_time": "2024-08-27T14:36:15.944Z"
   },
   {
    "duration": 10,
    "start_time": "2024-08-27T14:36:15.953Z"
   },
   {
    "duration": 11,
    "start_time": "2024-08-27T14:36:15.964Z"
   },
   {
    "duration": 6,
    "start_time": "2024-08-27T14:36:15.976Z"
   },
   {
    "duration": 7,
    "start_time": "2024-08-27T14:36:15.984Z"
   },
   {
    "duration": 47,
    "start_time": "2024-08-27T14:36:15.996Z"
   },
   {
    "duration": 7,
    "start_time": "2024-08-27T14:36:16.045Z"
   },
   {
    "duration": 13,
    "start_time": "2024-08-27T14:36:16.054Z"
   },
   {
    "duration": 12,
    "start_time": "2024-08-27T14:36:16.069Z"
   },
   {
    "duration": 6,
    "start_time": "2024-08-27T14:36:16.083Z"
   },
   {
    "duration": 8,
    "start_time": "2024-08-27T14:36:16.090Z"
   },
   {
    "duration": 44,
    "start_time": "2024-08-27T14:36:16.099Z"
   },
   {
    "duration": 24,
    "start_time": "2024-08-27T14:36:16.146Z"
   },
   {
    "duration": 18,
    "start_time": "2024-08-27T14:36:16.172Z"
   },
   {
    "duration": 17,
    "start_time": "2024-08-27T14:36:16.192Z"
   },
   {
    "duration": 42,
    "start_time": "2024-08-27T14:36:16.211Z"
   },
   {
    "duration": 11,
    "start_time": "2024-08-27T14:36:16.255Z"
   },
   {
    "duration": 10,
    "start_time": "2024-08-27T14:36:16.268Z"
   },
   {
    "duration": 7,
    "start_time": "2024-08-27T14:36:16.280Z"
   },
   {
    "duration": 6,
    "start_time": "2024-08-27T14:36:16.289Z"
   },
   {
    "duration": 47,
    "start_time": "2024-08-27T14:36:16.298Z"
   },
   {
    "duration": 19,
    "start_time": "2024-08-27T14:36:16.346Z"
   },
   {
    "duration": 10,
    "start_time": "2024-08-27T14:36:16.366Z"
   },
   {
    "duration": 11,
    "start_time": "2024-08-27T14:36:16.377Z"
   },
   {
    "duration": 2,
    "start_time": "2024-08-27T14:36:16.390Z"
   },
   {
    "duration": 48,
    "start_time": "2024-08-27T14:36:16.394Z"
   },
   {
    "duration": 15,
    "start_time": "2024-08-27T14:36:16.444Z"
   },
   {
    "duration": 15,
    "start_time": "2024-08-27T14:36:16.462Z"
   },
   {
    "duration": 13,
    "start_time": "2024-08-27T14:36:16.479Z"
   },
   {
    "duration": 16,
    "start_time": "2024-08-27T14:36:16.494Z"
   },
   {
    "duration": 44,
    "start_time": "2024-08-27T14:36:16.511Z"
   },
   {
    "duration": 26,
    "start_time": "2024-08-27T14:36:16.556Z"
   },
   {
    "duration": 225,
    "start_time": "2024-08-27T14:36:16.584Z"
   },
   {
    "duration": 2,
    "start_time": "2024-08-27T14:36:16.811Z"
   },
   {
    "duration": 2,
    "start_time": "2024-08-27T14:36:16.815Z"
   },
   {
    "duration": 2,
    "start_time": "2024-08-27T14:36:16.821Z"
   },
   {
    "duration": 20,
    "start_time": "2024-08-27T14:36:16.824Z"
   },
   {
    "duration": 2,
    "start_time": "2024-08-27T14:36:16.846Z"
   },
   {
    "duration": 2,
    "start_time": "2024-08-27T14:36:16.850Z"
   },
   {
    "duration": 3,
    "start_time": "2024-08-27T14:36:16.854Z"
   },
   {
    "duration": 252,
    "start_time": "2024-08-27T14:38:42.647Z"
   },
   {
    "duration": 6,
    "start_time": "2024-08-27T14:39:02.978Z"
   },
   {
    "duration": 201,
    "start_time": "2024-08-27T14:39:13.107Z"
   },
   {
    "duration": 197,
    "start_time": "2024-08-27T14:39:59.817Z"
   },
   {
    "duration": 6,
    "start_time": "2024-08-27T14:41:45.480Z"
   },
   {
    "duration": 134,
    "start_time": "2024-08-27T14:41:53.003Z"
   },
   {
    "duration": 14,
    "start_time": "2024-08-27T14:42:00.293Z"
   },
   {
    "duration": 7,
    "start_time": "2024-08-27T14:42:40.940Z"
   },
   {
    "duration": 5,
    "start_time": "2024-08-27T14:42:49.544Z"
   },
   {
    "duration": 4,
    "start_time": "2024-08-27T14:42:52.877Z"
   },
   {
    "duration": 7,
    "start_time": "2024-08-27T14:42:58.606Z"
   },
   {
    "duration": 197,
    "start_time": "2024-08-27T14:43:41.100Z"
   },
   {
    "duration": 605,
    "start_time": "2024-08-27T14:44:12.674Z"
   },
   {
    "duration": 188,
    "start_time": "2024-08-27T14:44:27.177Z"
   },
   {
    "duration": 53,
    "start_time": "2024-08-27T14:44:47.268Z"
   },
   {
    "duration": 307,
    "start_time": "2024-08-27T14:45:29.072Z"
   },
   {
    "duration": 7,
    "start_time": "2024-08-27T14:48:17.476Z"
   },
   {
    "duration": 12,
    "start_time": "2024-08-27T14:49:23.752Z"
   },
   {
    "duration": 7,
    "start_time": "2024-08-27T14:49:41.822Z"
   },
   {
    "duration": 14,
    "start_time": "2024-08-27T14:55:05.783Z"
   },
   {
    "duration": 14,
    "start_time": "2024-08-27T14:55:22.556Z"
   },
   {
    "duration": 171,
    "start_time": "2024-08-27T14:57:47.842Z"
   },
   {
    "duration": 159,
    "start_time": "2024-08-27T14:58:33.168Z"
   },
   {
    "duration": 14,
    "start_time": "2024-08-27T15:13:14.631Z"
   },
   {
    "duration": 158,
    "start_time": "2024-08-27T15:13:42.010Z"
   },
   {
    "duration": 15,
    "start_time": "2024-08-27T15:15:45.707Z"
   },
   {
    "duration": 163,
    "start_time": "2024-08-27T15:15:59.549Z"
   },
   {
    "duration": 83,
    "start_time": "2024-08-27T15:26:34.799Z"
   },
   {
    "duration": 186,
    "start_time": "2024-08-27T15:27:59.137Z"
   },
   {
    "duration": 158,
    "start_time": "2024-08-27T15:28:33.006Z"
   },
   {
    "duration": 159,
    "start_time": "2024-08-27T15:38:41.056Z"
   },
   {
    "duration": 169,
    "start_time": "2024-08-27T15:41:31.526Z"
   },
   {
    "duration": 157,
    "start_time": "2024-08-27T15:43:54.265Z"
   },
   {
    "duration": 17,
    "start_time": "2024-08-27T16:02:43.235Z"
   },
   {
    "duration": 8,
    "start_time": "2024-08-27T16:03:01.418Z"
   },
   {
    "duration": 118,
    "start_time": "2024-08-27T16:12:25.167Z"
   },
   {
    "duration": 96,
    "start_time": "2024-08-27T16:12:52.414Z"
   },
   {
    "duration": 105,
    "start_time": "2024-08-27T16:12:56.194Z"
   },
   {
    "duration": 8,
    "start_time": "2024-08-27T16:45:06.099Z"
   },
   {
    "duration": 231,
    "start_time": "2024-08-27T16:45:14.578Z"
   },
   {
    "duration": 224,
    "start_time": "2024-08-27T16:50:05.770Z"
   },
   {
    "duration": 8,
    "start_time": "2024-08-27T16:57:32.674Z"
   },
   {
    "duration": 98,
    "start_time": "2024-08-27T16:58:27.863Z"
   },
   {
    "duration": 165,
    "start_time": "2024-08-27T17:02:58.524Z"
   },
   {
    "duration": 9,
    "start_time": "2024-08-27T17:04:00.536Z"
   },
   {
    "duration": 110,
    "start_time": "2024-08-27T17:07:11.360Z"
   },
   {
    "duration": 155,
    "start_time": "2024-08-27T17:14:19.098Z"
   },
   {
    "duration": 144,
    "start_time": "2024-08-27T17:14:32.106Z"
   },
   {
    "duration": 11,
    "start_time": "2024-08-27T17:15:39.254Z"
   },
   {
    "duration": 101,
    "start_time": "2024-08-27T17:20:23.317Z"
   },
   {
    "duration": 6,
    "start_time": "2024-08-27T17:36:55.029Z"
   },
   {
    "duration": 5,
    "start_time": "2024-08-27T17:46:01.509Z"
   },
   {
    "duration": 28,
    "start_time": "2024-08-27T18:01:20.907Z"
   },
   {
    "duration": 35,
    "start_time": "2024-08-27T18:01:41.532Z"
   },
   {
    "duration": 24,
    "start_time": "2024-08-27T18:03:44.680Z"
   },
   {
    "duration": 39,
    "start_time": "2024-08-27T18:04:21.824Z"
   },
   {
    "duration": 27,
    "start_time": "2024-08-27T18:04:34.012Z"
   },
   {
    "duration": 106,
    "start_time": "2024-08-27T18:04:48.786Z"
   },
   {
    "duration": 5,
    "start_time": "2024-08-27T18:06:22.216Z"
   },
   {
    "duration": 4,
    "start_time": "2024-08-27T18:06:28.215Z"
   },
   {
    "duration": 102,
    "start_time": "2024-08-27T18:07:36.609Z"
   },
   {
    "duration": 79,
    "start_time": "2024-08-27T18:07:51.756Z"
   },
   {
    "duration": 108,
    "start_time": "2024-08-27T18:08:36.497Z"
   },
   {
    "duration": 86,
    "start_time": "2024-08-27T18:08:44.895Z"
   },
   {
    "duration": 49,
    "start_time": "2024-08-27T18:09:05.367Z"
   },
   {
    "duration": 63,
    "start_time": "2024-08-27T18:12:25.905Z"
   },
   {
    "duration": 22,
    "start_time": "2024-08-27T18:13:10.378Z"
   },
   {
    "duration": 23,
    "start_time": "2024-08-27T18:13:27.530Z"
   },
   {
    "duration": 21,
    "start_time": "2024-08-27T18:13:37.781Z"
   },
   {
    "duration": 19,
    "start_time": "2024-08-27T18:15:42.267Z"
   },
   {
    "duration": 17,
    "start_time": "2024-08-27T18:15:57.918Z"
   },
   {
    "duration": 10,
    "start_time": "2024-08-27T18:16:02.525Z"
   },
   {
    "duration": 6,
    "start_time": "2024-08-27T19:01:05.772Z"
   },
   {
    "duration": 18,
    "start_time": "2024-08-27T19:01:17.782Z"
   },
   {
    "duration": 5,
    "start_time": "2024-08-27T19:02:20.299Z"
   },
   {
    "duration": 14,
    "start_time": "2024-08-27T19:02:37.045Z"
   },
   {
    "duration": 27,
    "start_time": "2024-08-27T19:05:38.052Z"
   },
   {
    "duration": 5,
    "start_time": "2024-08-27T19:10:54.915Z"
   },
   {
    "duration": 18,
    "start_time": "2024-08-27T19:14:52.353Z"
   },
   {
    "duration": 8,
    "start_time": "2024-08-27T19:15:03.412Z"
   },
   {
    "duration": 159,
    "start_time": "2024-08-27T19:18:11.446Z"
   },
   {
    "duration": 3,
    "start_time": "2024-08-27T19:21:51.220Z"
   },
   {
    "duration": 15,
    "start_time": "2024-08-27T19:22:12.226Z"
   },
   {
    "duration": 3,
    "start_time": "2024-08-27T19:22:25.817Z"
   },
   {
    "duration": 4,
    "start_time": "2024-08-27T19:22:48.264Z"
   },
   {
    "duration": 3,
    "start_time": "2024-08-27T19:23:11.654Z"
   },
   {
    "duration": 4,
    "start_time": "2024-08-27T19:23:56.227Z"
   },
   {
    "duration": 4,
    "start_time": "2024-08-27T19:25:05.343Z"
   },
   {
    "duration": 3,
    "start_time": "2024-08-27T19:25:48.835Z"
   },
   {
    "duration": 5,
    "start_time": "2024-08-27T19:26:31.261Z"
   },
   {
    "duration": 3,
    "start_time": "2024-08-27T19:26:58.375Z"
   },
   {
    "duration": 5,
    "start_time": "2024-08-27T19:29:53.951Z"
   },
   {
    "duration": 4,
    "start_time": "2024-08-27T19:31:05.962Z"
   },
   {
    "duration": 4,
    "start_time": "2024-08-27T19:31:46.214Z"
   },
   {
    "duration": 2478,
    "start_time": "2024-08-27T23:13:57.994Z"
   },
   {
    "duration": 244,
    "start_time": "2024-08-27T23:14:00.474Z"
   },
   {
    "duration": 9,
    "start_time": "2024-08-27T23:14:00.719Z"
   },
   {
    "duration": 10,
    "start_time": "2024-08-27T23:14:00.731Z"
   },
   {
    "duration": 8,
    "start_time": "2024-08-27T23:14:00.743Z"
   },
   {
    "duration": 8,
    "start_time": "2024-08-27T23:14:00.753Z"
   },
   {
    "duration": 8,
    "start_time": "2024-08-27T23:14:00.762Z"
   },
   {
    "duration": 8,
    "start_time": "2024-08-27T23:14:00.771Z"
   },
   {
    "duration": 44,
    "start_time": "2024-08-27T23:14:00.781Z"
   },
   {
    "duration": 5,
    "start_time": "2024-08-27T23:14:00.828Z"
   },
   {
    "duration": 8,
    "start_time": "2024-08-27T23:14:00.834Z"
   },
   {
    "duration": 9,
    "start_time": "2024-08-27T23:14:00.844Z"
   },
   {
    "duration": 15,
    "start_time": "2024-08-27T23:14:00.855Z"
   },
   {
    "duration": 6,
    "start_time": "2024-08-27T23:14:00.872Z"
   },
   {
    "duration": 48,
    "start_time": "2024-08-27T23:14:00.879Z"
   },
   {
    "duration": 13,
    "start_time": "2024-08-27T23:14:00.928Z"
   },
   {
    "duration": 4,
    "start_time": "2024-08-27T23:14:00.942Z"
   },
   {
    "duration": 7,
    "start_time": "2024-08-27T23:14:00.947Z"
   },
   {
    "duration": 7,
    "start_time": "2024-08-27T23:14:00.956Z"
   },
   {
    "duration": 7,
    "start_time": "2024-08-27T23:14:00.965Z"
   },
   {
    "duration": 58,
    "start_time": "2024-08-27T23:14:00.974Z"
   },
   {
    "duration": 13,
    "start_time": "2024-08-27T23:14:01.034Z"
   },
   {
    "duration": 7,
    "start_time": "2024-08-27T23:14:01.049Z"
   },
   {
    "duration": 10,
    "start_time": "2024-08-27T23:14:01.058Z"
   },
   {
    "duration": 11,
    "start_time": "2024-08-27T23:14:01.070Z"
   },
   {
    "duration": 6,
    "start_time": "2024-08-27T23:14:01.083Z"
   },
   {
    "duration": 39,
    "start_time": "2024-08-27T23:14:01.090Z"
   },
   {
    "duration": 12,
    "start_time": "2024-08-27T23:14:01.135Z"
   },
   {
    "duration": 6,
    "start_time": "2024-08-27T23:14:01.149Z"
   },
   {
    "duration": 12,
    "start_time": "2024-08-27T23:14:01.156Z"
   },
   {
    "duration": 12,
    "start_time": "2024-08-27T23:14:01.170Z"
   },
   {
    "duration": 12,
    "start_time": "2024-08-27T23:14:01.184Z"
   },
   {
    "duration": 8,
    "start_time": "2024-08-27T23:14:01.223Z"
   },
   {
    "duration": 7,
    "start_time": "2024-08-27T23:14:01.232Z"
   },
   {
    "duration": 22,
    "start_time": "2024-08-27T23:14:01.241Z"
   },
   {
    "duration": 17,
    "start_time": "2024-08-27T23:14:01.266Z"
   },
   {
    "duration": 46,
    "start_time": "2024-08-27T23:14:01.285Z"
   },
   {
    "duration": 15,
    "start_time": "2024-08-27T23:14:01.333Z"
   },
   {
    "duration": 8,
    "start_time": "2024-08-27T23:14:01.349Z"
   },
   {
    "duration": 11,
    "start_time": "2024-08-27T23:14:01.359Z"
   },
   {
    "duration": 7,
    "start_time": "2024-08-27T23:14:01.371Z"
   },
   {
    "duration": 6,
    "start_time": "2024-08-27T23:14:01.379Z"
   },
   {
    "duration": 47,
    "start_time": "2024-08-27T23:14:01.386Z"
   },
   {
    "duration": 18,
    "start_time": "2024-08-27T23:14:01.434Z"
   },
   {
    "duration": 9,
    "start_time": "2024-08-27T23:14:01.453Z"
   },
   {
    "duration": 10,
    "start_time": "2024-08-27T23:14:01.464Z"
   },
   {
    "duration": 3,
    "start_time": "2024-08-27T23:14:01.476Z"
   },
   {
    "duration": 46,
    "start_time": "2024-08-27T23:14:01.481Z"
   },
   {
    "duration": 14,
    "start_time": "2024-08-27T23:14:01.528Z"
   },
   {
    "duration": 14,
    "start_time": "2024-08-27T23:14:01.544Z"
   },
   {
    "duration": 13,
    "start_time": "2024-08-27T23:14:01.560Z"
   },
   {
    "duration": 15,
    "start_time": "2024-08-27T23:14:01.574Z"
   },
   {
    "duration": 44,
    "start_time": "2024-08-27T23:14:01.591Z"
   },
   {
    "duration": 23,
    "start_time": "2024-08-27T23:14:01.637Z"
   },
   {
    "duration": 175,
    "start_time": "2024-08-27T23:14:01.661Z"
   },
   {
    "duration": 161,
    "start_time": "2024-08-27T23:14:01.838Z"
   },
   {
    "duration": 8,
    "start_time": "2024-08-27T23:14:02.001Z"
   },
   {
    "duration": 121,
    "start_time": "2024-08-27T23:14:02.011Z"
   },
   {
    "duration": 161,
    "start_time": "2024-08-27T23:14:02.133Z"
   },
   {
    "duration": 9,
    "start_time": "2024-08-27T23:14:02.295Z"
   },
   {
    "duration": 152,
    "start_time": "2024-08-27T23:14:02.305Z"
   },
   {
    "duration": 161,
    "start_time": "2024-08-27T23:14:02.459Z"
   },
   {
    "duration": 9,
    "start_time": "2024-08-27T23:14:02.623Z"
   },
   {
    "duration": 115,
    "start_time": "2024-08-27T23:14:02.633Z"
   },
   {
    "duration": 141,
    "start_time": "2024-08-27T23:14:02.750Z"
   },
   {
    "duration": 7,
    "start_time": "2024-08-27T23:14:02.893Z"
   },
   {
    "duration": 112,
    "start_time": "2024-08-27T23:14:02.901Z"
   },
   {
    "duration": 16,
    "start_time": "2024-08-27T23:14:03.015Z"
   },
   {
    "duration": 18,
    "start_time": "2024-08-27T23:14:03.032Z"
   },
   {
    "duration": 16,
    "start_time": "2024-08-27T23:14:03.051Z"
   },
   {
    "duration": 9,
    "start_time": "2024-08-27T23:14:03.068Z"
   },
   {
    "duration": 13,
    "start_time": "2024-08-27T23:14:03.078Z"
   },
   {
    "duration": 31,
    "start_time": "2024-08-27T23:14:03.094Z"
   },
   {
    "duration": 3,
    "start_time": "2024-08-27T23:14:03.127Z"
   },
   {
    "duration": 14,
    "start_time": "2024-08-27T23:14:03.132Z"
   },
   {
    "duration": 4,
    "start_time": "2024-08-27T23:14:03.148Z"
   },
   {
    "duration": 3,
    "start_time": "2024-08-27T23:14:03.154Z"
   },
   {
    "duration": 5,
    "start_time": "2024-08-27T23:14:03.158Z"
   },
   {
    "duration": 18,
    "start_time": "2024-08-28T00:08:05.301Z"
   }
  ],
  "colab": {
   "provenance": []
  },
  "kernelspec": {
   "display_name": "Python 3 (ipykernel)",
   "language": "python",
   "name": "python3"
  },
  "language_info": {
   "codemirror_mode": {
    "name": "ipython",
    "version": 3
   },
   "file_extension": ".py",
   "mimetype": "text/x-python",
   "name": "python",
   "nbconvert_exporter": "python",
   "pygments_lexer": "ipython3",
   "version": "3.9.19"
  },
  "toc": {
   "base_numbering": 1,
   "nav_menu": {},
   "number_sections": true,
   "sideBar": true,
   "skip_h1_title": false,
   "title_cell": "Table of Contents",
   "title_sidebar": "Contents",
   "toc_cell": false,
   "toc_position": {
    "height": "calc(100% - 180px)",
    "left": "10px",
    "top": "150px",
    "width": "245.683px"
   },
   "toc_section_display": true,
   "toc_window_display": true
  }
 },
 "nbformat": 4,
 "nbformat_minor": 1
}
